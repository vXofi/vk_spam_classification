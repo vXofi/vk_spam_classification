{
 "cells": [
  {
   "cell_type": "code",
   "execution_count": 1,
   "id": "c06a58db",
   "metadata": {
    "_cell_guid": "b1076dfc-b9ad-4769-8c92-a6c4dae69d19",
    "_uuid": "8f2839f25d086af736a60e9eeb907d3b93b6e0e5",
    "execution": {
     "iopub.execute_input": "2024-05-02T20:01:10.330262Z",
     "iopub.status.busy": "2024-05-02T20:01:10.329919Z",
     "iopub.status.idle": "2024-05-02T20:01:19.285073Z",
     "shell.execute_reply": "2024-05-02T20:01:19.284260Z"
    },
    "papermill": {
     "duration": 8.971295,
     "end_time": "2024-05-02T20:01:19.287518",
     "exception": false,
     "start_time": "2024-05-02T20:01:10.316223",
     "status": "completed"
    },
    "tags": []
   },
   "outputs": [],
   "source": [
    "import numpy as np\n",
    "import pandas as pd\n",
    "import matplotlib.pyplot as plt\n",
    "from sklearn.model_selection import train_test_split\n",
    "from sklearn.naive_bayes import MultinomialNB\n",
    "from sklearn.svm import SVC\n",
    "from sklearn.ensemble import RandomForestClassifier\n",
    "from sklearn.metrics import roc_auc_score, accuracy_score, classification_report, confusion_matrix, ConfusionMatrixDisplay\n",
    "from sklearn.feature_extraction.text import TfidfVectorizer\n",
    "from tqdm import tqdm\n",
    "import torch\n",
    "import torch.nn as nn\n",
    "import torch.optim as optim\n",
    "from torch.utils.data import Dataset, DataLoader\n",
    "\n",
    "from transformers import BertTokenizer, BertModel, AdamW, get_linear_schedule_with_warmup"
   ]
  },
  {
   "cell_type": "code",
   "execution_count": 2,
   "id": "93fad60a",
   "metadata": {
    "execution": {
     "iopub.execute_input": "2024-05-02T20:01:19.312484Z",
     "iopub.status.busy": "2024-05-02T20:01:19.311463Z",
     "iopub.status.idle": "2024-05-02T20:01:19.577602Z",
     "shell.execute_reply": "2024-05-02T20:01:19.576742Z"
    },
    "papermill": {
     "duration": 0.281093,
     "end_time": "2024-05-02T20:01:19.580135",
     "exception": false,
     "start_time": "2024-05-02T20:01:19.299042",
     "status": "completed"
    },
    "tags": []
   },
   "outputs": [],
   "source": [
    "train = pd.read_csv(\"/kaggle/input/vk-spam-ham/train_spam.csv\")\n",
    "unk_test = pd.read_csv(\"/kaggle/input/vk-spam-ham/test_spam.csv\")"
   ]
  },
  {
   "cell_type": "markdown",
   "id": "6ec88603",
   "metadata": {
    "papermill": {
     "duration": 0.010779,
     "end_time": "2024-05-02T20:01:19.602184",
     "exception": false,
     "start_time": "2024-05-02T20:01:19.591405",
     "status": "completed"
    },
    "tags": []
   },
   "source": [
    "# Dataset review"
   ]
  },
  {
   "cell_type": "code",
   "execution_count": 3,
   "id": "a8d615e9",
   "metadata": {
    "execution": {
     "iopub.execute_input": "2024-05-02T20:01:19.626834Z",
     "iopub.status.busy": "2024-05-02T20:01:19.626378Z",
     "iopub.status.idle": "2024-05-02T20:01:19.644667Z",
     "shell.execute_reply": "2024-05-02T20:01:19.643737Z"
    },
    "papermill": {
     "duration": 0.033571,
     "end_time": "2024-05-02T20:01:19.646673",
     "exception": false,
     "start_time": "2024-05-02T20:01:19.613102",
     "status": "completed"
    },
    "tags": []
   },
   "outputs": [
    {
     "data": {
      "text/html": [
       "<div>\n",
       "<style scoped>\n",
       "    .dataframe tbody tr th:only-of-type {\n",
       "        vertical-align: middle;\n",
       "    }\n",
       "\n",
       "    .dataframe tbody tr th {\n",
       "        vertical-align: top;\n",
       "    }\n",
       "\n",
       "    .dataframe thead th {\n",
       "        text-align: right;\n",
       "    }\n",
       "</style>\n",
       "<table border=\"1\" class=\"dataframe\">\n",
       "  <thead>\n",
       "    <tr style=\"text-align: right;\">\n",
       "      <th></th>\n",
       "      <th>text_type</th>\n",
       "      <th>text</th>\n",
       "    </tr>\n",
       "  </thead>\n",
       "  <tbody>\n",
       "    <tr>\n",
       "      <th>0</th>\n",
       "      <td>ham</td>\n",
       "      <td>make sure alex knows his birthday is over in f...</td>\n",
       "    </tr>\n",
       "    <tr>\n",
       "      <th>1</th>\n",
       "      <td>ham</td>\n",
       "      <td>a resume for john lavorato thanks vince i will...</td>\n",
       "    </tr>\n",
       "    <tr>\n",
       "      <th>2</th>\n",
       "      <td>spam</td>\n",
       "      <td>plzz visit my website moviesgodml to get all m...</td>\n",
       "    </tr>\n",
       "    <tr>\n",
       "      <th>3</th>\n",
       "      <td>spam</td>\n",
       "      <td>urgent your mobile number has been awarded wit...</td>\n",
       "    </tr>\n",
       "    <tr>\n",
       "      <th>4</th>\n",
       "      <td>ham</td>\n",
       "      <td>overview of hr associates analyst project per ...</td>\n",
       "    </tr>\n",
       "  </tbody>\n",
       "</table>\n",
       "</div>"
      ],
      "text/plain": [
       "  text_type                                               text\n",
       "0       ham  make sure alex knows his birthday is over in f...\n",
       "1       ham  a resume for john lavorato thanks vince i will...\n",
       "2      spam  plzz visit my website moviesgodml to get all m...\n",
       "3      spam  urgent your mobile number has been awarded wit...\n",
       "4       ham  overview of hr associates analyst project per ..."
      ]
     },
     "execution_count": 3,
     "metadata": {},
     "output_type": "execute_result"
    }
   ],
   "source": [
    "train.head()"
   ]
  },
  {
   "cell_type": "code",
   "execution_count": 4,
   "id": "67806da5",
   "metadata": {
    "execution": {
     "iopub.execute_input": "2024-05-02T20:01:19.672723Z",
     "iopub.status.busy": "2024-05-02T20:01:19.669719Z",
     "iopub.status.idle": "2024-05-02T20:01:19.681161Z",
     "shell.execute_reply": "2024-05-02T20:01:19.679941Z"
    },
    "papermill": {
     "duration": 0.025782,
     "end_time": "2024-05-02T20:01:19.683640",
     "exception": false,
     "start_time": "2024-05-02T20:01:19.657858",
     "status": "completed"
    },
    "tags": []
   },
   "outputs": [
    {
     "data": {
      "text/html": [
       "<div>\n",
       "<style scoped>\n",
       "    .dataframe tbody tr th:only-of-type {\n",
       "        vertical-align: middle;\n",
       "    }\n",
       "\n",
       "    .dataframe tbody tr th {\n",
       "        vertical-align: top;\n",
       "    }\n",
       "\n",
       "    .dataframe thead th {\n",
       "        text-align: right;\n",
       "    }\n",
       "</style>\n",
       "<table border=\"1\" class=\"dataframe\">\n",
       "  <thead>\n",
       "    <tr style=\"text-align: right;\">\n",
       "      <th></th>\n",
       "      <th>text</th>\n",
       "    </tr>\n",
       "  </thead>\n",
       "  <tbody>\n",
       "    <tr>\n",
       "      <th>0</th>\n",
       "      <td>j jim whitehead ejw cse ucsc edu writes j you ...</td>\n",
       "    </tr>\n",
       "    <tr>\n",
       "      <th>1</th>\n",
       "      <td>original message from bitbitch magnesium net p...</td>\n",
       "    </tr>\n",
       "    <tr>\n",
       "      <th>2</th>\n",
       "      <td>java for managers vince durasoft who just taug...</td>\n",
       "    </tr>\n",
       "    <tr>\n",
       "      <th>3</th>\n",
       "      <td>there is a youtuber name saiman says</td>\n",
       "    </tr>\n",
       "    <tr>\n",
       "      <th>4</th>\n",
       "      <td>underpriced issue with high return on equity t...</td>\n",
       "    </tr>\n",
       "  </tbody>\n",
       "</table>\n",
       "</div>"
      ],
      "text/plain": [
       "                                                text\n",
       "0  j jim whitehead ejw cse ucsc edu writes j you ...\n",
       "1  original message from bitbitch magnesium net p...\n",
       "2  java for managers vince durasoft who just taug...\n",
       "3               there is a youtuber name saiman says\n",
       "4  underpriced issue with high return on equity t..."
      ]
     },
     "execution_count": 4,
     "metadata": {},
     "output_type": "execute_result"
    }
   ],
   "source": [
    "unk_test.head()"
   ]
  },
  {
   "cell_type": "code",
   "execution_count": 5,
   "id": "2f36092e",
   "metadata": {
    "execution": {
     "iopub.execute_input": "2024-05-02T20:01:19.707517Z",
     "iopub.status.busy": "2024-05-02T20:01:19.707192Z",
     "iopub.status.idle": "2024-05-02T20:01:20.199830Z",
     "shell.execute_reply": "2024-05-02T20:01:20.198890Z"
    },
    "papermill": {
     "duration": 0.507058,
     "end_time": "2024-05-02T20:01:20.202041",
     "exception": false,
     "start_time": "2024-05-02T20:01:19.694983",
     "status": "completed"
    },
    "tags": []
   },
   "outputs": [
    {
     "data": {
      "text/plain": [
       "0"
      ]
     },
     "execution_count": 5,
     "metadata": {},
     "output_type": "execute_result"
    }
   ],
   "source": [
    "sum([1 if \",\" in words else 0 for text in train['text'] for words in text])"
   ]
  },
  {
   "cell_type": "markdown",
   "id": "f51d1e5b",
   "metadata": {
    "papermill": {
     "duration": 0.011411,
     "end_time": "2024-05-02T20:01:20.225054",
     "exception": false,
     "start_time": "2024-05-02T20:01:20.213643",
     "status": "completed"
    },
    "tags": []
   },
   "source": [
    "Text is given without comma punctuation. We dont want to remove other special symbols, which are present in the text, because such processing could decrease prediction quality in our particular problem."
   ]
  },
  {
   "cell_type": "markdown",
   "id": "d3a8b253",
   "metadata": {
    "papermill": {
     "duration": 0.011557,
     "end_time": "2024-05-02T20:01:20.248428",
     "exception": false,
     "start_time": "2024-05-02T20:01:20.236871",
     "status": "completed"
    },
    "tags": []
   },
   "source": [
    "Checking ratio of classes:"
   ]
  },
  {
   "cell_type": "code",
   "execution_count": 6,
   "id": "39865b69",
   "metadata": {
    "execution": {
     "iopub.execute_input": "2024-05-02T20:01:20.274613Z",
     "iopub.status.busy": "2024-05-02T20:01:20.273716Z",
     "iopub.status.idle": "2024-05-02T20:01:20.290217Z",
     "shell.execute_reply": "2024-05-02T20:01:20.289200Z"
    },
    "papermill": {
     "duration": 0.032417,
     "end_time": "2024-05-02T20:01:20.292336",
     "exception": false,
     "start_time": "2024-05-02T20:01:20.259919",
     "status": "completed"
    },
    "tags": []
   },
   "outputs": [
    {
     "data": {
      "text/plain": [
       "text_type\n",
       "ham     11469\n",
       "spam     4809\n",
       "Name: count, dtype: int64"
      ]
     },
     "execution_count": 6,
     "metadata": {},
     "output_type": "execute_result"
    }
   ],
   "source": [
    "train['text_type'].value_counts()"
   ]
  },
  {
   "cell_type": "markdown",
   "id": "a0f63196",
   "metadata": {
    "papermill": {
     "duration": 0.013385,
     "end_time": "2024-05-02T20:01:20.318848",
     "exception": false,
     "start_time": "2024-05-02T20:01:20.305463",
     "status": "completed"
    },
    "tags": []
   },
   "source": [
    "and maximum text length:"
   ]
  },
  {
   "cell_type": "code",
   "execution_count": 7,
   "id": "21dea64d",
   "metadata": {
    "execution": {
     "iopub.execute_input": "2024-05-02T20:01:20.346182Z",
     "iopub.status.busy": "2024-05-02T20:01:20.345764Z",
     "iopub.status.idle": "2024-05-02T20:01:20.357621Z",
     "shell.execute_reply": "2024-05-02T20:01:20.356730Z"
    },
    "papermill": {
     "duration": 0.027785,
     "end_time": "2024-05-02T20:01:20.359575",
     "exception": false,
     "start_time": "2024-05-02T20:01:20.331790",
     "status": "completed"
    },
    "tags": []
   },
   "outputs": [
    {
     "data": {
      "text/plain": [
       "800"
      ]
     },
     "execution_count": 7,
     "metadata": {},
     "output_type": "execute_result"
    }
   ],
   "source": [
    "max(len(t) for t in train[\"text\"])"
   ]
  },
  {
   "cell_type": "code",
   "execution_count": 8,
   "id": "2783ecd6",
   "metadata": {
    "execution": {
     "iopub.execute_input": "2024-05-02T20:01:20.385009Z",
     "iopub.status.busy": "2024-05-02T20:01:20.384332Z",
     "iopub.status.idle": "2024-05-02T20:01:20.392038Z",
     "shell.execute_reply": "2024-05-02T20:01:20.391157Z"
    },
    "papermill": {
     "duration": 0.022879,
     "end_time": "2024-05-02T20:01:20.393995",
     "exception": false,
     "start_time": "2024-05-02T20:01:20.371116",
     "status": "completed"
    },
    "tags": []
   },
   "outputs": [
    {
     "data": {
      "text/plain": [
       "800"
      ]
     },
     "execution_count": 8,
     "metadata": {},
     "output_type": "execute_result"
    }
   ],
   "source": [
    "max(len(t) for t in unk_test[\"text\"])"
   ]
  },
  {
   "cell_type": "code",
   "execution_count": 9,
   "id": "4942c106",
   "metadata": {
    "execution": {
     "iopub.execute_input": "2024-05-02T20:01:20.419691Z",
     "iopub.status.busy": "2024-05-02T20:01:20.418935Z",
     "iopub.status.idle": "2024-05-02T20:01:20.428642Z",
     "shell.execute_reply": "2024-05-02T20:01:20.427666Z"
    },
    "papermill": {
     "duration": 0.024704,
     "end_time": "2024-05-02T20:01:20.430779",
     "exception": false,
     "start_time": "2024-05-02T20:01:20.406075",
     "status": "completed"
    },
    "tags": []
   },
   "outputs": [],
   "source": [
    "train, val = train_test_split(train, test_size=0.2)"
   ]
  },
  {
   "cell_type": "markdown",
   "id": "a0691efb",
   "metadata": {
    "papermill": {
     "duration": 0.011508,
     "end_time": "2024-05-02T20:01:20.454237",
     "exception": false,
     "start_time": "2024-05-02T20:01:20.442729",
     "status": "completed"
    },
    "tags": []
   },
   "source": [
    "# Simple naive bayes method"
   ]
  },
  {
   "cell_type": "code",
   "execution_count": 10,
   "id": "92956a0e",
   "metadata": {
    "execution": {
     "iopub.execute_input": "2024-05-02T20:01:20.479525Z",
     "iopub.status.busy": "2024-05-02T20:01:20.479178Z",
     "iopub.status.idle": "2024-05-02T20:01:21.647257Z",
     "shell.execute_reply": "2024-05-02T20:01:21.646423Z"
    },
    "papermill": {
     "duration": 1.183643,
     "end_time": "2024-05-02T20:01:21.649780",
     "exception": false,
     "start_time": "2024-05-02T20:01:20.466137",
     "status": "completed"
    },
    "tags": []
   },
   "outputs": [],
   "source": [
    "vectorizer = TfidfVectorizer()\n",
    "\n",
    "X_train, y_train = train['text'], train['text_type'].apply(lambda x: 1 if x == 'spam' else 0)\n",
    "X_val, y_val = val['text'], val['text_type'].apply(lambda x: 1 if x == 'spam' else 0)\n",
    "\n",
    "X_train = vectorizer.fit_transform(X_train)\n",
    "X_val = vectorizer.transform(X_val)"
   ]
  },
  {
   "cell_type": "code",
   "execution_count": 11,
   "id": "9550b53a",
   "metadata": {
    "execution": {
     "iopub.execute_input": "2024-05-02T20:01:21.675749Z",
     "iopub.status.busy": "2024-05-02T20:01:21.674918Z",
     "iopub.status.idle": "2024-05-02T20:01:21.703736Z",
     "shell.execute_reply": "2024-05-02T20:01:21.702783Z"
    },
    "papermill": {
     "duration": 0.044186,
     "end_time": "2024-05-02T20:01:21.706157",
     "exception": false,
     "start_time": "2024-05-02T20:01:21.661971",
     "status": "completed"
    },
    "tags": []
   },
   "outputs": [
    {
     "name": "stdout",
     "output_type": "stream",
     "text": [
      "ROCAUC Score for Naive Bayes:  0.8843183327580186\n",
      "              precision    recall  f1-score   support\n",
      "\n",
      "           0       0.98      0.84      0.91      2707\n",
      "           1       0.54      0.93      0.68       549\n",
      "\n",
      "    accuracy                           0.85      3256\n",
      "   macro avg       0.76      0.88      0.79      3256\n",
      "weighted avg       0.91      0.85      0.87      3256\n",
      "\n"
     ]
    }
   ],
   "source": [
    "mnb = MultinomialNB()\n",
    "mnb.fit(X_train,y_train)\n",
    "\n",
    "y_pred_nb = mnb.predict(X_val)\n",
    "print(\"ROCAUC Score for Naive Bayes: \", roc_auc_score(y_pred_nb,y_val))\n",
    "print(classification_report(y_pred_nb,y_val))"
   ]
  },
  {
   "cell_type": "markdown",
   "id": "b1cc401a",
   "metadata": {
    "papermill": {
     "duration": 0.0118,
     "end_time": "2024-05-02T20:01:21.731187",
     "exception": false,
     "start_time": "2024-05-02T20:01:21.719387",
     "status": "completed"
    },
    "tags": []
   },
   "source": [
    "Very fast, good enough.\n",
    "\n",
    "Lets try improving these results."
   ]
  },
  {
   "cell_type": "markdown",
   "id": "d3461992",
   "metadata": {
    "papermill": {
     "duration": 0.011522,
     "end_time": "2024-05-02T20:01:21.754733",
     "exception": false,
     "start_time": "2024-05-02T20:01:21.743211",
     "status": "completed"
    },
    "tags": []
   },
   "source": [
    "# SVM"
   ]
  },
  {
   "cell_type": "code",
   "execution_count": 12,
   "id": "cd7940c2",
   "metadata": {
    "execution": {
     "iopub.execute_input": "2024-05-02T20:01:21.780032Z",
     "iopub.status.busy": "2024-05-02T20:01:21.779185Z",
     "iopub.status.idle": "2024-05-02T20:02:43.134204Z",
     "shell.execute_reply": "2024-05-02T20:02:43.133189Z"
    },
    "papermill": {
     "duration": 81.382625,
     "end_time": "2024-05-02T20:02:43.149030",
     "exception": false,
     "start_time": "2024-05-02T20:01:21.766405",
     "status": "completed"
    },
    "tags": []
   },
   "outputs": [
    {
     "name": "stdout",
     "output_type": "stream",
     "text": [
      "ROCAUC Score for SVC:  0.9482862581773557\n",
      "              precision    recall  f1-score   support\n",
      "\n",
      "           0       0.98      0.95      0.96      2390\n",
      "           1       0.87      0.95      0.91       866\n",
      "\n",
      "    accuracy                           0.95      3256\n",
      "   macro avg       0.93      0.95      0.94      3256\n",
      "weighted avg       0.95      0.95      0.95      3256\n",
      "\n"
     ]
    }
   ],
   "source": [
    "svc = SVC()         \n",
    "svc.fit(X_train, y_train)\n",
    "\n",
    "y_pred_svm = svc.predict(X_val)\n",
    "print(\"ROCAUC Score for SVC: \", roc_auc_score(y_pred_svm,y_val))\n",
    "print(classification_report(y_pred_svm,y_val))"
   ]
  },
  {
   "cell_type": "markdown",
   "id": "88ff7a65",
   "metadata": {
    "papermill": {
     "duration": 0.012061,
     "end_time": "2024-05-02T20:02:43.173264",
     "exception": false,
     "start_time": "2024-05-02T20:02:43.161203",
     "status": "completed"
    },
    "tags": []
   },
   "source": [
    "Slightly slower, but much better predictions."
   ]
  },
  {
   "cell_type": "markdown",
   "id": "d303f421",
   "metadata": {
    "papermill": {
     "duration": 0.011845,
     "end_time": "2024-05-02T20:02:43.197061",
     "exception": false,
     "start_time": "2024-05-02T20:02:43.185216",
     "status": "completed"
    },
    "tags": []
   },
   "source": [
    "# Random forest"
   ]
  },
  {
   "cell_type": "code",
   "execution_count": 13,
   "id": "9aa7748c",
   "metadata": {
    "execution": {
     "iopub.execute_input": "2024-05-02T20:02:43.222897Z",
     "iopub.status.busy": "2024-05-02T20:02:43.222032Z",
     "iopub.status.idle": "2024-05-02T20:03:22.403914Z",
     "shell.execute_reply": "2024-05-02T20:03:22.402887Z"
    },
    "papermill": {
     "duration": 39.209223,
     "end_time": "2024-05-02T20:03:22.418283",
     "exception": false,
     "start_time": "2024-05-02T20:02:43.209060",
     "status": "completed"
    },
    "tags": []
   },
   "outputs": [
    {
     "name": "stdout",
     "output_type": "stream",
     "text": [
      "ROCAUC Score for Random Forest Classifier :  0.9517800082098502\n",
      "              precision    recall  f1-score   support\n",
      "\n",
      "           0       1.00      0.92      0.95      2515\n",
      "           1       0.78      0.99      0.87       741\n",
      "\n",
      "    accuracy                           0.93      3256\n",
      "   macro avg       0.89      0.95      0.91      3256\n",
      "weighted avg       0.95      0.93      0.93      3256\n",
      "\n"
     ]
    }
   ],
   "source": [
    "rfc = RandomForestClassifier(n_estimators=200)\n",
    "rfc.fit(X_train,y_train)\n",
    "\n",
    "y_pred_rforest = rfc.predict(X_val)\n",
    "print(\"ROCAUC Score for Random Forest Classifier : \", roc_auc_score(y_pred_rforest,y_val))\n",
    "print(classification_report(y_pred_rforest,y_val))"
   ]
  },
  {
   "cell_type": "markdown",
   "id": "3ef172d7",
   "metadata": {
    "papermill": {
     "duration": 0.011736,
     "end_time": "2024-05-02T20:03:22.441968",
     "exception": false,
     "start_time": "2024-05-02T20:03:22.430232",
     "status": "completed"
    },
    "tags": []
   },
   "source": [
    "Basically the same as SVC, though having better recall and rocauc."
   ]
  },
  {
   "cell_type": "markdown",
   "id": "7147676a",
   "metadata": {
    "papermill": {
     "duration": 0.011814,
     "end_time": "2024-05-02T20:03:22.465955",
     "exception": false,
     "start_time": "2024-05-02T20:03:22.454141",
     "status": "completed"
    },
    "tags": []
   },
   "source": [
    "I would personally use random forest, if neural network is too resource expensive."
   ]
  },
  {
   "cell_type": "markdown",
   "id": "033fe898",
   "metadata": {
    "papermill": {
     "duration": 0.011551,
     "end_time": "2024-05-02T20:03:22.489546",
     "exception": false,
     "start_time": "2024-05-02T20:03:22.477995",
     "status": "completed"
    },
    "tags": []
   },
   "source": [
    "# Bert classifier"
   ]
  },
  {
   "cell_type": "markdown",
   "id": "db3c6504",
   "metadata": {
    "papermill": {
     "duration": 0.012047,
     "end_time": "2024-05-02T20:03:22.513352",
     "exception": false,
     "start_time": "2024-05-02T20:03:22.501305",
     "status": "completed"
    },
    "tags": []
   },
   "source": [
    "Making dataset and dataloder classes for PyTorch train pipeline:"
   ]
  },
  {
   "cell_type": "code",
   "execution_count": 14,
   "id": "d690fabe",
   "metadata": {
    "execution": {
     "iopub.execute_input": "2024-05-02T20:03:22.539058Z",
     "iopub.status.busy": "2024-05-02T20:03:22.538683Z",
     "iopub.status.idle": "2024-05-02T20:03:22.548063Z",
     "shell.execute_reply": "2024-05-02T20:03:22.547106Z"
    },
    "papermill": {
     "duration": 0.024412,
     "end_time": "2024-05-02T20:03:22.550030",
     "exception": false,
     "start_time": "2024-05-02T20:03:22.525618",
     "status": "completed"
    },
    "tags": []
   },
   "outputs": [],
   "source": [
    "class TextDataset(Dataset):\n",
    "    def __init__(self, dataframe, tokenizer):\n",
    "        self.labels = dataframe['text_type'].apply(lambda x: 1 if x == 'spam' else 0).values\n",
    "        self.messages = dataframe['text'].values\n",
    "        self.tokenizer = tokenizer\n",
    "        \n",
    "    def __len__(self):\n",
    "        return len(self.labels)\n",
    "    \n",
    "    def __getitem__(self, idx):\n",
    "        label = self.labels[idx]\n",
    "        message = self.messages[idx]\n",
    "        encoded = self.tokenizer.encode_plus(\n",
    "            message,\n",
    "            add_special_tokens=True,\n",
    "            max_length=512,\n",
    "            padding='max_length',\n",
    "            truncation=True,\n",
    "            return_attention_mask=True,\n",
    "            return_tensors='pt'\n",
    "        )\n",
    "        input_ids = encoded['input_ids'].squeeze()\n",
    "        attention_mask = encoded['attention_mask'].squeeze()\n",
    "        return input_ids, attention_mask, label\n",
    "\n",
    "def collate_fn(batch):\n",
    "    input_ids, attention_masks, labels = zip(*batch)\n",
    "    input_ids = torch.stack(input_ids)\n",
    "    attention_masks = torch.stack(attention_masks)\n",
    "    labels = torch.tensor(labels)\n",
    "    return input_ids, attention_masks, labels"
   ]
  },
  {
   "cell_type": "code",
   "execution_count": 15,
   "id": "eda29129",
   "metadata": {
    "execution": {
     "iopub.execute_input": "2024-05-02T20:03:22.576723Z",
     "iopub.status.busy": "2024-05-02T20:03:22.576028Z",
     "iopub.status.idle": "2024-05-02T20:03:22.584146Z",
     "shell.execute_reply": "2024-05-02T20:03:22.583268Z"
    },
    "papermill": {
     "duration": 0.023984,
     "end_time": "2024-05-02T20:03:22.586159",
     "exception": false,
     "start_time": "2024-05-02T20:03:22.562175",
     "status": "completed"
    },
    "tags": []
   },
   "outputs": [],
   "source": [
    "class TestDataset(Dataset):\n",
    "    def __init__(self, dataframe, tokenizer):\n",
    "        self.messages = dataframe['text'].values\n",
    "        self.tokenizer = tokenizer\n",
    "        \n",
    "    def __len__(self):\n",
    "        return len(self.messages)\n",
    "    \n",
    "    def __getitem__(self, idx):\n",
    "        message = self.messages[idx]\n",
    "        encoded = self.tokenizer.encode_plus(\n",
    "            message,\n",
    "            add_special_tokens=True,\n",
    "            max_length=512,\n",
    "            padding='max_length',\n",
    "            truncation=True,\n",
    "            return_attention_mask=True,\n",
    "            return_tensors='pt'\n",
    "        )\n",
    "        input_ids = encoded['input_ids'].squeeze()\n",
    "        attention_mask = encoded['attention_mask'].squeeze()\n",
    "        return input_ids, attention_mask\n",
    "\n",
    "def collate_fnt(batch):\n",
    "    input_ids, attention_masks = zip(*batch)\n",
    "    input_ids = torch.stack(input_ids)\n",
    "    attention_masks = torch.stack(attention_masks)\n",
    "    return input_ids, attention_masks"
   ]
  },
  {
   "cell_type": "code",
   "execution_count": 16,
   "id": "6642f9f8",
   "metadata": {
    "execution": {
     "iopub.execute_input": "2024-05-02T20:03:22.667501Z",
     "iopub.status.busy": "2024-05-02T20:03:22.666862Z",
     "iopub.status.idle": "2024-05-02T20:03:24.257317Z",
     "shell.execute_reply": "2024-05-02T20:03:24.256497Z"
    },
    "papermill": {
     "duration": 1.661346,
     "end_time": "2024-05-02T20:03:24.259802",
     "exception": false,
     "start_time": "2024-05-02T20:03:22.598456",
     "status": "completed"
    },
    "tags": []
   },
   "outputs": [
    {
     "data": {
      "application/vnd.jupyter.widget-view+json": {
       "model_id": "b699f600913a48cfb54dfc0188daeb26",
       "version_major": 2,
       "version_minor": 0
      },
      "text/plain": [
       "tokenizer_config.json:   0%|          | 0.00/48.0 [00:00<?, ?B/s]"
      ]
     },
     "metadata": {},
     "output_type": "display_data"
    },
    {
     "data": {
      "application/vnd.jupyter.widget-view+json": {
       "model_id": "734355bac04840e1a17028919906c7cb",
       "version_major": 2,
       "version_minor": 0
      },
      "text/plain": [
       "vocab.txt:   0%|          | 0.00/232k [00:00<?, ?B/s]"
      ]
     },
     "metadata": {},
     "output_type": "display_data"
    },
    {
     "data": {
      "application/vnd.jupyter.widget-view+json": {
       "model_id": "ebda8e695ad4493b9b320126452d4678",
       "version_major": 2,
       "version_minor": 0
      },
      "text/plain": [
       "tokenizer.json:   0%|          | 0.00/466k [00:00<?, ?B/s]"
      ]
     },
     "metadata": {},
     "output_type": "display_data"
    },
    {
     "data": {
      "application/vnd.jupyter.widget-view+json": {
       "model_id": "efac0a9d6c864c5cb154e8586a7c9e8d",
       "version_major": 2,
       "version_minor": 0
      },
      "text/plain": [
       "config.json:   0%|          | 0.00/570 [00:00<?, ?B/s]"
      ]
     },
     "metadata": {},
     "output_type": "display_data"
    }
   ],
   "source": [
    "MODEL_NAME = \"google-bert/bert-base-uncased\"\n",
    "EPOCHS=10\n",
    "device = torch.device('cuda' if torch.cuda.is_available() else 'cpu')\n",
    "tokenizer = BertTokenizer.from_pretrained(MODEL_NAME)"
   ]
  },
  {
   "cell_type": "code",
   "execution_count": 17,
   "id": "fd2d146e",
   "metadata": {
    "execution": {
     "iopub.execute_input": "2024-05-02T20:03:24.287563Z",
     "iopub.status.busy": "2024-05-02T20:03:24.287237Z",
     "iopub.status.idle": "2024-05-02T20:03:24.305444Z",
     "shell.execute_reply": "2024-05-02T20:03:24.304710Z"
    },
    "papermill": {
     "duration": 0.034613,
     "end_time": "2024-05-02T20:03:24.307491",
     "exception": false,
     "start_time": "2024-05-02T20:03:24.272878",
     "status": "completed"
    },
    "tags": []
   },
   "outputs": [],
   "source": [
    "batch_size=16\n",
    "\n",
    "train_dataset = TextDataset(train, tokenizer=tokenizer)\n",
    "val_dataset = TextDataset(val, tokenizer=tokenizer)\n",
    "test_dataset = TestDataset(unk_test, tokenizer=tokenizer)\n",
    "\n",
    "train_loader = DataLoader(train_dataset, batch_size=batch_size, shuffle=True, collate_fn=collate_fn)\n",
    "val_loader = DataLoader(val_dataset, batch_size=batch_size, shuffle=False, collate_fn=collate_fn)\n",
    "test_loader = DataLoader(test_dataset, batch_size=batch_size, shuffle=False, collate_fn=collate_fnt)"
   ]
  },
  {
   "cell_type": "markdown",
   "id": "59e0f70f",
   "metadata": {
    "papermill": {
     "duration": 0.012544,
     "end_time": "2024-05-02T20:03:24.333145",
     "exception": false,
     "start_time": "2024-05-02T20:03:24.320601",
     "status": "completed"
    },
    "tags": []
   },
   "source": [
    "Making Bert Classifier from HF Bert:"
   ]
  },
  {
   "cell_type": "code",
   "execution_count": 18,
   "id": "28e55c27",
   "metadata": {
    "execution": {
     "iopub.execute_input": "2024-05-02T20:03:24.360575Z",
     "iopub.status.busy": "2024-05-02T20:03:24.359759Z",
     "iopub.status.idle": "2024-05-02T20:03:24.366567Z",
     "shell.execute_reply": "2024-05-02T20:03:24.365653Z"
    },
    "papermill": {
     "duration": 0.022691,
     "end_time": "2024-05-02T20:03:24.368535",
     "exception": false,
     "start_time": "2024-05-02T20:03:24.345844",
     "status": "completed"
    },
    "tags": []
   },
   "outputs": [],
   "source": [
    "class BertClassifier(nn.Module):\n",
    "    def __init__(self, n_classes):\n",
    "        super(BertClassifier, self).__init__()\n",
    "        self.model = BertModel.from_pretrained(MODEL_NAME)\n",
    "        self.drop = nn.Dropout(p=0.1)\n",
    "        self.out = nn.Linear(self.model.config.hidden_size, n_classes)\n",
    "    def forward(self, input_ids, attention_mask):\n",
    "        pooled_output = self.model(\n",
    "            input_ids=input_ids,\n",
    "            attention_mask=attention_mask\n",
    "        )[1]\n",
    "        output = self.drop(pooled_output)\n",
    "        logits = self.out(output)\n",
    "        return logits"
   ]
  },
  {
   "cell_type": "code",
   "execution_count": 19,
   "id": "e54a38ab",
   "metadata": {
    "execution": {
     "iopub.execute_input": "2024-05-02T20:03:24.396015Z",
     "iopub.status.busy": "2024-05-02T20:03:24.395348Z",
     "iopub.status.idle": "2024-05-02T20:03:26.853531Z",
     "shell.execute_reply": "2024-05-02T20:03:26.852738Z"
    },
    "papermill": {
     "duration": 2.474502,
     "end_time": "2024-05-02T20:03:26.855980",
     "exception": false,
     "start_time": "2024-05-02T20:03:24.381478",
     "status": "completed"
    },
    "tags": []
   },
   "outputs": [
    {
     "data": {
      "application/vnd.jupyter.widget-view+json": {
       "model_id": "75f7c74f5544481c9cb4962d8993b032",
       "version_major": 2,
       "version_minor": 0
      },
      "text/plain": [
       "model.safetensors:   0%|          | 0.00/440M [00:00<?, ?B/s]"
      ]
     },
     "metadata": {},
     "output_type": "display_data"
    }
   ],
   "source": [
    "model = BertClassifier(n_classes=2).to(device)"
   ]
  },
  {
   "cell_type": "code",
   "execution_count": 20,
   "id": "3e2152e6",
   "metadata": {
    "execution": {
     "iopub.execute_input": "2024-05-02T20:03:26.884410Z",
     "iopub.status.busy": "2024-05-02T20:03:26.883575Z",
     "iopub.status.idle": "2024-05-02T20:03:26.893874Z",
     "shell.execute_reply": "2024-05-02T20:03:26.893062Z"
    },
    "papermill": {
     "duration": 0.02649,
     "end_time": "2024-05-02T20:03:26.895940",
     "exception": false,
     "start_time": "2024-05-02T20:03:26.869450",
     "status": "completed"
    },
    "tags": []
   },
   "outputs": [
    {
     "name": "stderr",
     "output_type": "stream",
     "text": [
      "/opt/conda/lib/python3.10/site-packages/transformers/optimization.py:457: FutureWarning: This implementation of AdamW is deprecated and will be removed in a future version. Use the PyTorch implementation torch.optim.AdamW instead, or set `no_deprecation_warning=True` to disable this warning\n",
      "  warnings.warn(\n"
     ]
    }
   ],
   "source": [
    "optimizer = AdamW(model.parameters(), lr=2e-5, correct_bias=False)\n",
    "\n",
    "total_steps = len(train_loader) * EPOCHS\n",
    "\n",
    "scheduler = get_linear_schedule_with_warmup(\n",
    "  optimizer,\n",
    "  num_warmup_steps=0,\n",
    "  num_training_steps=total_steps\n",
    ")\n",
    "\n",
    "criterion = nn.CrossEntropyLoss().to(device)"
   ]
  },
  {
   "cell_type": "code",
   "execution_count": 21,
   "id": "1fe047dc",
   "metadata": {
    "execution": {
     "iopub.execute_input": "2024-05-02T20:03:26.924243Z",
     "iopub.status.busy": "2024-05-02T20:03:26.923514Z",
     "iopub.status.idle": "2024-05-02T22:12:50.373104Z",
     "shell.execute_reply": "2024-05-02T22:12:50.372114Z"
    },
    "papermill": {
     "duration": 7763.466016,
     "end_time": "2024-05-02T22:12:50.375138",
     "exception": false,
     "start_time": "2024-05-02T20:03:26.909122",
     "status": "completed"
    },
    "tags": []
   },
   "outputs": [
    {
     "name": "stderr",
     "output_type": "stream",
     "text": [
      "Epoch [1/10] Training: 100%|██████████| 814/814 [11:47<00:00,  1.15it/s, loss=0.0554]\n",
      "Epoch [1/10] Validation: 100%|██████████| 204/204 [01:05<00:00,  3.09it/s, accuracy=0.976, loss=0.00231]\n"
     ]
    },
    {
     "name": "stdout",
     "output_type": "stream",
     "text": [
      "Epoch [1/10], Train Loss: 0.1354, Val Loss: 0.0743, Val Accuracy: 0.9760\n"
     ]
    },
    {
     "name": "stderr",
     "output_type": "stream",
     "text": [
      "Epoch [2/10] Training: 100%|██████████| 814/814 [11:48<00:00,  1.15it/s, loss=0.0056]\n",
      "Epoch [2/10] Validation: 100%|██████████| 204/204 [01:06<00:00,  3.09it/s, accuracy=0.977, loss=0.000557]\n"
     ]
    },
    {
     "name": "stdout",
     "output_type": "stream",
     "text": [
      "Epoch [2/10], Train Loss: 0.0382, Val Loss: 0.0718, Val Accuracy: 0.9773\n"
     ]
    },
    {
     "name": "stderr",
     "output_type": "stream",
     "text": [
      "Epoch [3/10] Training: 100%|██████████| 814/814 [11:49<00:00,  1.15it/s, loss=0.000666]\n",
      "Epoch [3/10] Validation: 100%|██████████| 204/204 [01:06<00:00,  3.09it/s, accuracy=0.981, loss=0.000161]\n"
     ]
    },
    {
     "name": "stdout",
     "output_type": "stream",
     "text": [
      "Epoch [3/10], Train Loss: 0.0158, Val Loss: 0.0826, Val Accuracy: 0.9813\n"
     ]
    },
    {
     "name": "stderr",
     "output_type": "stream",
     "text": [
      "Epoch [4/10] Training: 100%|██████████| 814/814 [11:50<00:00,  1.15it/s, loss=0.00352]\n",
      "Epoch [4/10] Validation: 100%|██████████| 204/204 [01:06<00:00,  3.08it/s, accuracy=0.978, loss=8.36e-5]\n"
     ]
    },
    {
     "name": "stdout",
     "output_type": "stream",
     "text": [
      "Epoch [4/10], Train Loss: 0.0084, Val Loss: 0.0929, Val Accuracy: 0.9776\n"
     ]
    },
    {
     "name": "stderr",
     "output_type": "stream",
     "text": [
      "Epoch [5/10] Training: 100%|██████████| 814/814 [11:50<00:00,  1.15it/s, loss=0.00101]\n",
      "Epoch [5/10] Validation: 100%|██████████| 204/204 [01:06<00:00,  3.09it/s, accuracy=0.979, loss=8.16e-5]\n"
     ]
    },
    {
     "name": "stdout",
     "output_type": "stream",
     "text": [
      "Epoch [5/10], Train Loss: 0.0044, Val Loss: 0.0949, Val Accuracy: 0.9788\n"
     ]
    },
    {
     "name": "stderr",
     "output_type": "stream",
     "text": [
      "Epoch [6/10] Training: 100%|██████████| 814/814 [11:50<00:00,  1.15it/s, loss=0.000103]\n",
      "Epoch [6/10] Validation: 100%|██████████| 204/204 [01:06<00:00,  3.08it/s, accuracy=0.977, loss=4.22e-5]\n"
     ]
    },
    {
     "name": "stdout",
     "output_type": "stream",
     "text": [
      "Epoch [6/10], Train Loss: 0.0033, Val Loss: 0.1187, Val Accuracy: 0.9773\n"
     ]
    },
    {
     "name": "stderr",
     "output_type": "stream",
     "text": [
      "Epoch [7/10] Training: 100%|██████████| 814/814 [11:51<00:00,  1.14it/s, loss=0.000118]\n",
      "Epoch [7/10] Validation: 100%|██████████| 204/204 [01:06<00:00,  3.07it/s, accuracy=0.981, loss=4.1e-5]\n"
     ]
    },
    {
     "name": "stdout",
     "output_type": "stream",
     "text": [
      "Epoch [7/10], Train Loss: 0.0034, Val Loss: 0.1079, Val Accuracy: 0.9810\n"
     ]
    },
    {
     "name": "stderr",
     "output_type": "stream",
     "text": [
      "Epoch [8/10] Training: 100%|██████████| 814/814 [11:51<00:00,  1.14it/s, loss=5.79e-5]\n",
      "Epoch [8/10] Validation: 100%|██████████| 204/204 [01:06<00:00,  3.08it/s, accuracy=0.98, loss=5.4e-5]\n"
     ]
    },
    {
     "name": "stdout",
     "output_type": "stream",
     "text": [
      "Epoch [8/10], Train Loss: 0.0020, Val Loss: 0.1112, Val Accuracy: 0.9800\n"
     ]
    },
    {
     "name": "stderr",
     "output_type": "stream",
     "text": [
      "Epoch [9/10] Training: 100%|██████████| 814/814 [11:51<00:00,  1.14it/s, loss=0.00012]\n",
      "Epoch [9/10] Validation: 100%|██████████| 204/204 [01:05<00:00,  3.10it/s, accuracy=0.981, loss=3.42e-5]\n"
     ]
    },
    {
     "name": "stdout",
     "output_type": "stream",
     "text": [
      "Epoch [9/10], Train Loss: 0.0016, Val Loss: 0.1150, Val Accuracy: 0.9813\n"
     ]
    },
    {
     "name": "stderr",
     "output_type": "stream",
     "text": [
      "Epoch [10/10] Training: 100%|██████████| 814/814 [11:50<00:00,  1.15it/s, loss=0.000102]\n",
      "Epoch [10/10] Validation: 100%|██████████| 204/204 [01:05<00:00,  3.10it/s, accuracy=0.981, loss=2.97e-5]"
     ]
    },
    {
     "name": "stdout",
     "output_type": "stream",
     "text": [
      "Epoch [10/10], Train Loss: 0.0013, Val Loss: 0.1161, Val Accuracy: 0.9813\n",
      "Training Summary:\n",
      "Epoch [1/10], Train Loss: 0.1354, Val Loss: 0.0743, Val Accuracy: 0.9760\n",
      "Epoch [2/10], Train Loss: 0.0382, Val Loss: 0.0718, Val Accuracy: 0.9773\n",
      "Epoch [3/10], Train Loss: 0.0158, Val Loss: 0.0826, Val Accuracy: 0.9813\n",
      "Epoch [4/10], Train Loss: 0.0084, Val Loss: 0.0929, Val Accuracy: 0.9776\n",
      "Epoch [5/10], Train Loss: 0.0044, Val Loss: 0.0949, Val Accuracy: 0.9788\n",
      "Epoch [6/10], Train Loss: 0.0033, Val Loss: 0.1187, Val Accuracy: 0.9773\n",
      "Epoch [7/10], Train Loss: 0.0034, Val Loss: 0.1079, Val Accuracy: 0.9810\n",
      "Epoch [8/10], Train Loss: 0.0020, Val Loss: 0.1112, Val Accuracy: 0.9800\n",
      "Epoch [9/10], Train Loss: 0.0016, Val Loss: 0.1150, Val Accuracy: 0.9813\n",
      "Epoch [10/10], Train Loss: 0.0013, Val Loss: 0.1161, Val Accuracy: 0.9813\n"
     ]
    },
    {
     "name": "stderr",
     "output_type": "stream",
     "text": [
      "\n"
     ]
    }
   ],
   "source": [
    "train_losses = []\n",
    "val_losses = []\n",
    "val_accuracies = []\n",
    "\n",
    "for epoch in range(EPOCHS):\n",
    "    model.train()\n",
    "    train_loss = 0.0\n",
    "    \n",
    "    train_progress_bar = tqdm(train_loader, desc=f\"Epoch [{epoch+1}/{EPOCHS}] Training\")\n",
    "    \n",
    "    for batch in train_progress_bar:\n",
    "        input_ids, attention_masks, labels = batch\n",
    "        input_ids = input_ids.to(device)\n",
    "        attention_masks = attention_masks.to(device)\n",
    "        labels = labels.to(device)\n",
    "        \n",
    "        optimizer.zero_grad()\n",
    "        \n",
    "        logits = model(input_ids, attention_mask=attention_masks)\n",
    "        loss = criterion(logits, labels)\n",
    "        \n",
    "        loss.backward()\n",
    "        optimizer.step()\n",
    "        scheduler.step()\n",
    "        \n",
    "        train_loss += loss.item()\n",
    "        \n",
    "        train_progress_bar.set_postfix(loss=loss.item())\n",
    "    \n",
    "    train_loss /= len(train_loader)\n",
    "    train_losses.append(train_loss)\n",
    "    \n",
    "    # Evaluation\n",
    "    model.eval()\n",
    "    val_loss = 0.0\n",
    "    val_accuracy = 0.0\n",
    "    \n",
    "    val_progress_bar = tqdm(val_loader, desc=f\"Epoch [{epoch+1}/{EPOCHS}] Validation\")\n",
    "    \n",
    "    with torch.no_grad():\n",
    "        for batch in val_progress_bar:\n",
    "            input_ids, attention_masks, labels = batch\n",
    "            input_ids = input_ids.to(device)\n",
    "            attention_masks = attention_masks.to(device)\n",
    "            labels = labels.to(device)\n",
    "            \n",
    "            logits = model(input_ids, attention_mask=attention_masks)\n",
    "            loss = criterion(logits, labels)\n",
    "            \n",
    "            val_loss += loss.item()\n",
    "            \n",
    "            predictions = torch.argmax(logits, dim=1)\n",
    "            val_accuracy += torch.sum(predictions == labels).item()\n",
    "            \n",
    "            val_progress_bar.set_postfix(loss=loss.item(), accuracy=(val_accuracy / len(val_dataset)))\n",
    "    \n",
    "    val_loss /= len(val_loader)\n",
    "    val_accuracy /= len(val_dataset)\n",
    "    \n",
    "    val_losses.append(val_loss)\n",
    "    val_accuracies.append(val_accuracy)\n",
    "    \n",
    "    print(f\"Epoch [{epoch+1}/{EPOCHS}], Train Loss: {train_loss:.4f}, Val Loss: {val_loss:.4f}, Val Accuracy: {val_accuracy:.4f}\")\n",
    "\n",
    "# Training summary\n",
    "print(\"Training Summary:\")\n",
    "for epoch, (train_loss, val_loss, val_accuracy) in enumerate(zip(train_losses, val_losses, val_accuracies)):\n",
    "    print(f\"Epoch [{epoch+1}/{EPOCHS}], Train Loss: {train_loss:.4f}, Val Loss: {val_loss:.4f}, Val Accuracy: {val_accuracy:.4f}\")"
   ]
  },
  {
   "cell_type": "code",
   "execution_count": 22,
   "id": "ec6cc35b",
   "metadata": {
    "execution": {
     "iopub.execute_input": "2024-05-02T22:12:53.713235Z",
     "iopub.status.busy": "2024-05-02T22:12:53.712908Z",
     "iopub.status.idle": "2024-05-02T22:12:54.088770Z",
     "shell.execute_reply": "2024-05-02T22:12:54.087872Z"
    },
    "papermill": {
     "duration": 2.004582,
     "end_time": "2024-05-02T22:12:54.091033",
     "exception": false,
     "start_time": "2024-05-02T22:12:52.086451",
     "status": "completed"
    },
    "tags": []
   },
   "outputs": [
    {
     "data": {
      "text/plain": [
       "<matplotlib.legend.Legend at 0x7bf7161a4c40>"
      ]
     },
     "execution_count": 22,
     "metadata": {},
     "output_type": "execute_result"
    },
    {
     "data": {
      "image/png": "[encoded data removed]",
      "text/plain": [
       "<Figure size 1000x700 with 1 Axes>"
      ]
     },
     "metadata": {},
     "output_type": "display_data"
    }
   ],
   "source": [
    "plt.figure(figsize=(10, 7))\n",
    "plt.plot(train_losses, label='train loss')\n",
    "plt.plot(val_losses, label='validation loss')\n",
    "\n",
    "plt.title('Training history')\n",
    "plt.ylabel('loss')\n",
    "plt.xlabel('Epoch')\n",
    "plt.legend()\n",
    "     "
   ]
  },
  {
   "cell_type": "markdown",
   "id": "fa7b35fe",
   "metadata": {
    "papermill": {
     "duration": 1.76628,
     "end_time": "2024-05-02T22:12:57.596617",
     "exception": false,
     "start_time": "2024-05-02T22:12:55.830337",
     "status": "completed"
    },
    "tags": []
   },
   "source": [
    "Calculating metrics on validation:"
   ]
  },
  {
   "cell_type": "code",
   "execution_count": 23,
   "id": "c781e4e8",
   "metadata": {
    "execution": {
     "iopub.execute_input": "2024-05-02T22:13:00.935827Z",
     "iopub.status.busy": "2024-05-02T22:13:00.935067Z",
     "iopub.status.idle": "2024-05-02T22:14:06.191450Z",
     "shell.execute_reply": "2024-05-02T22:14:06.190623Z"
    },
    "papermill": {
     "duration": 66.974269,
     "end_time": "2024-05-02T22:14:06.193987",
     "exception": false,
     "start_time": "2024-05-02T22:12:59.219718",
     "status": "completed"
    },
    "tags": []
   },
   "outputs": [],
   "source": [
    "model.eval()\n",
    "\n",
    "val_predictions = []\n",
    "with torch.no_grad():\n",
    "    for batch in val_loader:\n",
    "        input_ids, attention_masks, labels = batch\n",
    "        input_ids = input_ids.to(device)\n",
    "        attention_mask = attention_masks.to(device)\n",
    "        logits = model(input_ids, attention_mask=attention_mask)\n",
    "        batch_predictions = torch.argmax(logits, dim=1).tolist()\n",
    "        val_predictions.extend(batch_predictions)"
   ]
  },
  {
   "cell_type": "code",
   "execution_count": 24,
   "id": "14a38419",
   "metadata": {
    "execution": {
     "iopub.execute_input": "2024-05-02T22:14:09.540769Z",
     "iopub.status.busy": "2024-05-02T22:14:09.540379Z",
     "iopub.status.idle": "2024-05-02T22:14:09.550100Z",
     "shell.execute_reply": "2024-05-02T22:14:09.549183Z"
    },
    "papermill": {
     "duration": 1.723973,
     "end_time": "2024-05-02T22:14:09.552156",
     "exception": false,
     "start_time": "2024-05-02T22:14:07.828183",
     "status": "completed"
    },
    "tags": []
   },
   "outputs": [
    {
     "data": {
      "text/plain": [
       "0.9758390270365374"
      ]
     },
     "execution_count": 24,
     "metadata": {},
     "output_type": "execute_result"
    }
   ],
   "source": [
    "roc_auc_score(val_dataset.labels, val_predictions)"
   ]
  },
  {
   "cell_type": "code",
   "execution_count": 25,
   "id": "4d07c035",
   "metadata": {
    "execution": {
     "iopub.execute_input": "2024-05-02T22:14:12.888637Z",
     "iopub.status.busy": "2024-05-02T22:14:12.888293Z",
     "iopub.status.idle": "2024-05-02T22:14:12.902964Z",
     "shell.execute_reply": "2024-05-02T22:14:12.901959Z"
    },
    "papermill": {
     "duration": 1.64067,
     "end_time": "2024-05-02T22:14:12.905022",
     "exception": false,
     "start_time": "2024-05-02T22:14:11.264352",
     "status": "completed"
    },
    "tags": []
   },
   "outputs": [
    {
     "name": "stdout",
     "output_type": "stream",
     "text": [
      "              precision    recall  f1-score   support\n",
      "\n",
      "           0       0.98      0.99      0.99      2312\n",
      "           1       0.97      0.96      0.97       944\n",
      "\n",
      "    accuracy                           0.98      3256\n",
      "   macro avg       0.98      0.98      0.98      3256\n",
      "weighted avg       0.98      0.98      0.98      3256\n",
      "\n"
     ]
    }
   ],
   "source": [
    "print(classification_report(val_dataset.labels, val_predictions))"
   ]
  },
  {
   "cell_type": "code",
   "execution_count": 26,
   "id": "fa1eb4a6",
   "metadata": {
    "execution": {
     "iopub.execute_input": "2024-05-02T22:14:16.274378Z",
     "iopub.status.busy": "2024-05-02T22:14:16.274020Z",
     "iopub.status.idle": "2024-05-02T22:14:16.475095Z",
     "shell.execute_reply": "2024-05-02T22:14:16.474101Z"
    },
    "papermill": {
     "duration": 1.853435,
     "end_time": "2024-05-02T22:14:16.477218",
     "exception": false,
     "start_time": "2024-05-02T22:14:14.623783",
     "status": "completed"
    },
    "tags": []
   },
   "outputs": [
    {
     "data": {
      "text/plain": [
       "<sklearn.metrics._plot.confusion_matrix.ConfusionMatrixDisplay at 0x7bf715d43220>"
      ]
     },
     "execution_count": 26,
     "metadata": {},
     "output_type": "execute_result"
    },
    {
     "data": {
      "image/png": "[encoded data removed]",
      "text/plain": [
       "<Figure size 640x480 with 2 Axes>"
      ]
     },
     "metadata": {},
     "output_type": "display_data"
    }
   ],
   "source": [
    "disp = ConfusionMatrixDisplay(confusion_matrix(val_dataset.labels, val_predictions))\n",
    "disp.plot()"
   ]
  },
  {
   "cell_type": "markdown",
   "id": "3c47e17d",
   "metadata": {
    "papermill": {
     "duration": 1.717337,
     "end_time": "2024-05-02T22:14:19.948792",
     "exception": false,
     "start_time": "2024-05-02T22:14:18.231455",
     "status": "completed"
    },
    "tags": []
   },
   "source": [
    "As we can see, Bert gives best results."
   ]
  },
  {
   "cell_type": "markdown",
   "id": "7c24746a",
   "metadata": {
    "papermill": {
     "duration": 1.718564,
     "end_time": "2024-05-02T22:14:23.291832",
     "exception": false,
     "start_time": "2024-05-02T22:14:21.573268",
     "status": "completed"
    },
    "tags": []
   },
   "source": [
    "# Predictions on test"
   ]
  },
  {
   "cell_type": "code",
   "execution_count": 27,
   "id": "bd59ceba",
   "metadata": {
    "execution": {
     "iopub.execute_input": "2024-05-02T22:14:26.653760Z",
     "iopub.status.busy": "2024-05-02T22:14:26.653377Z",
     "iopub.status.idle": "2024-05-02T22:15:48.206103Z",
     "shell.execute_reply": "2024-05-02T22:15:48.205270Z"
    },
    "papermill": {
     "duration": 83.207545,
     "end_time": "2024-05-02T22:15:48.208616",
     "exception": false,
     "start_time": "2024-05-02T22:14:25.001071",
     "status": "completed"
    },
    "tags": []
   },
   "outputs": [],
   "source": [
    "model.eval()\n",
    "\n",
    "test_predictions = []\n",
    "with torch.no_grad():\n",
    "    for batch in test_loader:\n",
    "        input_ids, attention_masks = batch\n",
    "        input_ids = input_ids.to(device)\n",
    "        attention_mask = attention_masks.to(device)\n",
    "        logits = model(input_ids, attention_mask=attention_mask)\n",
    "        batch_predictions = torch.argmax(logits, dim=1).tolist()\n",
    "        test_predictions.extend(batch_predictions)"
   ]
  },
  {
   "cell_type": "code",
   "execution_count": 28,
   "id": "0fbd29a4",
   "metadata": {
    "execution": {
     "iopub.execute_input": "2024-05-02T22:15:51.691819Z",
     "iopub.status.busy": "2024-05-02T22:15:51.691434Z",
     "iopub.status.idle": "2024-05-02T22:15:51.699235Z",
     "shell.execute_reply": "2024-05-02T22:15:51.698269Z"
    },
    "papermill": {
     "duration": 1.78672,
     "end_time": "2024-05-02T22:15:51.701166",
     "exception": false,
     "start_time": "2024-05-02T22:15:49.914446",
     "status": "completed"
    },
    "tags": []
   },
   "outputs": [],
   "source": [
    "unk_test['score'] = test_predictions"
   ]
  },
  {
   "cell_type": "code",
   "execution_count": 29,
   "id": "bdc997ba",
   "metadata": {
    "execution": {
     "iopub.execute_input": "2024-05-02T22:15:55.059819Z",
     "iopub.status.busy": "2024-05-02T22:15:55.059111Z",
     "iopub.status.idle": "2024-05-02T22:15:55.067259Z",
     "shell.execute_reply": "2024-05-02T22:15:55.066371Z"
    },
    "papermill": {
     "duration": 1.639553,
     "end_time": "2024-05-02T22:15:55.069071",
     "exception": false,
     "start_time": "2024-05-02T22:15:53.429518",
     "status": "completed"
    },
    "tags": []
   },
   "outputs": [],
   "source": [
    "unk_test = unk_test[['score', 'text']]"
   ]
  },
  {
   "cell_type": "code",
   "execution_count": 30,
   "id": "6be5844a",
   "metadata": {
    "execution": {
     "iopub.execute_input": "2024-05-02T22:15:58.562762Z",
     "iopub.status.busy": "2024-05-02T22:15:58.561928Z",
     "iopub.status.idle": "2024-05-02T22:15:58.624242Z",
     "shell.execute_reply": "2024-05-02T22:15:58.623460Z"
    },
    "papermill": {
     "duration": 1.818592,
     "end_time": "2024-05-02T22:15:58.626462",
     "exception": false,
     "start_time": "2024-05-02T22:15:56.807870",
     "status": "completed"
    },
    "tags": []
   },
   "outputs": [],
   "source": [
    "unk_test.to_csv('test_preds_1_or_0.csv',index=False) # 1 is spam"
   ]
  },
  {
   "cell_type": "code",
   "execution_count": 31,
   "id": "3beec80e",
   "metadata": {
    "execution": {
     "iopub.execute_input": "2024-05-02T22:16:01.966945Z",
     "iopub.status.busy": "2024-05-02T22:16:01.966101Z",
     "iopub.status.idle": "2024-05-02T22:16:02.029894Z",
     "shell.execute_reply": "2024-05-02T22:16:02.028892Z"
    },
    "papermill": {
     "duration": 1.785939,
     "end_time": "2024-05-02T22:16:02.032266",
     "exception": false,
     "start_time": "2024-05-02T22:16:00.246327",
     "status": "completed"
    },
    "tags": []
   },
   "outputs": [],
   "source": [
    "unk_test_text = unk_test\n",
    "unk_test_text['score'] = ['spam' if label == 1 else 'ham' for label in unk_test_text['score']]\n",
    "unk_test_text.to_csv('test_preds_spam_or_ham.csv',index=False) "
   ]
  }
 ],
 "metadata": {
  "kaggle": {
   "accelerator": "gpu",
   "dataSources": [
    {
     "datasetId": 4919428,
     "sourceId": 8283036,
     "sourceType": "datasetVersion"
    }
   ],
   "dockerImageVersionId": 30699,
   "isGpuEnabled": true,
   "isInternetEnabled": true,
   "language": "python",
   "sourceType": "notebook"
  },
  "kernelspec": {
   "display_name": "Python 3",
   "language": "python",
   "name": "python3"
  },
  "language_info": {
   "codemirror_mode": {
    "name": "ipython",
    "version": 3
   },
   "file_extension": ".py",
   "mimetype": "text/x-python",
   "name": "python",
   "nbconvert_exporter": "python",
   "pygments_lexer": "ipython3",
   "version": "3.10.13"
  },
  "papermill": {
   "default_parameters": {},
   "duration": 8097.994055,
   "end_time": "2024-05-02T22:16:05.517299",
   "environment_variables": {},
   "exception": null,
   "input_path": "__notebook__.ipynb",
   "output_path": "__notebook__.ipynb",
   "parameters": {},
   "start_time": "2024-05-02T20:01:07.523244",
   "version": "2.5.0"
  },
  "widgets": {
   "application/vnd.jupyter.widget-state+json": {
    "state": {
     "010afd35837143b28c8ff97f3d7ec363": {
      "model_module": "@jupyter-widgets/controls",
      "model_module_version": "1.5.0",
      "model_name": "DescriptionStyleModel",
      "state": {
       "_model_module": "@jupyter-widgets/controls",
       "_model_module_version": "1.5.0",
       "_model_name": "DescriptionStyleModel",
       "_view_count": null,
       "_view_module": "@jupyter-widgets/base",
       "_view_module_version": "1.2.0",
       "_view_name": "StyleView",
       "description_width": ""
      }
     },
     "03bfd1454a994ac98703ca0c96b85e1c": {
      "model_module": "@jupyter-widgets/base",
      "model_module_version": "1.2.0",
      "model_name": "LayoutModel",
      "state": {
       "_model_module": "@jupyter-widgets/base",
       "_model_module_version": "1.2.0",
       "_model_name": "LayoutModel",
       "_view_count": null,
       "_view_module": "@jupyter-widgets/base",
       "_view_module_version": "1.2.0",
       "_view_name": "LayoutView",
       "align_content": null,
       "align_items": null,
       "align_self": null,
       "border": null,
       "bottom": null,
       "display": null,
       "flex": null,
       "flex_flow": null,
       "grid_area": null,
       "grid_auto_columns": null,
       "grid_auto_flow": null,
       "grid_auto_rows": null,
       "grid_column": null,
       "grid_gap": null,
       "grid_row": null,
       "grid_template_areas": null,
       "grid_template_columns": null,
       "grid_template_rows": null,
       "height": null,
       "justify_content": null,
       "justify_items": null,
       "left": null,
       "margin": null,
       "max_height": null,
       "max_width": null,
       "min_height": null,
       "min_width": null,
       "object_fit": null,
       "object_position": null,
       "order": null,
       "overflow": null,
       "overflow_x": null,
       "overflow_y": null,
       "padding": null,
       "right": null,
       "top": null,
       "visibility": null,
       "width": null
      }
     },
     "0440fe37a8be4f719e9f75896f786b01": {
      "model_module": "@jupyter-widgets/controls",
      "model_module_version": "1.5.0",
      "model_name": "DescriptionStyleModel",
      "state": {
       "_model_module": "@jupyter-widgets/controls",
       "_model_module_version": "1.5.0",
       "_model_name": "DescriptionStyleModel",
       "_view_count": null,
       "_view_module": "@jupyter-widgets/base",
       "_view_module_version": "1.2.0",
       "_view_name": "StyleView",
       "description_width": ""
      }
     },
     "11580566d63c46389159241000be8de9": {
      "model_module": "@jupyter-widgets/controls",
      "model_module_version": "1.5.0",
      "model_name": "HTMLModel",
      "state": {
       "_dom_classes": [],
       "_model_module": "@jupyter-widgets/controls",
       "_model_module_version": "1.5.0",
       "_model_name": "HTMLModel",
       "_view_count": null,
       "_view_module": "@jupyter-widgets/controls",
       "_view_module_version": "1.5.0",
       "_view_name": "HTMLView",
       "description": "",
       "description_tooltip": null,
       "layout": "IPY_MODEL_03bfd1454a994ac98703ca0c96b85e1c",
       "placeholder": "​",
       "style": "IPY_MODEL_afe52cdbc0ec436aa3898260ce87a739",
       "value": "tokenizer_config.json: 100%"
      }
     },
     "18914c27697f43e287a444db4b95f7c1": {
      "model_module": "@jupyter-widgets/controls",
      "model_module_version": "1.5.0",
      "model_name": "FloatProgressModel",
      "state": {
       "_dom_classes": [],
       "_model_module": "@jupyter-widgets/controls",
       "_model_module_version": "1.5.0",
       "_model_name": "FloatProgressModel",
       "_view_count": null,
       "_view_module": "@jupyter-widgets/controls",
       "_view_module_version": "1.5.0",
       "_view_name": "ProgressView",
       "bar_style": "success",
       "description": "",
       "description_tooltip": null,
       "layout": "IPY_MODEL_a755c227260547728fcb907d991ffffc",
       "max": 466062.0,
       "min": 0.0,
       "orientation": "horizontal",
       "style": "IPY_MODEL_884236294f1d4004b02a7cc9770ab2e7",
       "value": 466062.0
      }
     },
     "1b349a07da4c44a189978d5b5af44e18": {
      "model_module": "@jupyter-widgets/base",
      "model_module_version": "1.2.0",
      "model_name": "LayoutModel",
      "state": {
       "_model_module": "@jupyter-widgets/base",
       "_model_module_version": "1.2.0",
       "_model_name": "LayoutModel",
       "_view_count": null,
       "_view_module": "@jupyter-widgets/base",
       "_view_module_version": "1.2.0",
       "_view_name": "LayoutView",
       "align_content": null,
       "align_items": null,
       "align_self": null,
       "border": null,
       "bottom": null,
       "display": null,
       "flex": null,
       "flex_flow": null,
       "grid_area": null,
       "grid_auto_columns": null,
       "grid_auto_flow": null,
       "grid_auto_rows": null,
       "grid_column": null,
       "grid_gap": null,
       "grid_row": null,
       "grid_template_areas": null,
       "grid_template_columns": null,
       "grid_template_rows": null,
       "height": null,
       "justify_content": null,
       "justify_items": null,
       "left": null,
       "margin": null,
       "max_height": null,
       "max_width": null,
       "min_height": null,
       "min_width": null,
       "object_fit": null,
       "object_position": null,
       "order": null,
       "overflow": null,
       "overflow_x": null,
       "overflow_y": null,
       "padding": null,
       "right": null,
       "top": null,
       "visibility": null,
       "width": null
      }
     },
     "1e4911dc24fb48d9b91d6f0245f1cab1": {
      "model_module": "@jupyter-widgets/controls",
      "model_module_version": "1.5.0",
      "model_name": "DescriptionStyleModel",
      "state": {
       "_model_module": "@jupyter-widgets/controls",
       "_model_module_version": "1.5.0",
       "_model_name": "DescriptionStyleModel",
       "_view_count": null,
       "_view_module": "@jupyter-widgets/base",
       "_view_module_version": "1.2.0",
       "_view_name": "StyleView",
       "description_width": ""
      }
     },
     "2204b3dfacdc40048ed34d91c354fce2": {
      "model_module": "@jupyter-widgets/controls",
      "model_module_version": "1.5.0",
      "model_name": "DescriptionStyleModel",
      "state": {
       "_model_module": "@jupyter-widgets/controls",
       "_model_module_version": "1.5.0",
       "_model_name": "DescriptionStyleModel",
       "_view_count": null,
       "_view_module": "@jupyter-widgets/base",
       "_view_module_version": "1.2.0",
       "_view_name": "StyleView",
       "description_width": ""
      }
     },
     "260aa09d0c7742f1b5c24107937ed578": {
      "model_module": "@jupyter-widgets/controls",
      "model_module_version": "1.5.0",
      "model_name": "ProgressStyleModel",
      "state": {
       "_model_module": "@jupyter-widgets/controls",
       "_model_module_version": "1.5.0",
       "_model_name": "ProgressStyleModel",
       "_view_count": null,
       "_view_module": "@jupyter-widgets/base",
       "_view_module_version": "1.2.0",
       "_view_name": "StyleView",
       "bar_color": null,
       "description_width": ""
      }
     },
     "26441ba20b9a4b9d9a13c3cb5aa38e73": {
      "model_module": "@jupyter-widgets/controls",
      "model_module_version": "1.5.0",
      "model_name": "FloatProgressModel",
      "state": {
       "_dom_classes": [],
       "_model_module": "@jupyter-widgets/controls",
       "_model_module_version": "1.5.0",
       "_model_name": "FloatProgressModel",
       "_view_count": null,
       "_view_module": "@jupyter-widgets/controls",
       "_view_module_version": "1.5.0",
       "_view_name": "ProgressView",
       "bar_style": "success",
       "description": "",
       "description_tooltip": null,
       "layout": "IPY_MODEL_b08d7bc3333a4a19881bbd7703b8ac42",
       "max": 231508.0,
       "min": 0.0,
       "orientation": "horizontal",
       "style": "IPY_MODEL_dcfa715a741a48ca95b1e57d1859fb86",
       "value": 231508.0
      }
     },
     "30aeae85b2bd4dbfa153918d5b311f61": {
      "model_module": "@jupyter-widgets/base",
      "model_module_version": "1.2.0",
      "model_name": "LayoutModel",
      "state": {
       "_model_module": "@jupyter-widgets/base",
       "_model_module_version": "1.2.0",
       "_model_name": "LayoutModel",
       "_view_count": null,
       "_view_module": "@jupyter-widgets/base",
       "_view_module_version": "1.2.0",
       "_view_name": "LayoutView",
       "align_content": null,
       "align_items": null,
       "align_self": null,
       "border": null,
       "bottom": null,
       "display": null,
       "flex": null,
       "flex_flow": null,
       "grid_area": null,
       "grid_auto_columns": null,
       "grid_auto_flow": null,
       "grid_auto_rows": null,
       "grid_column": null,
       "grid_gap": null,
       "grid_row": null,
       "grid_template_areas": null,
       "grid_template_columns": null,
       "grid_template_rows": null,
       "height": null,
       "justify_content": null,
       "justify_items": null,
       "left": null,
       "margin": null,
       "max_height": null,
       "max_width": null,
       "min_height": null,
       "min_width": null,
       "object_fit": null,
       "object_position": null,
       "order": null,
       "overflow": null,
       "overflow_x": null,
       "overflow_y": null,
       "padding": null,
       "right": null,
       "top": null,
       "visibility": null,
       "width": null
      }
     },
     "37a8b4fcb6924e16b87bf7fef951a752": {
      "model_module": "@jupyter-widgets/controls",
      "model_module_version": "1.5.0",
      "model_name": "DescriptionStyleModel",
      "state": {
       "_model_module": "@jupyter-widgets/controls",
       "_model_module_version": "1.5.0",
       "_model_name": "DescriptionStyleModel",
       "_view_count": null,
       "_view_module": "@jupyter-widgets/base",
       "_view_module_version": "1.2.0",
       "_view_name": "StyleView",
       "description_width": ""
      }
     },
     "37d2423ba9b14a11aeb17934053b4af6": {
      "model_module": "@jupyter-widgets/base",
      "model_module_version": "1.2.0",
      "model_name": "LayoutModel",
      "state": {
       "_model_module": "@jupyter-widgets/base",
       "_model_module_version": "1.2.0",
       "_model_name": "LayoutModel",
       "_view_count": null,
       "_view_module": "@jupyter-widgets/base",
       "_view_module_version": "1.2.0",
       "_view_name": "LayoutView",
       "align_content": null,
       "align_items": null,
       "align_self": null,
       "border": null,
       "bottom": null,
       "display": null,
       "flex": null,
       "flex_flow": null,
       "grid_area": null,
       "grid_auto_columns": null,
       "grid_auto_flow": null,
       "grid_auto_rows": null,
       "grid_column": null,
       "grid_gap": null,
       "grid_row": null,
       "grid_template_areas": null,
       "grid_template_columns": null,
       "grid_template_rows": null,
       "height": null,
       "justify_content": null,
       "justify_items": null,
       "left": null,
       "margin": null,
       "max_height": null,
       "max_width": null,
       "min_height": null,
       "min_width": null,
       "object_fit": null,
       "object_position": null,
       "order": null,
       "overflow": null,
       "overflow_x": null,
       "overflow_y": null,
       "padding": null,
       "right": null,
       "top": null,
       "visibility": null,
       "width": null
      }
     },
     "520a8387fc8a490c8a7a1e22ef3606ae": {
      "model_module": "@jupyter-widgets/controls",
      "model_module_version": "1.5.0",
      "model_name": "ProgressStyleModel",
      "state": {
       "_model_module": "@jupyter-widgets/controls",
       "_model_module_version": "1.5.0",
       "_model_name": "ProgressStyleModel",
       "_view_count": null,
       "_view_module": "@jupyter-widgets/base",
       "_view_module_version": "1.2.0",
       "_view_name": "StyleView",
       "bar_color": null,
       "description_width": ""
      }
     },
     "535f3450ed0647cea295c155e5bf8f04": {
      "model_module": "@jupyter-widgets/controls",
      "model_module_version": "1.5.0",
      "model_name": "DescriptionStyleModel",
      "state": {
       "_model_module": "@jupyter-widgets/controls",
       "_model_module_version": "1.5.0",
       "_model_name": "DescriptionStyleModel",
       "_view_count": null,
       "_view_module": "@jupyter-widgets/base",
       "_view_module_version": "1.2.0",
       "_view_name": "StyleView",
       "description_width": ""
      }
     },
     "5584ca267c4f433a86b83f6eba3ae683": {
      "model_module": "@jupyter-widgets/base",
      "model_module_version": "1.2.0",
      "model_name": "LayoutModel",
      "state": {
       "_model_module": "@jupyter-widgets/base",
       "_model_module_version": "1.2.0",
       "_model_name": "LayoutModel",
       "_view_count": null,
       "_view_module": "@jupyter-widgets/base",
       "_view_module_version": "1.2.0",
       "_view_name": "LayoutView",
       "align_content": null,
       "align_items": null,
       "align_self": null,
       "border": null,
       "bottom": null,
       "display": null,
       "flex": null,
       "flex_flow": null,
       "grid_area": null,
       "grid_auto_columns": null,
       "grid_auto_flow": null,
       "grid_auto_rows": null,
       "grid_column": null,
       "grid_gap": null,
       "grid_row": null,
       "grid_template_areas": null,
       "grid_template_columns": null,
       "grid_template_rows": null,
       "height": null,
       "justify_content": null,
       "justify_items": null,
       "left": null,
       "margin": null,
       "max_height": null,
       "max_width": null,
       "min_height": null,
       "min_width": null,
       "object_fit": null,
       "object_position": null,
       "order": null,
       "overflow": null,
       "overflow_x": null,
       "overflow_y": null,
       "padding": null,
       "right": null,
       "top": null,
       "visibility": null,
       "width": null
      }
     },
     "569bd795d5ec4cf28c46314ae1cc3c17": {
      "model_module": "@jupyter-widgets/controls",
      "model_module_version": "1.5.0",
      "model_name": "HTMLModel",
      "state": {
       "_dom_classes": [],
       "_model_module": "@jupyter-widgets/controls",
       "_model_module_version": "1.5.0",
       "_model_name": "HTMLModel",
       "_view_count": null,
       "_view_module": "@jupyter-widgets/controls",
       "_view_module_version": "1.5.0",
       "_view_name": "HTMLView",
       "description": "",
       "description_tooltip": null,
       "layout": "IPY_MODEL_577249159c314637bc8404ac4873f6b5",
       "placeholder": "​",
       "style": "IPY_MODEL_010afd35837143b28c8ff97f3d7ec363",
       "value": " 440M/440M [00:01&lt;00:00, 340MB/s]"
      }
     },
     "577249159c314637bc8404ac4873f6b5": {
      "model_module": "@jupyter-widgets/base",
      "model_module_version": "1.2.0",
      "model_name": "LayoutModel",
      "state": {
       "_model_module": "@jupyter-widgets/base",
       "_model_module_version": "1.2.0",
       "_model_name": "LayoutModel",
       "_view_count": null,
       "_view_module": "@jupyter-widgets/base",
       "_view_module_version": "1.2.0",
       "_view_name": "LayoutView",
       "align_content": null,
       "align_items": null,
       "align_self": null,
       "border": null,
       "bottom": null,
       "display": null,
       "flex": null,
       "flex_flow": null,
       "grid_area": null,
       "grid_auto_columns": null,
       "grid_auto_flow": null,
       "grid_auto_rows": null,
       "grid_column": null,
       "grid_gap": null,
       "grid_row": null,
       "grid_template_areas": null,
       "grid_template_columns": null,
       "grid_template_rows": null,
       "height": null,
       "justify_content": null,
       "justify_items": null,
       "left": null,
       "margin": null,
       "max_height": null,
       "max_width": null,
       "min_height": null,
       "min_width": null,
       "object_fit": null,
       "object_position": null,
       "order": null,
       "overflow": null,
       "overflow_x": null,
       "overflow_y": null,
       "padding": null,
       "right": null,
       "top": null,
       "visibility": null,
       "width": null
      }
     },
     "62eef70e38574b6d8ce08c986f4c05b2": {
      "model_module": "@jupyter-widgets/base",
      "model_module_version": "1.2.0",
      "model_name": "LayoutModel",
      "state": {
       "_model_module": "@jupyter-widgets/base",
       "_model_module_version": "1.2.0",
       "_model_name": "LayoutModel",
       "_view_count": null,
       "_view_module": "@jupyter-widgets/base",
       "_view_module_version": "1.2.0",
       "_view_name": "LayoutView",
       "align_content": null,
       "align_items": null,
       "align_self": null,
       "border": null,
       "bottom": null,
       "display": null,
       "flex": null,
       "flex_flow": null,
       "grid_area": null,
       "grid_auto_columns": null,
       "grid_auto_flow": null,
       "grid_auto_rows": null,
       "grid_column": null,
       "grid_gap": null,
       "grid_row": null,
       "grid_template_areas": null,
       "grid_template_columns": null,
       "grid_template_rows": null,
       "height": null,
       "justify_content": null,
       "justify_items": null,
       "left": null,
       "margin": null,
       "max_height": null,
       "max_width": null,
       "min_height": null,
       "min_width": null,
       "object_fit": null,
       "object_position": null,
       "order": null,
       "overflow": null,
       "overflow_x": null,
       "overflow_y": null,
       "padding": null,
       "right": null,
       "top": null,
       "visibility": null,
       "width": null
      }
     },
     "637d349bfc7c4343a737b36972cb0344": {
      "model_module": "@jupyter-widgets/base",
      "model_module_version": "1.2.0",
      "model_name": "LayoutModel",
      "state": {
       "_model_module": "@jupyter-widgets/base",
       "_model_module_version": "1.2.0",
       "_model_name": "LayoutModel",
       "_view_count": null,
       "_view_module": "@jupyter-widgets/base",
       "_view_module_version": "1.2.0",
       "_view_name": "LayoutView",
       "align_content": null,
       "align_items": null,
       "align_self": null,
       "border": null,
       "bottom": null,
       "display": null,
       "flex": null,
       "flex_flow": null,
       "grid_area": null,
       "grid_auto_columns": null,
       "grid_auto_flow": null,
       "grid_auto_rows": null,
       "grid_column": null,
       "grid_gap": null,
       "grid_row": null,
       "grid_template_areas": null,
       "grid_template_columns": null,
       "grid_template_rows": null,
       "height": null,
       "justify_content": null,
       "justify_items": null,
       "left": null,
       "margin": null,
       "max_height": null,
       "max_width": null,
       "min_height": null,
       "min_width": null,
       "object_fit": null,
       "object_position": null,
       "order": null,
       "overflow": null,
       "overflow_x": null,
       "overflow_y": null,
       "padding": null,
       "right": null,
       "top": null,
       "visibility": null,
       "width": null
      }
     },
     "662275b8a19647328cd37e3bc9e0f5d0": {
      "model_module": "@jupyter-widgets/base",
      "model_module_version": "1.2.0",
      "model_name": "LayoutModel",
      "state": {
       "_model_module": "@jupyter-widgets/base",
       "_model_module_version": "1.2.0",
       "_model_name": "LayoutModel",
       "_view_count": null,
       "_view_module": "@jupyter-widgets/base",
       "_view_module_version": "1.2.0",
       "_view_name": "LayoutView",
       "align_content": null,
       "align_items": null,
       "align_self": null,
       "border": null,
       "bottom": null,
       "display": null,
       "flex": null,
       "flex_flow": null,
       "grid_area": null,
       "grid_auto_columns": null,
       "grid_auto_flow": null,
       "grid_auto_rows": null,
       "grid_column": null,
       "grid_gap": null,
       "grid_row": null,
       "grid_template_areas": null,
       "grid_template_columns": null,
       "grid_template_rows": null,
       "height": null,
       "justify_content": null,
       "justify_items": null,
       "left": null,
       "margin": null,
       "max_height": null,
       "max_width": null,
       "min_height": null,
       "min_width": null,
       "object_fit": null,
       "object_position": null,
       "order": null,
       "overflow": null,
       "overflow_x": null,
       "overflow_y": null,
       "padding": null,
       "right": null,
       "top": null,
       "visibility": null,
       "width": null
      }
     },
     "70dc05ef0353490fabb9eff79d5d8fb0": {
      "model_module": "@jupyter-widgets/controls",
      "model_module_version": "1.5.0",
      "model_name": "ProgressStyleModel",
      "state": {
       "_model_module": "@jupyter-widgets/controls",
       "_model_module_version": "1.5.0",
       "_model_name": "ProgressStyleModel",
       "_view_count": null,
       "_view_module": "@jupyter-widgets/base",
       "_view_module_version": "1.2.0",
       "_view_name": "StyleView",
       "bar_color": null,
       "description_width": ""
      }
     },
     "734355bac04840e1a17028919906c7cb": {
      "model_module": "@jupyter-widgets/controls",
      "model_module_version": "1.5.0",
      "model_name": "HBoxModel",
      "state": {
       "_dom_classes": [],
       "_model_module": "@jupyter-widgets/controls",
       "_model_module_version": "1.5.0",
       "_model_name": "HBoxModel",
       "_view_count": null,
       "_view_module": "@jupyter-widgets/controls",
       "_view_module_version": "1.5.0",
       "_view_name": "HBoxView",
       "box_style": "",
       "children": [
        "IPY_MODEL_a09fe86c1be940b781eda4f93ca63c5f",
        "IPY_MODEL_26441ba20b9a4b9d9a13c3cb5aa38e73",
        "IPY_MODEL_7881c6f5bf45438b9f8ed91a8db928a0"
       ],
       "layout": "IPY_MODEL_f789a6879d1247b0bc28ac48a6289626"
      }
     },
     "75f7c74f5544481c9cb4962d8993b032": {
      "model_module": "@jupyter-widgets/controls",
      "model_module_version": "1.5.0",
      "model_name": "HBoxModel",
      "state": {
       "_dom_classes": [],
       "_model_module": "@jupyter-widgets/controls",
       "_model_module_version": "1.5.0",
       "_model_name": "HBoxModel",
       "_view_count": null,
       "_view_module": "@jupyter-widgets/controls",
       "_view_module_version": "1.5.0",
       "_view_name": "HBoxView",
       "box_style": "",
       "children": [
        "IPY_MODEL_997d06d33b3b4a31be1eeb7dfa0682cd",
        "IPY_MODEL_85e786cdbb2442c48df868fd9d2b4046",
        "IPY_MODEL_569bd795d5ec4cf28c46314ae1cc3c17"
       ],
       "layout": "IPY_MODEL_5584ca267c4f433a86b83f6eba3ae683"
      }
     },
     "7881c6f5bf45438b9f8ed91a8db928a0": {
      "model_module": "@jupyter-widgets/controls",
      "model_module_version": "1.5.0",
      "model_name": "HTMLModel",
      "state": {
       "_dom_classes": [],
       "_model_module": "@jupyter-widgets/controls",
       "_model_module_version": "1.5.0",
       "_model_name": "HTMLModel",
       "_view_count": null,
       "_view_module": "@jupyter-widgets/controls",
       "_view_module_version": "1.5.0",
       "_view_name": "HTMLView",
       "description": "",
       "description_tooltip": null,
       "layout": "IPY_MODEL_884398bfacf74cd7a343e0e4c8bdd0ed",
       "placeholder": "​",
       "style": "IPY_MODEL_94e1c6b030ba4035a5e7ffa9c83a3451",
       "value": " 232k/232k [00:00&lt;00:00, 2.79MB/s]"
      }
     },
     "7ed1309cc2c94e6f8d6598c4bba63a92": {
      "model_module": "@jupyter-widgets/base",
      "model_module_version": "1.2.0",
      "model_name": "LayoutModel",
      "state": {
       "_model_module": "@jupyter-widgets/base",
       "_model_module_version": "1.2.0",
       "_model_name": "LayoutModel",
       "_view_count": null,
       "_view_module": "@jupyter-widgets/base",
       "_view_module_version": "1.2.0",
       "_view_name": "LayoutView",
       "align_content": null,
       "align_items": null,
       "align_self": null,
       "border": null,
       "bottom": null,
       "display": null,
       "flex": null,
       "flex_flow": null,
       "grid_area": null,
       "grid_auto_columns": null,
       "grid_auto_flow": null,
       "grid_auto_rows": null,
       "grid_column": null,
       "grid_gap": null,
       "grid_row": null,
       "grid_template_areas": null,
       "grid_template_columns": null,
       "grid_template_rows": null,
       "height": null,
       "justify_content": null,
       "justify_items": null,
       "left": null,
       "margin": null,
       "max_height": null,
       "max_width": null,
       "min_height": null,
       "min_width": null,
       "object_fit": null,
       "object_position": null,
       "order": null,
       "overflow": null,
       "overflow_x": null,
       "overflow_y": null,
       "padding": null,
       "right": null,
       "top": null,
       "visibility": null,
       "width": null
      }
     },
     "85e786cdbb2442c48df868fd9d2b4046": {
      "model_module": "@jupyter-widgets/controls",
      "model_module_version": "1.5.0",
      "model_name": "FloatProgressModel",
      "state": {
       "_dom_classes": [],
       "_model_module": "@jupyter-widgets/controls",
       "_model_module_version": "1.5.0",
       "_model_name": "FloatProgressModel",
       "_view_count": null,
       "_view_module": "@jupyter-widgets/controls",
       "_view_module_version": "1.5.0",
       "_view_name": "ProgressView",
       "bar_style": "success",
       "description": "",
       "description_tooltip": null,
       "layout": "IPY_MODEL_637d349bfc7c4343a737b36972cb0344",
       "max": 440449768.0,
       "min": 0.0,
       "orientation": "horizontal",
       "style": "IPY_MODEL_70dc05ef0353490fabb9eff79d5d8fb0",
       "value": 440449768.0
      }
     },
     "883096e67fb44e2a9de786d175471836": {
      "model_module": "@jupyter-widgets/controls",
      "model_module_version": "1.5.0",
      "model_name": "HTMLModel",
      "state": {
       "_dom_classes": [],
       "_model_module": "@jupyter-widgets/controls",
       "_model_module_version": "1.5.0",
       "_model_name": "HTMLModel",
       "_view_count": null,
       "_view_module": "@jupyter-widgets/controls",
       "_view_module_version": "1.5.0",
       "_view_name": "HTMLView",
       "description": "",
       "description_tooltip": null,
       "layout": "IPY_MODEL_1b349a07da4c44a189978d5b5af44e18",
       "placeholder": "​",
       "style": "IPY_MODEL_883ea4970d064fee8e76213570020e2e",
       "value": " 48.0/48.0 [00:00&lt;00:00, 3.81kB/s]"
      }
     },
     "883ea4970d064fee8e76213570020e2e": {
      "model_module": "@jupyter-widgets/controls",
      "model_module_version": "1.5.0",
      "model_name": "DescriptionStyleModel",
      "state": {
       "_model_module": "@jupyter-widgets/controls",
       "_model_module_version": "1.5.0",
       "_model_name": "DescriptionStyleModel",
       "_view_count": null,
       "_view_module": "@jupyter-widgets/base",
       "_view_module_version": "1.2.0",
       "_view_name": "StyleView",
       "description_width": ""
      }
     },
     "884236294f1d4004b02a7cc9770ab2e7": {
      "model_module": "@jupyter-widgets/controls",
      "model_module_version": "1.5.0",
      "model_name": "ProgressStyleModel",
      "state": {
       "_model_module": "@jupyter-widgets/controls",
       "_model_module_version": "1.5.0",
       "_model_name": "ProgressStyleModel",
       "_view_count": null,
       "_view_module": "@jupyter-widgets/base",
       "_view_module_version": "1.2.0",
       "_view_name": "StyleView",
       "bar_color": null,
       "description_width": ""
      }
     },
     "884398bfacf74cd7a343e0e4c8bdd0ed": {
      "model_module": "@jupyter-widgets/base",
      "model_module_version": "1.2.0",
      "model_name": "LayoutModel",
      "state": {
       "_model_module": "@jupyter-widgets/base",
       "_model_module_version": "1.2.0",
       "_model_name": "LayoutModel",
       "_view_count": null,
       "_view_module": "@jupyter-widgets/base",
       "_view_module_version": "1.2.0",
       "_view_name": "LayoutView",
       "align_content": null,
       "align_items": null,
       "align_self": null,
       "border": null,
       "bottom": null,
       "display": null,
       "flex": null,
       "flex_flow": null,
       "grid_area": null,
       "grid_auto_columns": null,
       "grid_auto_flow": null,
       "grid_auto_rows": null,
       "grid_column": null,
       "grid_gap": null,
       "grid_row": null,
       "grid_template_areas": null,
       "grid_template_columns": null,
       "grid_template_rows": null,
       "height": null,
       "justify_content": null,
       "justify_items": null,
       "left": null,
       "margin": null,
       "max_height": null,
       "max_width": null,
       "min_height": null,
       "min_width": null,
       "object_fit": null,
       "object_position": null,
       "order": null,
       "overflow": null,
       "overflow_x": null,
       "overflow_y": null,
       "padding": null,
       "right": null,
       "top": null,
       "visibility": null,
       "width": null
      }
     },
     "94e1c6b030ba4035a5e7ffa9c83a3451": {
      "model_module": "@jupyter-widgets/controls",
      "model_module_version": "1.5.0",
      "model_name": "DescriptionStyleModel",
      "state": {
       "_model_module": "@jupyter-widgets/controls",
       "_model_module_version": "1.5.0",
       "_model_name": "DescriptionStyleModel",
       "_view_count": null,
       "_view_module": "@jupyter-widgets/base",
       "_view_module_version": "1.2.0",
       "_view_name": "StyleView",
       "description_width": ""
      }
     },
     "97fa0ccad6524b3bb4be4358d770e3dc": {
      "model_module": "@jupyter-widgets/base",
      "model_module_version": "1.2.0",
      "model_name": "LayoutModel",
      "state": {
       "_model_module": "@jupyter-widgets/base",
       "_model_module_version": "1.2.0",
       "_model_name": "LayoutModel",
       "_view_count": null,
       "_view_module": "@jupyter-widgets/base",
       "_view_module_version": "1.2.0",
       "_view_name": "LayoutView",
       "align_content": null,
       "align_items": null,
       "align_self": null,
       "border": null,
       "bottom": null,
       "display": null,
       "flex": null,
       "flex_flow": null,
       "grid_area": null,
       "grid_auto_columns": null,
       "grid_auto_flow": null,
       "grid_auto_rows": null,
       "grid_column": null,
       "grid_gap": null,
       "grid_row": null,
       "grid_template_areas": null,
       "grid_template_columns": null,
       "grid_template_rows": null,
       "height": null,
       "justify_content": null,
       "justify_items": null,
       "left": null,
       "margin": null,
       "max_height": null,
       "max_width": null,
       "min_height": null,
       "min_width": null,
       "object_fit": null,
       "object_position": null,
       "order": null,
       "overflow": null,
       "overflow_x": null,
       "overflow_y": null,
       "padding": null,
       "right": null,
       "top": null,
       "visibility": null,
       "width": null
      }
     },
     "997d06d33b3b4a31be1eeb7dfa0682cd": {
      "model_module": "@jupyter-widgets/controls",
      "model_module_version": "1.5.0",
      "model_name": "HTMLModel",
      "state": {
       "_dom_classes": [],
       "_model_module": "@jupyter-widgets/controls",
       "_model_module_version": "1.5.0",
       "_model_name": "HTMLModel",
       "_view_count": null,
       "_view_module": "@jupyter-widgets/controls",
       "_view_module_version": "1.5.0",
       "_view_name": "HTMLView",
       "description": "",
       "description_tooltip": null,
       "layout": "IPY_MODEL_37d2423ba9b14a11aeb17934053b4af6",
       "placeholder": "​",
       "style": "IPY_MODEL_1e4911dc24fb48d9b91d6f0245f1cab1",
       "value": "model.safetensors: 100%"
      }
     },
     "9a6b715ec67e441e9af7c12c6b404a5b": {
      "model_module": "@jupyter-widgets/base",
      "model_module_version": "1.2.0",
      "model_name": "LayoutModel",
      "state": {
       "_model_module": "@jupyter-widgets/base",
       "_model_module_version": "1.2.0",
       "_model_name": "LayoutModel",
       "_view_count": null,
       "_view_module": "@jupyter-widgets/base",
       "_view_module_version": "1.2.0",
       "_view_name": "LayoutView",
       "align_content": null,
       "align_items": null,
       "align_self": null,
       "border": null,
       "bottom": null,
       "display": null,
       "flex": null,
       "flex_flow": null,
       "grid_area": null,
       "grid_auto_columns": null,
       "grid_auto_flow": null,
       "grid_auto_rows": null,
       "grid_column": null,
       "grid_gap": null,
       "grid_row": null,
       "grid_template_areas": null,
       "grid_template_columns": null,
       "grid_template_rows": null,
       "height": null,
       "justify_content": null,
       "justify_items": null,
       "left": null,
       "margin": null,
       "max_height": null,
       "max_width": null,
       "min_height": null,
       "min_width": null,
       "object_fit": null,
       "object_position": null,
       "order": null,
       "overflow": null,
       "overflow_x": null,
       "overflow_y": null,
       "padding": null,
       "right": null,
       "top": null,
       "visibility": null,
       "width": null
      }
     },
     "9a8769d87cc740f8a273bb1bc866feaa": {
      "model_module": "@jupyter-widgets/controls",
      "model_module_version": "1.5.0",
      "model_name": "HTMLModel",
      "state": {
       "_dom_classes": [],
       "_model_module": "@jupyter-widgets/controls",
       "_model_module_version": "1.5.0",
       "_model_name": "HTMLModel",
       "_view_count": null,
       "_view_module": "@jupyter-widgets/controls",
       "_view_module_version": "1.5.0",
       "_view_name": "HTMLView",
       "description": "",
       "description_tooltip": null,
       "layout": "IPY_MODEL_a66ac54e00a84f269d79421e1f5a57e4",
       "placeholder": "​",
       "style": "IPY_MODEL_dfc9e0faad2949f5a45330d8238a769b",
       "value": " 466k/466k [00:00&lt;00:00, 1.91MB/s]"
      }
     },
     "9b8f8a36de674edcb4e937512a163a26": {
      "model_module": "@jupyter-widgets/controls",
      "model_module_version": "1.5.0",
      "model_name": "HTMLModel",
      "state": {
       "_dom_classes": [],
       "_model_module": "@jupyter-widgets/controls",
       "_model_module_version": "1.5.0",
       "_model_name": "HTMLModel",
       "_view_count": null,
       "_view_module": "@jupyter-widgets/controls",
       "_view_module_version": "1.5.0",
       "_view_name": "HTMLView",
       "description": "",
       "description_tooltip": null,
       "layout": "IPY_MODEL_af70d82ed61a4350a8ca8f71b8823eaf",
       "placeholder": "​",
       "style": "IPY_MODEL_37a8b4fcb6924e16b87bf7fef951a752",
       "value": "config.json: 100%"
      }
     },
     "9fcf9752259043ae85af071584cfe57e": {
      "model_module": "@jupyter-widgets/base",
      "model_module_version": "1.2.0",
      "model_name": "LayoutModel",
      "state": {
       "_model_module": "@jupyter-widgets/base",
       "_model_module_version": "1.2.0",
       "_model_name": "LayoutModel",
       "_view_count": null,
       "_view_module": "@jupyter-widgets/base",
       "_view_module_version": "1.2.0",
       "_view_name": "LayoutView",
       "align_content": null,
       "align_items": null,
       "align_self": null,
       "border": null,
       "bottom": null,
       "display": null,
       "flex": null,
       "flex_flow": null,
       "grid_area": null,
       "grid_auto_columns": null,
       "grid_auto_flow": null,
       "grid_auto_rows": null,
       "grid_column": null,
       "grid_gap": null,
       "grid_row": null,
       "grid_template_areas": null,
       "grid_template_columns": null,
       "grid_template_rows": null,
       "height": null,
       "justify_content": null,
       "justify_items": null,
       "left": null,
       "margin": null,
       "max_height": null,
       "max_width": null,
       "min_height": null,
       "min_width": null,
       "object_fit": null,
       "object_position": null,
       "order": null,
       "overflow": null,
       "overflow_x": null,
       "overflow_y": null,
       "padding": null,
       "right": null,
       "top": null,
       "visibility": null,
       "width": null
      }
     },
     "a09fe86c1be940b781eda4f93ca63c5f": {
      "model_module": "@jupyter-widgets/controls",
      "model_module_version": "1.5.0",
      "model_name": "HTMLModel",
      "state": {
       "_dom_classes": [],
       "_model_module": "@jupyter-widgets/controls",
       "_model_module_version": "1.5.0",
       "_model_name": "HTMLModel",
       "_view_count": null,
       "_view_module": "@jupyter-widgets/controls",
       "_view_module_version": "1.5.0",
       "_view_name": "HTMLView",
       "description": "",
       "description_tooltip": null,
       "layout": "IPY_MODEL_9fcf9752259043ae85af071584cfe57e",
       "placeholder": "​",
       "style": "IPY_MODEL_0440fe37a8be4f719e9f75896f786b01",
       "value": "vocab.txt: 100%"
      }
     },
     "a66ac54e00a84f269d79421e1f5a57e4": {
      "model_module": "@jupyter-widgets/base",
      "model_module_version": "1.2.0",
      "model_name": "LayoutModel",
      "state": {
       "_model_module": "@jupyter-widgets/base",
       "_model_module_version": "1.2.0",
       "_model_name": "LayoutModel",
       "_view_count": null,
       "_view_module": "@jupyter-widgets/base",
       "_view_module_version": "1.2.0",
       "_view_name": "LayoutView",
       "align_content": null,
       "align_items": null,
       "align_self": null,
       "border": null,
       "bottom": null,
       "display": null,
       "flex": null,
       "flex_flow": null,
       "grid_area": null,
       "grid_auto_columns": null,
       "grid_auto_flow": null,
       "grid_auto_rows": null,
       "grid_column": null,
       "grid_gap": null,
       "grid_row": null,
       "grid_template_areas": null,
       "grid_template_columns": null,
       "grid_template_rows": null,
       "height": null,
       "justify_content": null,
       "justify_items": null,
       "left": null,
       "margin": null,
       "max_height": null,
       "max_width": null,
       "min_height": null,
       "min_width": null,
       "object_fit": null,
       "object_position": null,
       "order": null,
       "overflow": null,
       "overflow_x": null,
       "overflow_y": null,
       "padding": null,
       "right": null,
       "top": null,
       "visibility": null,
       "width": null
      }
     },
     "a755c227260547728fcb907d991ffffc": {
      "model_module": "@jupyter-widgets/base",
      "model_module_version": "1.2.0",
      "model_name": "LayoutModel",
      "state": {
       "_model_module": "@jupyter-widgets/base",
       "_model_module_version": "1.2.0",
       "_model_name": "LayoutModel",
       "_view_count": null,
       "_view_module": "@jupyter-widgets/base",
       "_view_module_version": "1.2.0",
       "_view_name": "LayoutView",
       "align_content": null,
       "align_items": null,
       "align_self": null,
       "border": null,
       "bottom": null,
       "display": null,
       "flex": null,
       "flex_flow": null,
       "grid_area": null,
       "grid_auto_columns": null,
       "grid_auto_flow": null,
       "grid_auto_rows": null,
       "grid_column": null,
       "grid_gap": null,
       "grid_row": null,
       "grid_template_areas": null,
       "grid_template_columns": null,
       "grid_template_rows": null,
       "height": null,
       "justify_content": null,
       "justify_items": null,
       "left": null,
       "margin": null,
       "max_height": null,
       "max_width": null,
       "min_height": null,
       "min_width": null,
       "object_fit": null,
       "object_position": null,
       "order": null,
       "overflow": null,
       "overflow_x": null,
       "overflow_y": null,
       "padding": null,
       "right": null,
       "top": null,
       "visibility": null,
       "width": null
      }
     },
     "af70d82ed61a4350a8ca8f71b8823eaf": {
      "model_module": "@jupyter-widgets/base",
      "model_module_version": "1.2.0",
      "model_name": "LayoutModel",
      "state": {
       "_model_module": "@jupyter-widgets/base",
       "_model_module_version": "1.2.0",
       "_model_name": "LayoutModel",
       "_view_count": null,
       "_view_module": "@jupyter-widgets/base",
       "_view_module_version": "1.2.0",
       "_view_name": "LayoutView",
       "align_content": null,
       "align_items": null,
       "align_self": null,
       "border": null,
       "bottom": null,
       "display": null,
       "flex": null,
       "flex_flow": null,
       "grid_area": null,
       "grid_auto_columns": null,
       "grid_auto_flow": null,
       "grid_auto_rows": null,
       "grid_column": null,
       "grid_gap": null,
       "grid_row": null,
       "grid_template_areas": null,
       "grid_template_columns": null,
       "grid_template_rows": null,
       "height": null,
       "justify_content": null,
       "justify_items": null,
       "left": null,
       "margin": null,
       "max_height": null,
       "max_width": null,
       "min_height": null,
       "min_width": null,
       "object_fit": null,
       "object_position": null,
       "order": null,
       "overflow": null,
       "overflow_x": null,
       "overflow_y": null,
       "padding": null,
       "right": null,
       "top": null,
       "visibility": null,
       "width": null
      }
     },
     "afe52cdbc0ec436aa3898260ce87a739": {
      "model_module": "@jupyter-widgets/controls",
      "model_module_version": "1.5.0",
      "model_name": "DescriptionStyleModel",
      "state": {
       "_model_module": "@jupyter-widgets/controls",
       "_model_module_version": "1.5.0",
       "_model_name": "DescriptionStyleModel",
       "_view_count": null,
       "_view_module": "@jupyter-widgets/base",
       "_view_module_version": "1.2.0",
       "_view_name": "StyleView",
       "description_width": ""
      }
     },
     "b08d7bc3333a4a19881bbd7703b8ac42": {
      "model_module": "@jupyter-widgets/base",
      "model_module_version": "1.2.0",
      "model_name": "LayoutModel",
      "state": {
       "_model_module": "@jupyter-widgets/base",
       "_model_module_version": "1.2.0",
       "_model_name": "LayoutModel",
       "_view_count": null,
       "_view_module": "@jupyter-widgets/base",
       "_view_module_version": "1.2.0",
       "_view_name": "LayoutView",
       "align_content": null,
       "align_items": null,
       "align_self": null,
       "border": null,
       "bottom": null,
       "display": null,
       "flex": null,
       "flex_flow": null,
       "grid_area": null,
       "grid_auto_columns": null,
       "grid_auto_flow": null,
       "grid_auto_rows": null,
       "grid_column": null,
       "grid_gap": null,
       "grid_row": null,
       "grid_template_areas": null,
       "grid_template_columns": null,
       "grid_template_rows": null,
       "height": null,
       "justify_content": null,
       "justify_items": null,
       "left": null,
       "margin": null,
       "max_height": null,
       "max_width": null,
       "min_height": null,
       "min_width": null,
       "object_fit": null,
       "object_position": null,
       "order": null,
       "overflow": null,
       "overflow_x": null,
       "overflow_y": null,
       "padding": null,
       "right": null,
       "top": null,
       "visibility": null,
       "width": null
      }
     },
     "b5bbf3f166ba4a908bfa26cc79df1bd0": {
      "model_module": "@jupyter-widgets/controls",
      "model_module_version": "1.5.0",
      "model_name": "HTMLModel",
      "state": {
       "_dom_classes": [],
       "_model_module": "@jupyter-widgets/controls",
       "_model_module_version": "1.5.0",
       "_model_name": "HTMLModel",
       "_view_count": null,
       "_view_module": "@jupyter-widgets/controls",
       "_view_module_version": "1.5.0",
       "_view_name": "HTMLView",
       "description": "",
       "description_tooltip": null,
       "layout": "IPY_MODEL_7ed1309cc2c94e6f8d6598c4bba63a92",
       "placeholder": "​",
       "style": "IPY_MODEL_535f3450ed0647cea295c155e5bf8f04",
       "value": "tokenizer.json: 100%"
      }
     },
     "b699f600913a48cfb54dfc0188daeb26": {
      "model_module": "@jupyter-widgets/controls",
      "model_module_version": "1.5.0",
      "model_name": "HBoxModel",
      "state": {
       "_dom_classes": [],
       "_model_module": "@jupyter-widgets/controls",
       "_model_module_version": "1.5.0",
       "_model_name": "HBoxModel",
       "_view_count": null,
       "_view_module": "@jupyter-widgets/controls",
       "_view_module_version": "1.5.0",
       "_view_name": "HBoxView",
       "box_style": "",
       "children": [
        "IPY_MODEL_11580566d63c46389159241000be8de9",
        "IPY_MODEL_c764c7a2173a4fa9880cb334680f22cd",
        "IPY_MODEL_883096e67fb44e2a9de786d175471836"
       ],
       "layout": "IPY_MODEL_30aeae85b2bd4dbfa153918d5b311f61"
      }
     },
     "bd05789da52a406c904494e468183133": {
      "model_module": "@jupyter-widgets/base",
      "model_module_version": "1.2.0",
      "model_name": "LayoutModel",
      "state": {
       "_model_module": "@jupyter-widgets/base",
       "_model_module_version": "1.2.0",
       "_model_name": "LayoutModel",
       "_view_count": null,
       "_view_module": "@jupyter-widgets/base",
       "_view_module_version": "1.2.0",
       "_view_name": "LayoutView",
       "align_content": null,
       "align_items": null,
       "align_self": null,
       "border": null,
       "bottom": null,
       "display": null,
       "flex": null,
       "flex_flow": null,
       "grid_area": null,
       "grid_auto_columns": null,
       "grid_auto_flow": null,
       "grid_auto_rows": null,
       "grid_column": null,
       "grid_gap": null,
       "grid_row": null,
       "grid_template_areas": null,
       "grid_template_columns": null,
       "grid_template_rows": null,
       "height": null,
       "justify_content": null,
       "justify_items": null,
       "left": null,
       "margin": null,
       "max_height": null,
       "max_width": null,
       "min_height": null,
       "min_width": null,
       "object_fit": null,
       "object_position": null,
       "order": null,
       "overflow": null,
       "overflow_x": null,
       "overflow_y": null,
       "padding": null,
       "right": null,
       "top": null,
       "visibility": null,
       "width": null
      }
     },
     "c764c7a2173a4fa9880cb334680f22cd": {
      "model_module": "@jupyter-widgets/controls",
      "model_module_version": "1.5.0",
      "model_name": "FloatProgressModel",
      "state": {
       "_dom_classes": [],
       "_model_module": "@jupyter-widgets/controls",
       "_model_module_version": "1.5.0",
       "_model_name": "FloatProgressModel",
       "_view_count": null,
       "_view_module": "@jupyter-widgets/controls",
       "_view_module_version": "1.5.0",
       "_view_name": "ProgressView",
       "bar_style": "success",
       "description": "",
       "description_tooltip": null,
       "layout": "IPY_MODEL_662275b8a19647328cd37e3bc9e0f5d0",
       "max": 48.0,
       "min": 0.0,
       "orientation": "horizontal",
       "style": "IPY_MODEL_520a8387fc8a490c8a7a1e22ef3606ae",
       "value": 48.0
      }
     },
     "dcfa715a741a48ca95b1e57d1859fb86": {
      "model_module": "@jupyter-widgets/controls",
      "model_module_version": "1.5.0",
      "model_name": "ProgressStyleModel",
      "state": {
       "_model_module": "@jupyter-widgets/controls",
       "_model_module_version": "1.5.0",
       "_model_name": "ProgressStyleModel",
       "_view_count": null,
       "_view_module": "@jupyter-widgets/base",
       "_view_module_version": "1.2.0",
       "_view_name": "StyleView",
       "bar_color": null,
       "description_width": ""
      }
     },
     "dfc9e0faad2949f5a45330d8238a769b": {
      "model_module": "@jupyter-widgets/controls",
      "model_module_version": "1.5.0",
      "model_name": "DescriptionStyleModel",
      "state": {
       "_model_module": "@jupyter-widgets/controls",
       "_model_module_version": "1.5.0",
       "_model_name": "DescriptionStyleModel",
       "_view_count": null,
       "_view_module": "@jupyter-widgets/base",
       "_view_module_version": "1.2.0",
       "_view_name": "StyleView",
       "description_width": ""
      }
     },
     "ebda8e695ad4493b9b320126452d4678": {
      "model_module": "@jupyter-widgets/controls",
      "model_module_version": "1.5.0",
      "model_name": "HBoxModel",
      "state": {
       "_dom_classes": [],
       "_model_module": "@jupyter-widgets/controls",
       "_model_module_version": "1.5.0",
       "_model_name": "HBoxModel",
       "_view_count": null,
       "_view_module": "@jupyter-widgets/controls",
       "_view_module_version": "1.5.0",
       "_view_name": "HBoxView",
       "box_style": "",
       "children": [
        "IPY_MODEL_b5bbf3f166ba4a908bfa26cc79df1bd0",
        "IPY_MODEL_18914c27697f43e287a444db4b95f7c1",
        "IPY_MODEL_9a8769d87cc740f8a273bb1bc866feaa"
       ],
       "layout": "IPY_MODEL_62eef70e38574b6d8ce08c986f4c05b2"
      }
     },
     "ec1ef0db3e294bd99f846f4d764c0d79": {
      "model_module": "@jupyter-widgets/controls",
      "model_module_version": "1.5.0",
      "model_name": "FloatProgressModel",
      "state": {
       "_dom_classes": [],
       "_model_module": "@jupyter-widgets/controls",
       "_model_module_version": "1.5.0",
       "_model_name": "FloatProgressModel",
       "_view_count": null,
       "_view_module": "@jupyter-widgets/controls",
       "_view_module_version": "1.5.0",
       "_view_name": "ProgressView",
       "bar_style": "success",
       "description": "",
       "description_tooltip": null,
       "layout": "IPY_MODEL_bd05789da52a406c904494e468183133",
       "max": 570.0,
       "min": 0.0,
       "orientation": "horizontal",
       "style": "IPY_MODEL_260aa09d0c7742f1b5c24107937ed578",
       "value": 570.0
      }
     },
     "efac0a9d6c864c5cb154e8586a7c9e8d": {
      "model_module": "@jupyter-widgets/controls",
      "model_module_version": "1.5.0",
      "model_name": "HBoxModel",
      "state": {
       "_dom_classes": [],
       "_model_module": "@jupyter-widgets/controls",
       "_model_module_version": "1.5.0",
       "_model_name": "HBoxModel",
       "_view_count": null,
       "_view_module": "@jupyter-widgets/controls",
       "_view_module_version": "1.5.0",
       "_view_name": "HBoxView",
       "box_style": "",
       "children": [
        "IPY_MODEL_9b8f8a36de674edcb4e937512a163a26",
        "IPY_MODEL_ec1ef0db3e294bd99f846f4d764c0d79",
        "IPY_MODEL_f55cbb2ab5b545a49223bb80ab4b4cdc"
       ],
       "layout": "IPY_MODEL_97fa0ccad6524b3bb4be4358d770e3dc"
      }
     },
     "f55cbb2ab5b545a49223bb80ab4b4cdc": {
      "model_module": "@jupyter-widgets/controls",
      "model_module_version": "1.5.0",
      "model_name": "HTMLModel",
      "state": {
       "_dom_classes": [],
       "_model_module": "@jupyter-widgets/controls",
       "_model_module_version": "1.5.0",
       "_model_name": "HTMLModel",
       "_view_count": null,
       "_view_module": "@jupyter-widgets/controls",
       "_view_module_version": "1.5.0",
       "_view_name": "HTMLView",
       "description": "",
       "description_tooltip": null,
       "layout": "IPY_MODEL_9a6b715ec67e441e9af7c12c6b404a5b",
       "placeholder": "​",
       "style": "IPY_MODEL_2204b3dfacdc40048ed34d91c354fce2",
       "value": " 570/570 [00:00&lt;00:00, 48.8kB/s]"
      }
     },
     "f789a6879d1247b0bc28ac48a6289626": {
      "model_module": "@jupyter-widgets/base",
      "model_module_version": "1.2.0",
      "model_name": "LayoutModel",
      "state": {
       "_model_module": "@jupyter-widgets/base",
       "_model_module_version": "1.2.0",
       "_model_name": "LayoutModel",
       "_view_count": null,
       "_view_module": "@jupyter-widgets/base",
       "_view_module_version": "1.2.0",
       "_view_name": "LayoutView",
       "align_content": null,
       "align_items": null,
       "align_self": null,
       "border": null,
       "bottom": null,
       "display": null,
       "flex": null,
       "flex_flow": null,
       "grid_area": null,
       "grid_auto_columns": null,
       "grid_auto_flow": null,
       "grid_auto_rows": null,
       "grid_column": null,
       "grid_gap": null,
       "grid_row": null,
       "grid_template_areas": null,
       "grid_template_columns": null,
       "grid_template_rows": null,
       "height": null,
       "justify_content": null,
       "justify_items": null,
       "left": null,
       "margin": null,
       "max_height": null,
       "max_width": null,
       "min_height": null,
       "min_width": null,
       "object_fit": null,
       "object_position": null,
       "order": null,
       "overflow": null,
       "overflow_x": null,
       "overflow_y": null,
       "padding": null,
       "right": null,
       "top": null,
       "visibility": null,
       "width": null
      }
     }
    },
    "version_major": 2,
    "version_minor": 0
   }
  }
 },
 "nbformat": 4,
 "nbformat_minor": 5
}
