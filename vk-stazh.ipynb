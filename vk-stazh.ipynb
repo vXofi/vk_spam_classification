{
 "cells": [
  {
   "cell_type": "code",
   "execution_count": 1,
   "id": "d30a1204",
   "metadata": {
    "_cell_guid": "b1076dfc-b9ad-4769-8c92-a6c4dae69d19",
    "_uuid": "8f2839f25d086af736a60e9eeb907d3b93b6e0e5",
    "execution": {
     "iopub.execute_input": "2024-05-03T08:55:20.875030Z",
     "iopub.status.busy": "2024-05-03T08:55:20.874694Z",
     "iopub.status.idle": "2024-05-03T08:55:29.883245Z",
     "shell.execute_reply": "2024-05-03T08:55:29.882281Z"
    },
    "papermill": {
     "duration": 9.023817,
     "end_time": "2024-05-03T08:55:29.885594",
     "exception": false,
     "start_time": "2024-05-03T08:55:20.861777",
     "status": "completed"
    },
    "tags": []
   },
   "outputs": [],
   "source": [
    "import numpy as np\n",
    "import pandas as pd\n",
    "import matplotlib.pyplot as plt\n",
    "from sklearn.model_selection import train_test_split\n",
    "from sklearn.naive_bayes import MultinomialNB\n",
    "from sklearn.svm import SVC\n",
    "from sklearn.ensemble import RandomForestClassifier\n",
    "from sklearn.metrics import roc_auc_score, accuracy_score, classification_report, confusion_matrix, ConfusionMatrixDisplay\n",
    "from sklearn.feature_extraction.text import TfidfVectorizer\n",
    "from tqdm import tqdm\n",
    "import torch\n",
    "import torch.nn as nn\n",
    "import torch.optim as optim\n",
    "from torch.utils.data import Dataset, DataLoader\n",
    "\n",
    "from transformers import BertTokenizer, BertModel, AdamW, get_linear_schedule_with_warmup"
   ]
  },
  {
   "cell_type": "code",
   "execution_count": 2,
   "id": "98a2dcb0",
   "metadata": {
    "execution": {
     "iopub.execute_input": "2024-05-03T08:55:29.908368Z",
     "iopub.status.busy": "2024-05-03T08:55:29.907914Z",
     "iopub.status.idle": "2024-05-03T08:55:30.121862Z",
     "shell.execute_reply": "2024-05-03T08:55:30.121085Z"
    },
    "papermill": {
     "duration": 0.227695,
     "end_time": "2024-05-03T08:55:30.124252",
     "exception": false,
     "start_time": "2024-05-03T08:55:29.896557",
     "status": "completed"
    },
    "tags": []
   },
   "outputs": [],
   "source": [
    "train = pd.read_csv(\"/kaggle/input/vk-spam-ham/train_spam.csv\")\n",
    "unk_test = pd.read_csv(\"/kaggle/input/vk-spam-ham/test_spam.csv\")"
   ]
  },
  {
   "cell_type": "markdown",
   "id": "afbee59f",
   "metadata": {
    "papermill": {
     "duration": 0.010531,
     "end_time": "2024-05-03T08:55:30.145988",
     "exception": false,
     "start_time": "2024-05-03T08:55:30.135457",
     "status": "completed"
    },
    "tags": []
   },
   "source": [
    "# Dataset review"
   ]
  },
  {
   "cell_type": "code",
   "execution_count": 3,
   "id": "b16dc8d0",
   "metadata": {
    "execution": {
     "iopub.execute_input": "2024-05-03T08:55:30.169475Z",
     "iopub.status.busy": "2024-05-03T08:55:30.168832Z",
     "iopub.status.idle": "2024-05-03T08:55:30.186018Z",
     "shell.execute_reply": "2024-05-03T08:55:30.185197Z"
    },
    "papermill": {
     "duration": 0.031249,
     "end_time": "2024-05-03T08:55:30.187845",
     "exception": false,
     "start_time": "2024-05-03T08:55:30.156596",
     "status": "completed"
    },
    "tags": []
   },
   "outputs": [
    {
     "data": {
      "text/html": [
       "<div>\n",
       "<style scoped>\n",
       "    .dataframe tbody tr th:only-of-type {\n",
       "        vertical-align: middle;\n",
       "    }\n",
       "\n",
       "    .dataframe tbody tr th {\n",
       "        vertical-align: top;\n",
       "    }\n",
       "\n",
       "    .dataframe thead th {\n",
       "        text-align: right;\n",
       "    }\n",
       "</style>\n",
       "<table border=\"1\" class=\"dataframe\">\n",
       "  <thead>\n",
       "    <tr style=\"text-align: right;\">\n",
       "      <th></th>\n",
       "      <th>text_type</th>\n",
       "      <th>text</th>\n",
       "    </tr>\n",
       "  </thead>\n",
       "  <tbody>\n",
       "    <tr>\n",
       "      <th>0</th>\n",
       "      <td>ham</td>\n",
       "      <td>make sure alex knows his birthday is over in f...</td>\n",
       "    </tr>\n",
       "    <tr>\n",
       "      <th>1</th>\n",
       "      <td>ham</td>\n",
       "      <td>a resume for john lavorato thanks vince i will...</td>\n",
       "    </tr>\n",
       "    <tr>\n",
       "      <th>2</th>\n",
       "      <td>spam</td>\n",
       "      <td>plzz visit my website moviesgodml to get all m...</td>\n",
       "    </tr>\n",
       "    <tr>\n",
       "      <th>3</th>\n",
       "      <td>spam</td>\n",
       "      <td>urgent your mobile number has been awarded wit...</td>\n",
       "    </tr>\n",
       "    <tr>\n",
       "      <th>4</th>\n",
       "      <td>ham</td>\n",
       "      <td>overview of hr associates analyst project per ...</td>\n",
       "    </tr>\n",
       "  </tbody>\n",
       "</table>\n",
       "</div>"
      ],
      "text/plain": [
       "  text_type                                               text\n",
       "0       ham  make sure alex knows his birthday is over in f...\n",
       "1       ham  a resume for john lavorato thanks vince i will...\n",
       "2      spam  plzz visit my website moviesgodml to get all m...\n",
       "3      spam  urgent your mobile number has been awarded wit...\n",
       "4       ham  overview of hr associates analyst project per ..."
      ]
     },
     "execution_count": 3,
     "metadata": {},
     "output_type": "execute_result"
    }
   ],
   "source": [
    "train.head()"
   ]
  },
  {
   "cell_type": "code",
   "execution_count": 4,
   "id": "e0e9bfae",
   "metadata": {
    "execution": {
     "iopub.execute_input": "2024-05-03T08:55:30.210519Z",
     "iopub.status.busy": "2024-05-03T08:55:30.210258Z",
     "iopub.status.idle": "2024-05-03T08:55:30.218082Z",
     "shell.execute_reply": "2024-05-03T08:55:30.217179Z"
    },
    "papermill": {
     "duration": 0.021272,
     "end_time": "2024-05-03T08:55:30.219914",
     "exception": false,
     "start_time": "2024-05-03T08:55:30.198642",
     "status": "completed"
    },
    "tags": []
   },
   "outputs": [
    {
     "data": {
      "text/html": [
       "<div>\n",
       "<style scoped>\n",
       "    .dataframe tbody tr th:only-of-type {\n",
       "        vertical-align: middle;\n",
       "    }\n",
       "\n",
       "    .dataframe tbody tr th {\n",
       "        vertical-align: top;\n",
       "    }\n",
       "\n",
       "    .dataframe thead th {\n",
       "        text-align: right;\n",
       "    }\n",
       "</style>\n",
       "<table border=\"1\" class=\"dataframe\">\n",
       "  <thead>\n",
       "    <tr style=\"text-align: right;\">\n",
       "      <th></th>\n",
       "      <th>text</th>\n",
       "    </tr>\n",
       "  </thead>\n",
       "  <tbody>\n",
       "    <tr>\n",
       "      <th>0</th>\n",
       "      <td>j jim whitehead ejw cse ucsc edu writes j you ...</td>\n",
       "    </tr>\n",
       "    <tr>\n",
       "      <th>1</th>\n",
       "      <td>original message from bitbitch magnesium net p...</td>\n",
       "    </tr>\n",
       "    <tr>\n",
       "      <th>2</th>\n",
       "      <td>java for managers vince durasoft who just taug...</td>\n",
       "    </tr>\n",
       "    <tr>\n",
       "      <th>3</th>\n",
       "      <td>there is a youtuber name saiman says</td>\n",
       "    </tr>\n",
       "    <tr>\n",
       "      <th>4</th>\n",
       "      <td>underpriced issue with high return on equity t...</td>\n",
       "    </tr>\n",
       "  </tbody>\n",
       "</table>\n",
       "</div>"
      ],
      "text/plain": [
       "                                                text\n",
       "0  j jim whitehead ejw cse ucsc edu writes j you ...\n",
       "1  original message from bitbitch magnesium net p...\n",
       "2  java for managers vince durasoft who just taug...\n",
       "3               there is a youtuber name saiman says\n",
       "4  underpriced issue with high return on equity t..."
      ]
     },
     "execution_count": 4,
     "metadata": {},
     "output_type": "execute_result"
    }
   ],
   "source": [
    "unk_test.head()"
   ]
  },
  {
   "cell_type": "code",
   "execution_count": 5,
   "id": "6fe744ab",
   "metadata": {
    "execution": {
     "iopub.execute_input": "2024-05-03T08:55:30.243355Z",
     "iopub.status.busy": "2024-05-03T08:55:30.243068Z",
     "iopub.status.idle": "2024-05-03T08:55:30.730597Z",
     "shell.execute_reply": "2024-05-03T08:55:30.729715Z"
    },
    "papermill": {
     "duration": 0.501848,
     "end_time": "2024-05-03T08:55:30.732770",
     "exception": false,
     "start_time": "2024-05-03T08:55:30.230922",
     "status": "completed"
    },
    "tags": []
   },
   "outputs": [
    {
     "data": {
      "text/plain": [
       "0"
      ]
     },
     "execution_count": 5,
     "metadata": {},
     "output_type": "execute_result"
    }
   ],
   "source": [
    "sum([1 if \",\" in words else 0 for text in train['text'] for words in text])"
   ]
  },
  {
   "cell_type": "markdown",
   "id": "48f6c61e",
   "metadata": {
    "papermill": {
     "duration": 0.011032,
     "end_time": "2024-05-03T08:55:30.755237",
     "exception": false,
     "start_time": "2024-05-03T08:55:30.744205",
     "status": "completed"
    },
    "tags": []
   },
   "source": [
    "Text is given without comma punctuation. We dont want to remove other special symbols, which are present in the text, because such processing could decrease prediction quality in our particular problem."
   ]
  },
  {
   "cell_type": "markdown",
   "id": "bfa188b9",
   "metadata": {
    "papermill": {
     "duration": 0.010869,
     "end_time": "2024-05-03T08:55:30.777134",
     "exception": false,
     "start_time": "2024-05-03T08:55:30.766265",
     "status": "completed"
    },
    "tags": []
   },
   "source": [
    "Checking ratio of classes:"
   ]
  },
  {
   "cell_type": "code",
   "execution_count": 6,
   "id": "a0363530",
   "metadata": {
    "execution": {
     "iopub.execute_input": "2024-05-03T08:55:30.801095Z",
     "iopub.status.busy": "2024-05-03T08:55:30.800389Z",
     "iopub.status.idle": "2024-05-03T08:55:30.815576Z",
     "shell.execute_reply": "2024-05-03T08:55:30.814756Z"
    },
    "papermill": {
     "duration": 0.029152,
     "end_time": "2024-05-03T08:55:30.817432",
     "exception": false,
     "start_time": "2024-05-03T08:55:30.788280",
     "status": "completed"
    },
    "tags": []
   },
   "outputs": [
    {
     "data": {
      "text/plain": [
       "text_type\n",
       "ham     11469\n",
       "spam     4809\n",
       "Name: count, dtype: int64"
      ]
     },
     "execution_count": 6,
     "metadata": {},
     "output_type": "execute_result"
    }
   ],
   "source": [
    "train['text_type'].value_counts()"
   ]
  },
  {
   "cell_type": "markdown",
   "id": "c1af4936",
   "metadata": {
    "papermill": {
     "duration": 0.010912,
     "end_time": "2024-05-03T08:55:30.839795",
     "exception": false,
     "start_time": "2024-05-03T08:55:30.828883",
     "status": "completed"
    },
    "tags": []
   },
   "source": [
    "and maximum text length:"
   ]
  },
  {
   "cell_type": "code",
   "execution_count": 7,
   "id": "7488e884",
   "metadata": {
    "execution": {
     "iopub.execute_input": "2024-05-03T08:55:30.863306Z",
     "iopub.status.busy": "2024-05-03T08:55:30.863021Z",
     "iopub.status.idle": "2024-05-03T08:55:30.874014Z",
     "shell.execute_reply": "2024-05-03T08:55:30.873161Z"
    },
    "papermill": {
     "duration": 0.025059,
     "end_time": "2024-05-03T08:55:30.875962",
     "exception": false,
     "start_time": "2024-05-03T08:55:30.850903",
     "status": "completed"
    },
    "tags": []
   },
   "outputs": [
    {
     "data": {
      "text/plain": [
       "800"
      ]
     },
     "execution_count": 7,
     "metadata": {},
     "output_type": "execute_result"
    }
   ],
   "source": [
    "max(len(t) for t in train[\"text\"])"
   ]
  },
  {
   "cell_type": "code",
   "execution_count": 8,
   "id": "b2789d8a",
   "metadata": {
    "execution": {
     "iopub.execute_input": "2024-05-03T08:55:30.899590Z",
     "iopub.status.busy": "2024-05-03T08:55:30.899109Z",
     "iopub.status.idle": "2024-05-03T08:55:30.905993Z",
     "shell.execute_reply": "2024-05-03T08:55:30.905206Z"
    },
    "papermill": {
     "duration": 0.020749,
     "end_time": "2024-05-03T08:55:30.907854",
     "exception": false,
     "start_time": "2024-05-03T08:55:30.887105",
     "status": "completed"
    },
    "tags": []
   },
   "outputs": [
    {
     "data": {
      "text/plain": [
       "800"
      ]
     },
     "execution_count": 8,
     "metadata": {},
     "output_type": "execute_result"
    }
   ],
   "source": [
    "max(len(t) for t in unk_test[\"text\"])"
   ]
  },
  {
   "cell_type": "code",
   "execution_count": 9,
   "id": "3eb6ed25",
   "metadata": {
    "execution": {
     "iopub.execute_input": "2024-05-03T08:55:30.931627Z",
     "iopub.status.busy": "2024-05-03T08:55:30.931386Z",
     "iopub.status.idle": "2024-05-03T08:55:30.960340Z",
     "shell.execute_reply": "2024-05-03T08:55:30.959368Z"
    },
    "papermill": {
     "duration": 0.043109,
     "end_time": "2024-05-03T08:55:30.962243",
     "exception": false,
     "start_time": "2024-05-03T08:55:30.919134",
     "status": "completed"
    },
    "tags": []
   },
   "outputs": [],
   "source": [
    "train, val = train_test_split(train, test_size=0.2, stratify=train['text_type'])"
   ]
  },
  {
   "cell_type": "markdown",
   "id": "933ef89c",
   "metadata": {
    "papermill": {
     "duration": 0.011338,
     "end_time": "2024-05-03T08:55:30.985104",
     "exception": false,
     "start_time": "2024-05-03T08:55:30.973766",
     "status": "completed"
    },
    "tags": []
   },
   "source": [
    "# Simple naive bayes method"
   ]
  },
  {
   "cell_type": "code",
   "execution_count": 10,
   "id": "dc1dfe15",
   "metadata": {
    "execution": {
     "iopub.execute_input": "2024-05-03T08:55:31.008961Z",
     "iopub.status.busy": "2024-05-03T08:55:31.008698Z",
     "iopub.status.idle": "2024-05-03T08:55:32.113868Z",
     "shell.execute_reply": "2024-05-03T08:55:32.113052Z"
    },
    "papermill": {
     "duration": 1.119495,
     "end_time": "2024-05-03T08:55:32.116048",
     "exception": false,
     "start_time": "2024-05-03T08:55:30.996553",
     "status": "completed"
    },
    "tags": []
   },
   "outputs": [],
   "source": [
    "vectorizer = TfidfVectorizer()\n",
    "\n",
    "X_train, y_train = train['text'], train['text_type'].apply(lambda x: 1 if x == 'spam' else 0)\n",
    "X_val, y_val = val['text'], val['text_type'].apply(lambda x: 1 if x == 'spam' else 0)\n",
    "\n",
    "X_train = vectorizer.fit_transform(X_train)\n",
    "X_val = vectorizer.transform(X_val)"
   ]
  },
  {
   "cell_type": "code",
   "execution_count": 11,
   "id": "bda101b6",
   "metadata": {
    "execution": {
     "iopub.execute_input": "2024-05-03T08:55:32.141100Z",
     "iopub.status.busy": "2024-05-03T08:55:32.140494Z",
     "iopub.status.idle": "2024-05-03T08:55:32.169955Z",
     "shell.execute_reply": "2024-05-03T08:55:32.168980Z"
    },
    "papermill": {
     "duration": 0.043934,
     "end_time": "2024-05-03T08:55:32.171822",
     "exception": false,
     "start_time": "2024-05-03T08:55:32.127888",
     "status": "completed"
    },
    "tags": []
   },
   "outputs": [
    {
     "name": "stdout",
     "output_type": "stream",
     "text": [
      "ROCAUC Score for Naive Bayes:  0.8948510910776867\n",
      "              precision    recall  f1-score   support\n",
      "\n",
      "           0       0.99      0.84      0.91      2698\n",
      "           1       0.55      0.95      0.70       558\n",
      "\n",
      "    accuracy                           0.86      3256\n",
      "   macro avg       0.77      0.89      0.80      3256\n",
      "weighted avg       0.91      0.86      0.87      3256\n",
      "\n"
     ]
    }
   ],
   "source": [
    "mnb = MultinomialNB()\n",
    "mnb.fit(X_train,y_train)\n",
    "\n",
    "y_pred_nb = mnb.predict(X_val)\n",
    "print(\"ROCAUC Score for Naive Bayes: \", roc_auc_score(y_pred_nb,y_val))\n",
    "print(classification_report(y_pred_nb,y_val))"
   ]
  },
  {
   "cell_type": "markdown",
   "id": "2c98af18",
   "metadata": {
    "papermill": {
     "duration": 0.011209,
     "end_time": "2024-05-03T08:55:32.194560",
     "exception": false,
     "start_time": "2024-05-03T08:55:32.183351",
     "status": "completed"
    },
    "tags": []
   },
   "source": [
    "Very fast, good enough.\n",
    "\n",
    "Lets try improving these results."
   ]
  },
  {
   "cell_type": "markdown",
   "id": "e793d7e5",
   "metadata": {
    "papermill": {
     "duration": 0.011136,
     "end_time": "2024-05-03T08:55:32.217206",
     "exception": false,
     "start_time": "2024-05-03T08:55:32.206070",
     "status": "completed"
    },
    "tags": []
   },
   "source": [
    "# SVM"
   ]
  },
  {
   "cell_type": "code",
   "execution_count": 12,
   "id": "88d2514e",
   "metadata": {
    "execution": {
     "iopub.execute_input": "2024-05-03T08:55:32.241107Z",
     "iopub.status.busy": "2024-05-03T08:55:32.240840Z",
     "iopub.status.idle": "2024-05-03T08:56:51.975752Z",
     "shell.execute_reply": "2024-05-03T08:56:51.974810Z"
    },
    "papermill": {
     "duration": 79.761446,
     "end_time": "2024-05-03T08:56:51.990103",
     "exception": false,
     "start_time": "2024-05-03T08:55:32.228657",
     "status": "completed"
    },
    "tags": []
   },
   "outputs": [
    {
     "name": "stdout",
     "output_type": "stream",
     "text": [
      "ROCAUC Score for SVC:  0.9461282019622557\n",
      "              precision    recall  f1-score   support\n",
      "\n",
      "           0       0.98      0.95      0.96      2366\n",
      "           1       0.87      0.94      0.91       890\n",
      "\n",
      "    accuracy                           0.95      3256\n",
      "   macro avg       0.93      0.95      0.94      3256\n",
      "weighted avg       0.95      0.95      0.95      3256\n",
      "\n"
     ]
    }
   ],
   "source": [
    "svc = SVC()         \n",
    "svc.fit(X_train, y_train)\n",
    "\n",
    "y_pred_svm = svc.predict(X_val)\n",
    "print(\"ROCAUC Score for SVC: \", roc_auc_score(y_pred_svm,y_val))\n",
    "print(classification_report(y_pred_svm,y_val))"
   ]
  },
  {
   "cell_type": "markdown",
   "id": "49619b12",
   "metadata": {
    "papermill": {
     "duration": 0.011301,
     "end_time": "2024-05-03T08:56:52.013035",
     "exception": false,
     "start_time": "2024-05-03T08:56:52.001734",
     "status": "completed"
    },
    "tags": []
   },
   "source": [
    "Slightly slower, but much better predictions."
   ]
  },
  {
   "cell_type": "markdown",
   "id": "4629e181",
   "metadata": {
    "papermill": {
     "duration": 0.011221,
     "end_time": "2024-05-03T08:56:52.035760",
     "exception": false,
     "start_time": "2024-05-03T08:56:52.024539",
     "status": "completed"
    },
    "tags": []
   },
   "source": [
    "# Random forest"
   ]
  },
  {
   "cell_type": "code",
   "execution_count": 13,
   "id": "f12ea8c3",
   "metadata": {
    "execution": {
     "iopub.execute_input": "2024-05-03T08:56:52.059793Z",
     "iopub.status.busy": "2024-05-03T08:56:52.059473Z",
     "iopub.status.idle": "2024-05-03T08:57:29.977647Z",
     "shell.execute_reply": "2024-05-03T08:57:29.976742Z"
    },
    "papermill": {
     "duration": 37.944478,
     "end_time": "2024-05-03T08:57:29.991632",
     "exception": false,
     "start_time": "2024-05-03T08:56:52.047154",
     "status": "completed"
    },
    "tags": []
   },
   "outputs": [
    {
     "name": "stdout",
     "output_type": "stream",
     "text": [
      "ROCAUC Score for Random Forest Classifier :  0.9505943491650092\n",
      "              precision    recall  f1-score   support\n",
      "\n",
      "           0       0.99      0.92      0.95      2489\n",
      "           1       0.78      0.98      0.87       767\n",
      "\n",
      "    accuracy                           0.93      3256\n",
      "   macro avg       0.89      0.95      0.91      3256\n",
      "weighted avg       0.95      0.93      0.94      3256\n",
      "\n"
     ]
    }
   ],
   "source": [
    "rfc = RandomForestClassifier(n_estimators=200)\n",
    "rfc.fit(X_train,y_train)\n",
    "\n",
    "y_pred_rforest = rfc.predict(X_val)\n",
    "print(\"ROCAUC Score for Random Forest Classifier : \", roc_auc_score(y_pred_rforest,y_val))\n",
    "print(classification_report(y_pred_rforest,y_val))"
   ]
  },
  {
   "cell_type": "markdown",
   "id": "43092f19",
   "metadata": {
    "papermill": {
     "duration": 0.011682,
     "end_time": "2024-05-03T08:57:30.014998",
     "exception": false,
     "start_time": "2024-05-03T08:57:30.003316",
     "status": "completed"
    },
    "tags": []
   },
   "source": [
    "Basically the same as SVC, though having better recall and rocauc."
   ]
  },
  {
   "cell_type": "markdown",
   "id": "8f7f8d62",
   "metadata": {
    "papermill": {
     "duration": 0.011331,
     "end_time": "2024-05-03T08:57:30.038028",
     "exception": false,
     "start_time": "2024-05-03T08:57:30.026697",
     "status": "completed"
    },
    "tags": []
   },
   "source": [
    "I would personally use random forest, if neural network is too resource expensive."
   ]
  },
  {
   "cell_type": "markdown",
   "id": "624f24a6",
   "metadata": {
    "papermill": {
     "duration": 0.01133,
     "end_time": "2024-05-03T08:57:30.061013",
     "exception": false,
     "start_time": "2024-05-03T08:57:30.049683",
     "status": "completed"
    },
    "tags": []
   },
   "source": [
    "# Bert classifier"
   ]
  },
  {
   "cell_type": "markdown",
   "id": "b45f0cad",
   "metadata": {
    "papermill": {
     "duration": 0.011473,
     "end_time": "2024-05-03T08:57:30.084091",
     "exception": false,
     "start_time": "2024-05-03T08:57:30.072618",
     "status": "completed"
    },
    "tags": []
   },
   "source": [
    "Making dataset and dataloder classes for PyTorch train pipeline:"
   ]
  },
  {
   "cell_type": "code",
   "execution_count": 14,
   "id": "1ded6a54",
   "metadata": {
    "execution": {
     "iopub.execute_input": "2024-05-03T08:57:30.108821Z",
     "iopub.status.busy": "2024-05-03T08:57:30.108510Z",
     "iopub.status.idle": "2024-05-03T08:57:30.116899Z",
     "shell.execute_reply": "2024-05-03T08:57:30.116089Z"
    },
    "papermill": {
     "duration": 0.022958,
     "end_time": "2024-05-03T08:57:30.118774",
     "exception": false,
     "start_time": "2024-05-03T08:57:30.095816",
     "status": "completed"
    },
    "tags": []
   },
   "outputs": [],
   "source": [
    "class TextDataset(Dataset):\n",
    "    def __init__(self, dataframe, tokenizer):\n",
    "        self.labels = dataframe['text_type'].apply(lambda x: 1 if x == 'spam' else 0).values\n",
    "        self.messages = dataframe['text'].values\n",
    "        self.tokenizer = tokenizer\n",
    "        \n",
    "    def __len__(self):\n",
    "        return len(self.labels)\n",
    "    \n",
    "    def __getitem__(self, idx):\n",
    "        label = self.labels[idx]\n",
    "        message = self.messages[idx]\n",
    "        encoded = self.tokenizer.encode_plus(\n",
    "            message,\n",
    "            add_special_tokens=True,\n",
    "            max_length=512,\n",
    "            padding='max_length',\n",
    "            truncation=True,\n",
    "            return_attention_mask=True,\n",
    "            return_tensors='pt'\n",
    "        )\n",
    "        input_ids = encoded['input_ids'].squeeze()\n",
    "        attention_mask = encoded['attention_mask'].squeeze()\n",
    "        return input_ids, attention_mask, label\n",
    "\n",
    "def collate_fn(batch):\n",
    "    input_ids, attention_masks, labels = zip(*batch)\n",
    "    input_ids = torch.stack(input_ids)\n",
    "    attention_masks = torch.stack(attention_masks)\n",
    "    labels = torch.tensor(labels)\n",
    "    return input_ids, attention_masks, labels"
   ]
  },
  {
   "cell_type": "code",
   "execution_count": 15,
   "id": "3de51dde",
   "metadata": {
    "execution": {
     "iopub.execute_input": "2024-05-03T08:57:30.144000Z",
     "iopub.status.busy": "2024-05-03T08:57:30.143706Z",
     "iopub.status.idle": "2024-05-03T08:57:30.151023Z",
     "shell.execute_reply": "2024-05-03T08:57:30.150226Z"
    },
    "papermill": {
     "duration": 0.022195,
     "end_time": "2024-05-03T08:57:30.152885",
     "exception": false,
     "start_time": "2024-05-03T08:57:30.130690",
     "status": "completed"
    },
    "tags": []
   },
   "outputs": [],
   "source": [
    "class TestDataset(Dataset):\n",
    "    def __init__(self, dataframe, tokenizer):\n",
    "        self.messages = dataframe['text'].values\n",
    "        self.tokenizer = tokenizer\n",
    "        \n",
    "    def __len__(self):\n",
    "        return len(self.messages)\n",
    "    \n",
    "    def __getitem__(self, idx):\n",
    "        message = self.messages[idx]\n",
    "        encoded = self.tokenizer.encode_plus(\n",
    "            message,\n",
    "            add_special_tokens=True,\n",
    "            max_length=512,\n",
    "            padding='max_length',\n",
    "            truncation=True,\n",
    "            return_attention_mask=True,\n",
    "            return_tensors='pt'\n",
    "        )\n",
    "        input_ids = encoded['input_ids'].squeeze()\n",
    "        attention_mask = encoded['attention_mask'].squeeze()\n",
    "        return input_ids, attention_mask\n",
    "\n",
    "def collate_fnt(batch):\n",
    "    input_ids, attention_masks = zip(*batch)\n",
    "    input_ids = torch.stack(input_ids)\n",
    "    attention_masks = torch.stack(attention_masks)\n",
    "    return input_ids, attention_masks"
   ]
  },
  {
   "cell_type": "code",
   "execution_count": 16,
   "id": "ef25f1a5",
   "metadata": {
    "execution": {
     "iopub.execute_input": "2024-05-03T08:57:30.219945Z",
     "iopub.status.busy": "2024-05-03T08:57:30.219627Z",
     "iopub.status.idle": "2024-05-03T08:57:32.748876Z",
     "shell.execute_reply": "2024-05-03T08:57:32.747900Z"
    },
    "papermill": {
     "duration": 2.586597,
     "end_time": "2024-05-03T08:57:32.751330",
     "exception": false,
     "start_time": "2024-05-03T08:57:30.164733",
     "status": "completed"
    },
    "tags": []
   },
   "outputs": [
    {
     "data": {
      "application/vnd.jupyter.widget-view+json": {
       "model_id": "29cd35502dcf491fa525682c1bfbdf7b",
       "version_major": 2,
       "version_minor": 0
      },
      "text/plain": [
       "tokenizer_config.json:   0%|          | 0.00/48.0 [00:00<?, ?B/s]"
      ]
     },
     "metadata": {},
     "output_type": "display_data"
    },
    {
     "data": {
      "application/vnd.jupyter.widget-view+json": {
       "model_id": "8312395bd50249f7a7e0823c2424c2e0",
       "version_major": 2,
       "version_minor": 0
      },
      "text/plain": [
       "vocab.txt:   0%|          | 0.00/232k [00:00<?, ?B/s]"
      ]
     },
     "metadata": {},
     "output_type": "display_data"
    },
    {
     "data": {
      "application/vnd.jupyter.widget-view+json": {
       "model_id": "66c5300fb2cc452780a7a24c95723ae3",
       "version_major": 2,
       "version_minor": 0
      },
      "text/plain": [
       "tokenizer.json:   0%|          | 0.00/466k [00:00<?, ?B/s]"
      ]
     },
     "metadata": {},
     "output_type": "display_data"
    },
    {
     "data": {
      "application/vnd.jupyter.widget-view+json": {
       "model_id": "603ac0f5fd8c42eb95fe83fffd2b659f",
       "version_major": 2,
       "version_minor": 0
      },
      "text/plain": [
       "config.json:   0%|          | 0.00/570 [00:00<?, ?B/s]"
      ]
     },
     "metadata": {},
     "output_type": "display_data"
    }
   ],
   "source": [
    "MODEL_NAME = \"google-bert/bert-base-uncased\"\n",
    "EPOCHS=4\n",
    "device = torch.device('cuda' if torch.cuda.is_available() else 'cpu')\n",
    "tokenizer = BertTokenizer.from_pretrained(MODEL_NAME)"
   ]
  },
  {
   "cell_type": "code",
   "execution_count": 17,
   "id": "4119cec8",
   "metadata": {
    "execution": {
     "iopub.execute_input": "2024-05-03T08:57:32.778234Z",
     "iopub.status.busy": "2024-05-03T08:57:32.777892Z",
     "iopub.status.idle": "2024-05-03T08:57:32.795510Z",
     "shell.execute_reply": "2024-05-03T08:57:32.794738Z"
    },
    "papermill": {
     "duration": 0.033232,
     "end_time": "2024-05-03T08:57:32.797344",
     "exception": false,
     "start_time": "2024-05-03T08:57:32.764112",
     "status": "completed"
    },
    "tags": []
   },
   "outputs": [],
   "source": [
    "batch_size=16\n",
    "\n",
    "train_dataset = TextDataset(train, tokenizer=tokenizer)\n",
    "val_dataset = TextDataset(val, tokenizer=tokenizer)\n",
    "test_dataset = TestDataset(unk_test, tokenizer=tokenizer)\n",
    "\n",
    "train_loader = DataLoader(train_dataset, batch_size=batch_size, shuffle=True, collate_fn=collate_fn)\n",
    "val_loader = DataLoader(val_dataset, batch_size=batch_size, shuffle=False, collate_fn=collate_fn)\n",
    "test_loader = DataLoader(test_dataset, batch_size=batch_size, shuffle=False, collate_fn=collate_fnt)"
   ]
  },
  {
   "cell_type": "markdown",
   "id": "24c9959d",
   "metadata": {
    "papermill": {
     "duration": 0.0125,
     "end_time": "2024-05-03T08:57:32.822378",
     "exception": false,
     "start_time": "2024-05-03T08:57:32.809878",
     "status": "completed"
    },
    "tags": []
   },
   "source": [
    "Making Bert Classifier from HF Bert:"
   ]
  },
  {
   "cell_type": "code",
   "execution_count": 18,
   "id": "d6b10fed",
   "metadata": {
    "execution": {
     "iopub.execute_input": "2024-05-03T08:57:32.848878Z",
     "iopub.status.busy": "2024-05-03T08:57:32.848549Z",
     "iopub.status.idle": "2024-05-03T08:57:32.854976Z",
     "shell.execute_reply": "2024-05-03T08:57:32.854048Z"
    },
    "papermill": {
     "duration": 0.021912,
     "end_time": "2024-05-03T08:57:32.856885",
     "exception": false,
     "start_time": "2024-05-03T08:57:32.834973",
     "status": "completed"
    },
    "tags": []
   },
   "outputs": [],
   "source": [
    "class BertClassifier(nn.Module):\n",
    "    def __init__(self, n_classes):\n",
    "        super(BertClassifier, self).__init__()\n",
    "        self.model = BertModel.from_pretrained(MODEL_NAME)\n",
    "        self.drop = nn.Dropout(p=0.3)\n",
    "        self.out = nn.Linear(self.model.config.hidden_size, n_classes)\n",
    "    def forward(self, input_ids, attention_mask):\n",
    "        pooled_output = self.model(\n",
    "            input_ids=input_ids,\n",
    "            attention_mask=attention_mask\n",
    "        )[1]\n",
    "        output = self.drop(pooled_output)\n",
    "        logits = self.out(output)\n",
    "        return logits"
   ]
  },
  {
   "cell_type": "code",
   "execution_count": 19,
   "id": "6db40ebf",
   "metadata": {
    "execution": {
     "iopub.execute_input": "2024-05-03T08:57:32.883055Z",
     "iopub.status.busy": "2024-05-03T08:57:32.882764Z",
     "iopub.status.idle": "2024-05-03T08:57:36.240343Z",
     "shell.execute_reply": "2024-05-03T08:57:36.239355Z"
    },
    "papermill": {
     "duration": 3.37329,
     "end_time": "2024-05-03T08:57:36.242677",
     "exception": false,
     "start_time": "2024-05-03T08:57:32.869387",
     "status": "completed"
    },
    "tags": []
   },
   "outputs": [
    {
     "data": {
      "application/vnd.jupyter.widget-view+json": {
       "model_id": "dbe52475cece4a3fbad33bbc3bf66c52",
       "version_major": 2,
       "version_minor": 0
      },
      "text/plain": [
       "model.safetensors:   0%|          | 0.00/440M [00:00<?, ?B/s]"
      ]
     },
     "metadata": {},
     "output_type": "display_data"
    }
   ],
   "source": [
    "model = BertClassifier(n_classes=2).to(device)"
   ]
  },
  {
   "cell_type": "code",
   "execution_count": 20,
   "id": "6796ff56",
   "metadata": {
    "execution": {
     "iopub.execute_input": "2024-05-03T08:57:36.269676Z",
     "iopub.status.busy": "2024-05-03T08:57:36.269361Z",
     "iopub.status.idle": "2024-05-03T08:57:36.279905Z",
     "shell.execute_reply": "2024-05-03T08:57:36.278743Z"
    },
    "papermill": {
     "duration": 0.026112,
     "end_time": "2024-05-03T08:57:36.281763",
     "exception": false,
     "start_time": "2024-05-03T08:57:36.255651",
     "status": "completed"
    },
    "tags": []
   },
   "outputs": [
    {
     "name": "stderr",
     "output_type": "stream",
     "text": [
      "/opt/conda/lib/python3.10/site-packages/transformers/optimization.py:457: FutureWarning: This implementation of AdamW is deprecated and will be removed in a future version. Use the PyTorch implementation torch.optim.AdamW instead, or set `no_deprecation_warning=True` to disable this warning\n",
      "  warnings.warn(\n"
     ]
    }
   ],
   "source": [
    "optimizer = AdamW(model.parameters(), lr=2e-5, correct_bias=False)\n",
    "\n",
    "total_steps = len(train_loader) * EPOCHS\n",
    "\n",
    "scheduler = get_linear_schedule_with_warmup(\n",
    "  optimizer,\n",
    "  num_warmup_steps=0,\n",
    "  num_training_steps=total_steps\n",
    ")\n",
    "\n",
    "criterion = nn.CrossEntropyLoss().to(device)"
   ]
  },
  {
   "cell_type": "code",
   "execution_count": 21,
   "id": "444fa92c",
   "metadata": {
    "execution": {
     "iopub.execute_input": "2024-05-03T08:57:36.308199Z",
     "iopub.status.busy": "2024-05-03T08:57:36.307918Z",
     "iopub.status.idle": "2024-05-03T09:48:59.187481Z",
     "shell.execute_reply": "2024-05-03T09:48:59.186556Z"
    },
    "papermill": {
     "duration": 3082.895113,
     "end_time": "2024-05-03T09:48:59.189467",
     "exception": false,
     "start_time": "2024-05-03T08:57:36.294354",
     "status": "completed"
    },
    "tags": []
   },
   "outputs": [
    {
     "name": "stderr",
     "output_type": "stream",
     "text": [
      "Epoch [1/4] Training: 100%|██████████| 814/814 [11:44<00:00,  1.15it/s, loss=0.124]\n",
      "Epoch [1/4] Validation: 100%|██████████| 204/204 [01:05<00:00,  3.11it/s, accuracy=0.973, loss=0.0144]\n"
     ]
    },
    {
     "name": "stdout",
     "output_type": "stream",
     "text": [
      "Epoch [1/4], Train Loss: 0.1431, Val Loss: 0.0831, Val Accuracy: 0.9727\n"
     ]
    },
    {
     "name": "stderr",
     "output_type": "stream",
     "text": [
      "Epoch [2/4] Training: 100%|██████████| 814/814 [11:45<00:00,  1.15it/s, loss=0.00668]\n",
      "Epoch [2/4] Validation: 100%|██████████| 204/204 [01:05<00:00,  3.11it/s, accuracy=0.975, loss=0.0014]\n"
     ]
    },
    {
     "name": "stdout",
     "output_type": "stream",
     "text": [
      "Epoch [2/4], Train Loss: 0.0388, Val Loss: 0.0951, Val Accuracy: 0.9751\n"
     ]
    },
    {
     "name": "stderr",
     "output_type": "stream",
     "text": [
      "Epoch [3/4] Training: 100%|██████████| 814/814 [11:45<00:00,  1.15it/s, loss=0.0288]\n",
      "Epoch [3/4] Validation: 100%|██████████| 204/204 [01:05<00:00,  3.11it/s, accuracy=0.975, loss=0.000276]\n"
     ]
    },
    {
     "name": "stdout",
     "output_type": "stream",
     "text": [
      "Epoch [3/4], Train Loss: 0.0152, Val Loss: 0.1058, Val Accuracy: 0.9754\n"
     ]
    },
    {
     "name": "stderr",
     "output_type": "stream",
     "text": [
      "Epoch [4/4] Training: 100%|██████████| 814/814 [11:44<00:00,  1.15it/s, loss=0.000363]\n",
      "Epoch [4/4] Validation: 100%|██████████| 204/204 [01:05<00:00,  3.12it/s, accuracy=0.976, loss=0.000199]"
     ]
    },
    {
     "name": "stdout",
     "output_type": "stream",
     "text": [
      "Epoch [4/4], Train Loss: 0.0063, Val Loss: 0.1133, Val Accuracy: 0.9760\n",
      "Training Summary:\n",
      "Epoch [1/4], Train Loss: 0.1431, Val Loss: 0.0831, Val Accuracy: 0.9727\n",
      "Epoch [2/4], Train Loss: 0.0388, Val Loss: 0.0951, Val Accuracy: 0.9751\n",
      "Epoch [3/4], Train Loss: 0.0152, Val Loss: 0.1058, Val Accuracy: 0.9754\n",
      "Epoch [4/4], Train Loss: 0.0063, Val Loss: 0.1133, Val Accuracy: 0.9760\n"
     ]
    },
    {
     "name": "stderr",
     "output_type": "stream",
     "text": [
      "\n"
     ]
    }
   ],
   "source": [
    "train_losses = []\n",
    "val_losses = []\n",
    "val_accuracies = []\n",
    "\n",
    "for epoch in range(EPOCHS):\n",
    "    model.train()\n",
    "    train_loss = 0.0\n",
    "    \n",
    "    train_progress_bar = tqdm(train_loader, desc=f\"Epoch [{epoch+1}/{EPOCHS}] Training\")\n",
    "    \n",
    "    for batch in train_progress_bar:\n",
    "        input_ids, attention_masks, labels = batch\n",
    "        input_ids = input_ids.to(device)\n",
    "        attention_masks = attention_masks.to(device)\n",
    "        labels = labels.to(device)\n",
    "        \n",
    "        optimizer.zero_grad()\n",
    "        \n",
    "        logits = model(input_ids, attention_mask=attention_masks)\n",
    "        loss = criterion(logits, labels)\n",
    "        \n",
    "        loss.backward()\n",
    "        optimizer.step()\n",
    "        scheduler.step()\n",
    "        \n",
    "        train_loss += loss.item()\n",
    "        \n",
    "        train_progress_bar.set_postfix(loss=loss.item())\n",
    "    \n",
    "    train_loss /= len(train_loader)\n",
    "    train_losses.append(train_loss)\n",
    "    \n",
    "    # Evaluation\n",
    "    model.eval()\n",
    "    val_loss = 0.0\n",
    "    val_accuracy = 0.0\n",
    "    \n",
    "    val_progress_bar = tqdm(val_loader, desc=f\"Epoch [{epoch+1}/{EPOCHS}] Validation\")\n",
    "    \n",
    "    with torch.no_grad():\n",
    "        for batch in val_progress_bar:\n",
    "            input_ids, attention_masks, labels = batch\n",
    "            input_ids = input_ids.to(device)\n",
    "            attention_masks = attention_masks.to(device)\n",
    "            labels = labels.to(device)\n",
    "            \n",
    "            logits = model(input_ids, attention_mask=attention_masks)\n",
    "            loss = criterion(logits, labels)\n",
    "            \n",
    "            val_loss += loss.item()\n",
    "            \n",
    "            predictions = torch.argmax(logits, dim=1)\n",
    "            val_accuracy += torch.sum(predictions == labels).item()\n",
    "            \n",
    "            val_progress_bar.set_postfix(loss=loss.item(), accuracy=(val_accuracy / len(val_dataset)))\n",
    "    \n",
    "    val_loss /= len(val_loader)\n",
    "    val_accuracy /= len(val_dataset)\n",
    "    \n",
    "    val_losses.append(val_loss)\n",
    "    val_accuracies.append(val_accuracy)\n",
    "    \n",
    "    print(f\"Epoch [{epoch+1}/{EPOCHS}], Train Loss: {train_loss:.4f}, Val Loss: {val_loss:.4f}, Val Accuracy: {val_accuracy:.4f}\")\n",
    "\n",
    "# Training summary\n",
    "print(\"Training Summary:\")\n",
    "for epoch, (train_loss, val_loss, val_accuracy) in enumerate(zip(train_losses, val_losses, val_accuracies)):\n",
    "    print(f\"Epoch [{epoch+1}/{EPOCHS}], Train Loss: {train_loss:.4f}, Val Loss: {val_loss:.4f}, Val Accuracy: {val_accuracy:.4f}\")"
   ]
  },
  {
   "cell_type": "code",
   "execution_count": 22,
   "id": "3bb0acff",
   "metadata": {
    "execution": {
     "iopub.execute_input": "2024-05-03T09:49:00.492593Z",
     "iopub.status.busy": "2024-05-03T09:49:00.492241Z",
     "iopub.status.idle": "2024-05-03T09:49:00.814765Z",
     "shell.execute_reply": "2024-05-03T09:49:00.813890Z"
    },
    "papermill": {
     "duration": 0.976414,
     "end_time": "2024-05-03T09:49:00.816933",
     "exception": false,
     "start_time": "2024-05-03T09:48:59.840519",
     "status": "completed"
    },
    "tags": []
   },
   "outputs": [
    {
     "data": {
      "text/plain": [
       "<matplotlib.legend.Legend at 0x7c1201e3c520>"
      ]
     },
     "execution_count": 22,
     "metadata": {},
     "output_type": "execute_result"
    },
    {
     "data": {
      "image/png": "[encoded data removed]",
      "text/plain": [
       "<Figure size 1000x700 with 1 Axes>"
      ]
     },
     "metadata": {},
     "output_type": "display_data"
    }
   ],
   "source": [
    "plt.figure(figsize=(10, 7))\n",
    "plt.plot(train_losses, label='train loss')\n",
    "plt.plot(val_losses, label='validation loss')\n",
    "\n",
    "plt.title('Training history')\n",
    "plt.ylabel('loss')\n",
    "plt.xlabel('Epoch')\n",
    "plt.legend()\n",
    "     "
   ]
  },
  {
   "cell_type": "markdown",
   "id": "6a8704d4",
   "metadata": {
    "papermill": {
     "duration": 0.642744,
     "end_time": "2024-05-03T09:49:02.164440",
     "exception": false,
     "start_time": "2024-05-03T09:49:01.521696",
     "status": "completed"
    },
    "tags": []
   },
   "source": [
    "Calculating metrics on validation:"
   ]
  },
  {
   "cell_type": "code",
   "execution_count": 23,
   "id": "52e728ca",
   "metadata": {
    "execution": {
     "iopub.execute_input": "2024-05-03T09:49:03.515354Z",
     "iopub.status.busy": "2024-05-03T09:49:03.514981Z",
     "iopub.status.idle": "2024-05-03T09:50:08.370010Z",
     "shell.execute_reply": "2024-05-03T09:50:08.369227Z"
    },
    "papermill": {
     "duration": 65.516668,
     "end_time": "2024-05-03T09:50:08.372397",
     "exception": false,
     "start_time": "2024-05-03T09:49:02.855729",
     "status": "completed"
    },
    "tags": []
   },
   "outputs": [],
   "source": [
    "model.eval()\n",
    "\n",
    "val_predictions = []\n",
    "with torch.no_grad():\n",
    "    for batch in val_loader:\n",
    "        input_ids, attention_masks, labels = batch\n",
    "        input_ids = input_ids.to(device)\n",
    "        attention_mask = attention_masks.to(device)\n",
    "        logits = model(input_ids, attention_mask=attention_mask)\n",
    "        batch_predictions = torch.argmax(logits, dim=1).tolist()\n",
    "        val_predictions.extend(batch_predictions)"
   ]
  },
  {
   "cell_type": "code",
   "execution_count": 24,
   "id": "f1a66ef4",
   "metadata": {
    "execution": {
     "iopub.execute_input": "2024-05-03T09:50:09.729129Z",
     "iopub.status.busy": "2024-05-03T09:50:09.728504Z",
     "iopub.status.idle": "2024-05-03T09:50:09.737717Z",
     "shell.execute_reply": "2024-05-03T09:50:09.736866Z"
    },
    "papermill": {
     "duration": 0.658258,
     "end_time": "2024-05-03T09:50:09.739632",
     "exception": false,
     "start_time": "2024-05-03T09:50:09.081374",
     "status": "completed"
    },
    "tags": []
   },
   "outputs": [
    {
     "data": {
      "text/plain": [
       "0.9703239219368253"
      ]
     },
     "execution_count": 24,
     "metadata": {},
     "output_type": "execute_result"
    }
   ],
   "source": [
    "roc_auc_score(val_dataset.labels, val_predictions)"
   ]
  },
  {
   "cell_type": "code",
   "execution_count": 25,
   "id": "a77ddb9e",
   "metadata": {
    "execution": {
     "iopub.execute_input": "2024-05-03T09:50:11.113743Z",
     "iopub.status.busy": "2024-05-03T09:50:11.113001Z",
     "iopub.status.idle": "2024-05-03T09:50:11.128403Z",
     "shell.execute_reply": "2024-05-03T09:50:11.127370Z"
    },
    "papermill": {
     "duration": 0.725428,
     "end_time": "2024-05-03T09:50:11.130540",
     "exception": false,
     "start_time": "2024-05-03T09:50:10.405112",
     "status": "completed"
    },
    "tags": []
   },
   "outputs": [
    {
     "name": "stdout",
     "output_type": "stream",
     "text": [
      "              precision    recall  f1-score   support\n",
      "\n",
      "           0       0.98      0.98      0.98      2294\n",
      "           1       0.96      0.96      0.96       962\n",
      "\n",
      "    accuracy                           0.98      3256\n",
      "   macro avg       0.97      0.97      0.97      3256\n",
      "weighted avg       0.98      0.98      0.98      3256\n",
      "\n"
     ]
    }
   ],
   "source": [
    "print(classification_report(val_dataset.labels, val_predictions))"
   ]
  },
  {
   "cell_type": "code",
   "execution_count": 26,
   "id": "1405bd78",
   "metadata": {
    "execution": {
     "iopub.execute_input": "2024-05-03T09:50:12.427335Z",
     "iopub.status.busy": "2024-05-03T09:50:12.426586Z",
     "iopub.status.idle": "2024-05-03T09:50:12.652374Z",
     "shell.execute_reply": "2024-05-03T09:50:12.651555Z"
    },
    "papermill": {
     "duration": 0.872706,
     "end_time": "2024-05-03T09:50:12.654365",
     "exception": false,
     "start_time": "2024-05-03T09:50:11.781659",
     "status": "completed"
    },
    "tags": []
   },
   "outputs": [
    {
     "data": {
      "text/plain": [
       "<sklearn.metrics._plot.confusion_matrix.ConfusionMatrixDisplay at 0x7c1201f64700>"
      ]
     },
     "execution_count": 26,
     "metadata": {},
     "output_type": "execute_result"
    },
    {
     "data": {
      "image/png": "[encoded data removed]",
      "text/plain": [
       "<Figure size 640x480 with 2 Axes>"
      ]
     },
     "metadata": {},
     "output_type": "display_data"
    }
   ],
   "source": [
    "disp = ConfusionMatrixDisplay(confusion_matrix(val_dataset.labels, val_predictions))\n",
    "disp.plot()"
   ]
  },
  {
   "cell_type": "markdown",
   "id": "3291b6b6",
   "metadata": {
    "papermill": {
     "duration": 0.696854,
     "end_time": "2024-05-03T09:50:14.001250",
     "exception": false,
     "start_time": "2024-05-03T09:50:13.304396",
     "status": "completed"
    },
    "tags": []
   },
   "source": [
    "As we can see, Bert gives best results."
   ]
  },
  {
   "cell_type": "markdown",
   "id": "3c4e0994",
   "metadata": {
    "papermill": {
     "duration": 0.712386,
     "end_time": "2024-05-03T09:50:15.360331",
     "exception": false,
     "start_time": "2024-05-03T09:50:14.647945",
     "status": "completed"
    },
    "tags": []
   },
   "source": [
    "# Predictions on test"
   ]
  },
  {
   "cell_type": "code",
   "execution_count": 27,
   "id": "612b1972",
   "metadata": {
    "execution": {
     "iopub.execute_input": "2024-05-03T09:50:16.724089Z",
     "iopub.status.busy": "2024-05-03T09:50:16.723718Z",
     "iopub.status.idle": "2024-05-03T09:51:37.724161Z",
     "shell.execute_reply": "2024-05-03T09:51:37.723273Z"
    },
    "papermill": {
     "duration": 81.681906,
     "end_time": "2024-05-03T09:51:37.726465",
     "exception": false,
     "start_time": "2024-05-03T09:50:16.044559",
     "status": "completed"
    },
    "tags": []
   },
   "outputs": [],
   "source": [
    "model.eval()\n",
    "\n",
    "test_predictions = []\n",
    "with torch.no_grad():\n",
    "    for batch in test_loader:\n",
    "        input_ids, attention_masks = batch\n",
    "        input_ids = input_ids.to(device)\n",
    "        attention_mask = attention_masks.to(device)\n",
    "        logits = model(input_ids, attention_mask=attention_mask)\n",
    "        batch_predictions = torch.argmax(logits, dim=1).tolist()\n",
    "        test_predictions.extend(batch_predictions)"
   ]
  },
  {
   "cell_type": "code",
   "execution_count": 28,
   "id": "db330a1a",
   "metadata": {
    "execution": {
     "iopub.execute_input": "2024-05-03T09:51:39.099616Z",
     "iopub.status.busy": "2024-05-03T09:51:39.099239Z",
     "iopub.status.idle": "2024-05-03T09:51:39.107061Z",
     "shell.execute_reply": "2024-05-03T09:51:39.106011Z"
    },
    "papermill": {
     "duration": 0.679738,
     "end_time": "2024-05-03T09:51:39.109106",
     "exception": false,
     "start_time": "2024-05-03T09:51:38.429368",
     "status": "completed"
    },
    "tags": []
   },
   "outputs": [],
   "source": [
    "unk_test['score'] = test_predictions"
   ]
  },
  {
   "cell_type": "code",
   "execution_count": 29,
   "id": "f33cdce9",
   "metadata": {
    "execution": {
     "iopub.execute_input": "2024-05-03T09:51:40.443011Z",
     "iopub.status.busy": "2024-05-03T09:51:40.442343Z",
     "iopub.status.idle": "2024-05-03T09:51:40.450448Z",
     "shell.execute_reply": "2024-05-03T09:51:40.449596Z"
    },
    "papermill": {
     "duration": 0.673685,
     "end_time": "2024-05-03T09:51:40.452299",
     "exception": false,
     "start_time": "2024-05-03T09:51:39.778614",
     "status": "completed"
    },
    "tags": []
   },
   "outputs": [],
   "source": [
    "unk_test = unk_test[['score', 'text']]"
   ]
  },
  {
   "cell_type": "code",
   "execution_count": 30,
   "id": "d7a72c01",
   "metadata": {
    "execution": {
     "iopub.execute_input": "2024-05-03T09:51:41.798968Z",
     "iopub.status.busy": "2024-05-03T09:51:41.798108Z",
     "iopub.status.idle": "2024-05-03T09:51:41.860284Z",
     "shell.execute_reply": "2024-05-03T09:51:41.859390Z"
    },
    "papermill": {
     "duration": 0.709443,
     "end_time": "2024-05-03T09:51:41.862371",
     "exception": false,
     "start_time": "2024-05-03T09:51:41.152928",
     "status": "completed"
    },
    "tags": []
   },
   "outputs": [],
   "source": [
    "unk_test.to_csv('test_preds_1_or_0.csv',index=False) # 1 is spam"
   ]
  },
  {
   "cell_type": "code",
   "execution_count": 31,
   "id": "0b53519d",
   "metadata": {
    "execution": {
     "iopub.execute_input": "2024-05-03T09:51:43.208267Z",
     "iopub.status.busy": "2024-05-03T09:51:43.207555Z",
     "iopub.status.idle": "2024-05-03T09:51:43.270687Z",
     "shell.execute_reply": "2024-05-03T09:51:43.269732Z"
    },
    "papermill": {
     "duration": 0.71046,
     "end_time": "2024-05-03T09:51:43.272961",
     "exception": false,
     "start_time": "2024-05-03T09:51:42.562501",
     "status": "completed"
    },
    "tags": []
   },
   "outputs": [],
   "source": [
    "unk_test_text = unk_test\n",
    "unk_test_text['score'] = ['spam' if label == 1 else 'ham' for label in unk_test_text['score']]\n",
    "unk_test_text.to_csv('test_preds_spam_or_ham.csv',index=False) "
   ]
  }
 ],
 "metadata": {
  "kaggle": {
   "accelerator": "gpu",
   "dataSources": [
    {
     "datasetId": 4919428,
     "sourceId": 8283036,
     "sourceType": "datasetVersion"
    }
   ],
   "dockerImageVersionId": 30699,
   "isGpuEnabled": true,
   "isInternetEnabled": true,
   "language": "python",
   "sourceType": "notebook"
  },
  "kernelspec": {
   "display_name": "Python 3",
   "language": "python",
   "name": "python3"
  },
  "language_info": {
   "codemirror_mode": {
    "name": "ipython",
    "version": 3
   },
   "file_extension": ".py",
   "mimetype": "text/x-python",
   "name": "python",
   "nbconvert_exporter": "python",
   "pygments_lexer": "ipython3",
   "version": "3.10.13"
  },
  "papermill": {
   "default_parameters": {},
   "duration": 3388.388704,
   "end_time": "2024-05-03T09:51:46.465285",
   "environment_variables": {},
   "exception": null,
   "input_path": "__notebook__.ipynb",
   "output_path": "__notebook__.ipynb",
   "parameters": {},
   "start_time": "2024-05-03T08:55:18.076581",
   "version": "2.5.0"
  },
  "widgets": {
   "application/vnd.jupyter.widget-state+json": {
    "state": {
     "00e1d06bc630427f8566a1cc471c9661": {
      "model_module": "@jupyter-widgets/controls",
      "model_module_version": "1.5.0",
      "model_name": "HTMLModel",
      "state": {
       "_dom_classes": [],
       "_model_module": "@jupyter-widgets/controls",
       "_model_module_version": "1.5.0",
       "_model_name": "HTMLModel",
       "_view_count": null,
       "_view_module": "@jupyter-widgets/controls",
       "_view_module_version": "1.5.0",
       "_view_name": "HTMLView",
       "description": "",
       "description_tooltip": null,
       "layout": "IPY_MODEL_b1efb89a091d45f3ab5a46d57f3da748",
       "placeholder": "​",
       "style": "IPY_MODEL_a8fd8c79f50b4a40a18553dc1e20478a",
       "value": "vocab.txt: 100%"
      }
     },
     "02a373bff01f411da4dbb2c7c3d0dba1": {
      "model_module": "@jupyter-widgets/controls",
      "model_module_version": "1.5.0",
      "model_name": "DescriptionStyleModel",
      "state": {
       "_model_module": "@jupyter-widgets/controls",
       "_model_module_version": "1.5.0",
       "_model_name": "DescriptionStyleModel",
       "_view_count": null,
       "_view_module": "@jupyter-widgets/base",
       "_view_module_version": "1.2.0",
       "_view_name": "StyleView",
       "description_width": ""
      }
     },
     "03bda9e4cd5246298fa937c6e0375577": {
      "model_module": "@jupyter-widgets/controls",
      "model_module_version": "1.5.0",
      "model_name": "ProgressStyleModel",
      "state": {
       "_model_module": "@jupyter-widgets/controls",
       "_model_module_version": "1.5.0",
       "_model_name": "ProgressStyleModel",
       "_view_count": null,
       "_view_module": "@jupyter-widgets/base",
       "_view_module_version": "1.2.0",
       "_view_name": "StyleView",
       "bar_color": null,
       "description_width": ""
      }
     },
     "078aad12dbfd4d538620659f4a70f308": {
      "model_module": "@jupyter-widgets/base",
      "model_module_version": "1.2.0",
      "model_name": "LayoutModel",
      "state": {
       "_model_module": "@jupyter-widgets/base",
       "_model_module_version": "1.2.0",
       "_model_name": "LayoutModel",
       "_view_count": null,
       "_view_module": "@jupyter-widgets/base",
       "_view_module_version": "1.2.0",
       "_view_name": "LayoutView",
       "align_content": null,
       "align_items": null,
       "align_self": null,
       "border": null,
       "bottom": null,
       "display": null,
       "flex": null,
       "flex_flow": null,
       "grid_area": null,
       "grid_auto_columns": null,
       "grid_auto_flow": null,
       "grid_auto_rows": null,
       "grid_column": null,
       "grid_gap": null,
       "grid_row": null,
       "grid_template_areas": null,
       "grid_template_columns": null,
       "grid_template_rows": null,
       "height": null,
       "justify_content": null,
       "justify_items": null,
       "left": null,
       "margin": null,
       "max_height": null,
       "max_width": null,
       "min_height": null,
       "min_width": null,
       "object_fit": null,
       "object_position": null,
       "order": null,
       "overflow": null,
       "overflow_x": null,
       "overflow_y": null,
       "padding": null,
       "right": null,
       "top": null,
       "visibility": null,
       "width": null
      }
     },
     "078ad39b937f4e02aef9d276a6c2bc61": {
      "model_module": "@jupyter-widgets/controls",
      "model_module_version": "1.5.0",
      "model_name": "FloatProgressModel",
      "state": {
       "_dom_classes": [],
       "_model_module": "@jupyter-widgets/controls",
       "_model_module_version": "1.5.0",
       "_model_name": "FloatProgressModel",
       "_view_count": null,
       "_view_module": "@jupyter-widgets/controls",
       "_view_module_version": "1.5.0",
       "_view_name": "ProgressView",
       "bar_style": "success",
       "description": "",
       "description_tooltip": null,
       "layout": "IPY_MODEL_5065c9ec4c8148418cb439a28be462c5",
       "max": 231508.0,
       "min": 0.0,
       "orientation": "horizontal",
       "style": "IPY_MODEL_8ed92d0325de48afa9942abf35a42d9e",
       "value": 231508.0
      }
     },
     "0d7d239d394a48f0857ffe6e86c58c52": {
      "model_module": "@jupyter-widgets/controls",
      "model_module_version": "1.5.0",
      "model_name": "HTMLModel",
      "state": {
       "_dom_classes": [],
       "_model_module": "@jupyter-widgets/controls",
       "_model_module_version": "1.5.0",
       "_model_name": "HTMLModel",
       "_view_count": null,
       "_view_module": "@jupyter-widgets/controls",
       "_view_module_version": "1.5.0",
       "_view_name": "HTMLView",
       "description": "",
       "description_tooltip": null,
       "layout": "IPY_MODEL_776f848dbcad4f1f85e586774bf24bc0",
       "placeholder": "​",
       "style": "IPY_MODEL_b82a9d647625456c99854bd12573d16b",
       "value": "tokenizer_config.json: 100%"
      }
     },
     "0e4a3101f5714939a3a358b7f8acc775": {
      "model_module": "@jupyter-widgets/controls",
      "model_module_version": "1.5.0",
      "model_name": "HTMLModel",
      "state": {
       "_dom_classes": [],
       "_model_module": "@jupyter-widgets/controls",
       "_model_module_version": "1.5.0",
       "_model_name": "HTMLModel",
       "_view_count": null,
       "_view_module": "@jupyter-widgets/controls",
       "_view_module_version": "1.5.0",
       "_view_name": "HTMLView",
       "description": "",
       "description_tooltip": null,
       "layout": "IPY_MODEL_742522ecb9eb474cb767ceca015915ce",
       "placeholder": "​",
       "style": "IPY_MODEL_02a373bff01f411da4dbb2c7c3d0dba1",
       "value": "tokenizer.json: 100%"
      }
     },
     "128a620b5ce9462487ad80d6c3ffec98": {
      "model_module": "@jupyter-widgets/controls",
      "model_module_version": "1.5.0",
      "model_name": "HTMLModel",
      "state": {
       "_dom_classes": [],
       "_model_module": "@jupyter-widgets/controls",
       "_model_module_version": "1.5.0",
       "_model_name": "HTMLModel",
       "_view_count": null,
       "_view_module": "@jupyter-widgets/controls",
       "_view_module_version": "1.5.0",
       "_view_name": "HTMLView",
       "description": "",
       "description_tooltip": null,
       "layout": "IPY_MODEL_62dcc92de8544b80a9d1ff2878868a82",
       "placeholder": "​",
       "style": "IPY_MODEL_6eaa78c24e6247afa6dcdfb06f2b7e22",
       "value": " 232k/232k [00:00&lt;00:00, 14.0MB/s]"
      }
     },
     "1507cddc0cda4cd1b8429c2ddd29ce8f": {
      "model_module": "@jupyter-widgets/controls",
      "model_module_version": "1.5.0",
      "model_name": "HTMLModel",
      "state": {
       "_dom_classes": [],
       "_model_module": "@jupyter-widgets/controls",
       "_model_module_version": "1.5.0",
       "_model_name": "HTMLModel",
       "_view_count": null,
       "_view_module": "@jupyter-widgets/controls",
       "_view_module_version": "1.5.0",
       "_view_name": "HTMLView",
       "description": "",
       "description_tooltip": null,
       "layout": "IPY_MODEL_078aad12dbfd4d538620659f4a70f308",
       "placeholder": "​",
       "style": "IPY_MODEL_9858a09f315848e880637c0cb5bad835",
       "value": " 466k/466k [00:00&lt;00:00, 34.2MB/s]"
      }
     },
     "1ef804aa7c854caab8c64621eeddc3aa": {
      "model_module": "@jupyter-widgets/controls",
      "model_module_version": "1.5.0",
      "model_name": "DescriptionStyleModel",
      "state": {
       "_model_module": "@jupyter-widgets/controls",
       "_model_module_version": "1.5.0",
       "_model_name": "DescriptionStyleModel",
       "_view_count": null,
       "_view_module": "@jupyter-widgets/base",
       "_view_module_version": "1.2.0",
       "_view_name": "StyleView",
       "description_width": ""
      }
     },
     "22fb856519fd4e15ae905a4988dc0441": {
      "model_module": "@jupyter-widgets/controls",
      "model_module_version": "1.5.0",
      "model_name": "HTMLModel",
      "state": {
       "_dom_classes": [],
       "_model_module": "@jupyter-widgets/controls",
       "_model_module_version": "1.5.0",
       "_model_name": "HTMLModel",
       "_view_count": null,
       "_view_module": "@jupyter-widgets/controls",
       "_view_module_version": "1.5.0",
       "_view_name": "HTMLView",
       "description": "",
       "description_tooltip": null,
       "layout": "IPY_MODEL_df908b024c8b49faae67a5c087223a6a",
       "placeholder": "​",
       "style": "IPY_MODEL_5c481b512a6f40fa950f67c400eaec05",
       "value": " 440M/440M [00:02&lt;00:00, 221MB/s]"
      }
     },
     "29cd35502dcf491fa525682c1bfbdf7b": {
      "model_module": "@jupyter-widgets/controls",
      "model_module_version": "1.5.0",
      "model_name": "HBoxModel",
      "state": {
       "_dom_classes": [],
       "_model_module": "@jupyter-widgets/controls",
       "_model_module_version": "1.5.0",
       "_model_name": "HBoxModel",
       "_view_count": null,
       "_view_module": "@jupyter-widgets/controls",
       "_view_module_version": "1.5.0",
       "_view_name": "HBoxView",
       "box_style": "",
       "children": [
        "IPY_MODEL_0d7d239d394a48f0857ffe6e86c58c52",
        "IPY_MODEL_35393e1718ee460c964c213663b891e2",
        "IPY_MODEL_57ecff8af7cd4567b79aa90c43e75167"
       ],
       "layout": "IPY_MODEL_fd27a73358704c9da66a6db35b5525c9"
      }
     },
     "3264e0853daf4befbd9262c9941ff540": {
      "model_module": "@jupyter-widgets/base",
      "model_module_version": "1.2.0",
      "model_name": "LayoutModel",
      "state": {
       "_model_module": "@jupyter-widgets/base",
       "_model_module_version": "1.2.0",
       "_model_name": "LayoutModel",
       "_view_count": null,
       "_view_module": "@jupyter-widgets/base",
       "_view_module_version": "1.2.0",
       "_view_name": "LayoutView",
       "align_content": null,
       "align_items": null,
       "align_self": null,
       "border": null,
       "bottom": null,
       "display": null,
       "flex": null,
       "flex_flow": null,
       "grid_area": null,
       "grid_auto_columns": null,
       "grid_auto_flow": null,
       "grid_auto_rows": null,
       "grid_column": null,
       "grid_gap": null,
       "grid_row": null,
       "grid_template_areas": null,
       "grid_template_columns": null,
       "grid_template_rows": null,
       "height": null,
       "justify_content": null,
       "justify_items": null,
       "left": null,
       "margin": null,
       "max_height": null,
       "max_width": null,
       "min_height": null,
       "min_width": null,
       "object_fit": null,
       "object_position": null,
       "order": null,
       "overflow": null,
       "overflow_x": null,
       "overflow_y": null,
       "padding": null,
       "right": null,
       "top": null,
       "visibility": null,
       "width": null
      }
     },
     "35393e1718ee460c964c213663b891e2": {
      "model_module": "@jupyter-widgets/controls",
      "model_module_version": "1.5.0",
      "model_name": "FloatProgressModel",
      "state": {
       "_dom_classes": [],
       "_model_module": "@jupyter-widgets/controls",
       "_model_module_version": "1.5.0",
       "_model_name": "FloatProgressModel",
       "_view_count": null,
       "_view_module": "@jupyter-widgets/controls",
       "_view_module_version": "1.5.0",
       "_view_name": "ProgressView",
       "bar_style": "success",
       "description": "",
       "description_tooltip": null,
       "layout": "IPY_MODEL_7f3d09eef3c64d2483cc5d607e2c8727",
       "max": 48.0,
       "min": 0.0,
       "orientation": "horizontal",
       "style": "IPY_MODEL_9b2a32d797fc476bb06e57c4e052cf4d",
       "value": 48.0
      }
     },
     "5065c9ec4c8148418cb439a28be462c5": {
      "model_module": "@jupyter-widgets/base",
      "model_module_version": "1.2.0",
      "model_name": "LayoutModel",
      "state": {
       "_model_module": "@jupyter-widgets/base",
       "_model_module_version": "1.2.0",
       "_model_name": "LayoutModel",
       "_view_count": null,
       "_view_module": "@jupyter-widgets/base",
       "_view_module_version": "1.2.0",
       "_view_name": "LayoutView",
       "align_content": null,
       "align_items": null,
       "align_self": null,
       "border": null,
       "bottom": null,
       "display": null,
       "flex": null,
       "flex_flow": null,
       "grid_area": null,
       "grid_auto_columns": null,
       "grid_auto_flow": null,
       "grid_auto_rows": null,
       "grid_column": null,
       "grid_gap": null,
       "grid_row": null,
       "grid_template_areas": null,
       "grid_template_columns": null,
       "grid_template_rows": null,
       "height": null,
       "justify_content": null,
       "justify_items": null,
       "left": null,
       "margin": null,
       "max_height": null,
       "max_width": null,
       "min_height": null,
       "min_width": null,
       "object_fit": null,
       "object_position": null,
       "order": null,
       "overflow": null,
       "overflow_x": null,
       "overflow_y": null,
       "padding": null,
       "right": null,
       "top": null,
       "visibility": null,
       "width": null
      }
     },
     "50fa7706615c4deaa967d88955c2b9b2": {
      "model_module": "@jupyter-widgets/base",
      "model_module_version": "1.2.0",
      "model_name": "LayoutModel",
      "state": {
       "_model_module": "@jupyter-widgets/base",
       "_model_module_version": "1.2.0",
       "_model_name": "LayoutModel",
       "_view_count": null,
       "_view_module": "@jupyter-widgets/base",
       "_view_module_version": "1.2.0",
       "_view_name": "LayoutView",
       "align_content": null,
       "align_items": null,
       "align_self": null,
       "border": null,
       "bottom": null,
       "display": null,
       "flex": null,
       "flex_flow": null,
       "grid_area": null,
       "grid_auto_columns": null,
       "grid_auto_flow": null,
       "grid_auto_rows": null,
       "grid_column": null,
       "grid_gap": null,
       "grid_row": null,
       "grid_template_areas": null,
       "grid_template_columns": null,
       "grid_template_rows": null,
       "height": null,
       "justify_content": null,
       "justify_items": null,
       "left": null,
       "margin": null,
       "max_height": null,
       "max_width": null,
       "min_height": null,
       "min_width": null,
       "object_fit": null,
       "object_position": null,
       "order": null,
       "overflow": null,
       "overflow_x": null,
       "overflow_y": null,
       "padding": null,
       "right": null,
       "top": null,
       "visibility": null,
       "width": null
      }
     },
     "520ecfa3b6c74e2eaba033352e7016ba": {
      "model_module": "@jupyter-widgets/controls",
      "model_module_version": "1.5.0",
      "model_name": "FloatProgressModel",
      "state": {
       "_dom_classes": [],
       "_model_module": "@jupyter-widgets/controls",
       "_model_module_version": "1.5.0",
       "_model_name": "FloatProgressModel",
       "_view_count": null,
       "_view_module": "@jupyter-widgets/controls",
       "_view_module_version": "1.5.0",
       "_view_name": "ProgressView",
       "bar_style": "success",
       "description": "",
       "description_tooltip": null,
       "layout": "IPY_MODEL_902ad818b6314569ac3fbb2a33d0e25b",
       "max": 466062.0,
       "min": 0.0,
       "orientation": "horizontal",
       "style": "IPY_MODEL_6d8135aa674a4815b3e3e1adcafa7b4a",
       "value": 466062.0
      }
     },
     "57ecff8af7cd4567b79aa90c43e75167": {
      "model_module": "@jupyter-widgets/controls",
      "model_module_version": "1.5.0",
      "model_name": "HTMLModel",
      "state": {
       "_dom_classes": [],
       "_model_module": "@jupyter-widgets/controls",
       "_model_module_version": "1.5.0",
       "_model_name": "HTMLModel",
       "_view_count": null,
       "_view_module": "@jupyter-widgets/controls",
       "_view_module_version": "1.5.0",
       "_view_name": "HTMLView",
       "description": "",
       "description_tooltip": null,
       "layout": "IPY_MODEL_8947388d808646ba8dfe2ae6f91ced12",
       "placeholder": "​",
       "style": "IPY_MODEL_d5898ce3c4734e069056ca946df17b1f",
       "value": " 48.0/48.0 [00:00&lt;00:00, 3.52kB/s]"
      }
     },
     "5c481b512a6f40fa950f67c400eaec05": {
      "model_module": "@jupyter-widgets/controls",
      "model_module_version": "1.5.0",
      "model_name": "DescriptionStyleModel",
      "state": {
       "_model_module": "@jupyter-widgets/controls",
       "_model_module_version": "1.5.0",
       "_model_name": "DescriptionStyleModel",
       "_view_count": null,
       "_view_module": "@jupyter-widgets/base",
       "_view_module_version": "1.2.0",
       "_view_name": "StyleView",
       "description_width": ""
      }
     },
     "603ac0f5fd8c42eb95fe83fffd2b659f": {
      "model_module": "@jupyter-widgets/controls",
      "model_module_version": "1.5.0",
      "model_name": "HBoxModel",
      "state": {
       "_dom_classes": [],
       "_model_module": "@jupyter-widgets/controls",
       "_model_module_version": "1.5.0",
       "_model_name": "HBoxModel",
       "_view_count": null,
       "_view_module": "@jupyter-widgets/controls",
       "_view_module_version": "1.5.0",
       "_view_name": "HBoxView",
       "box_style": "",
       "children": [
        "IPY_MODEL_deaccca7ecb04a56a60acdd348888569",
        "IPY_MODEL_62d4f47ebd8146d59bbf747d0208f3d0",
        "IPY_MODEL_b95a82c56cfb4ebdb0788241d14ee90f"
       ],
       "layout": "IPY_MODEL_a1d5d7975381420f944884a2a24d3156"
      }
     },
     "62d4f47ebd8146d59bbf747d0208f3d0": {
      "model_module": "@jupyter-widgets/controls",
      "model_module_version": "1.5.0",
      "model_name": "FloatProgressModel",
      "state": {
       "_dom_classes": [],
       "_model_module": "@jupyter-widgets/controls",
       "_model_module_version": "1.5.0",
       "_model_name": "FloatProgressModel",
       "_view_count": null,
       "_view_module": "@jupyter-widgets/controls",
       "_view_module_version": "1.5.0",
       "_view_name": "ProgressView",
       "bar_style": "success",
       "description": "",
       "description_tooltip": null,
       "layout": "IPY_MODEL_906cb8b5f89f4d1b84f50c74c4cebb11",
       "max": 570.0,
       "min": 0.0,
       "orientation": "horizontal",
       "style": "IPY_MODEL_03bda9e4cd5246298fa937c6e0375577",
       "value": 570.0
      }
     },
     "62dcc92de8544b80a9d1ff2878868a82": {
      "model_module": "@jupyter-widgets/base",
      "model_module_version": "1.2.0",
      "model_name": "LayoutModel",
      "state": {
       "_model_module": "@jupyter-widgets/base",
       "_model_module_version": "1.2.0",
       "_model_name": "LayoutModel",
       "_view_count": null,
       "_view_module": "@jupyter-widgets/base",
       "_view_module_version": "1.2.0",
       "_view_name": "LayoutView",
       "align_content": null,
       "align_items": null,
       "align_self": null,
       "border": null,
       "bottom": null,
       "display": null,
       "flex": null,
       "flex_flow": null,
       "grid_area": null,
       "grid_auto_columns": null,
       "grid_auto_flow": null,
       "grid_auto_rows": null,
       "grid_column": null,
       "grid_gap": null,
       "grid_row": null,
       "grid_template_areas": null,
       "grid_template_columns": null,
       "grid_template_rows": null,
       "height": null,
       "justify_content": null,
       "justify_items": null,
       "left": null,
       "margin": null,
       "max_height": null,
       "max_width": null,
       "min_height": null,
       "min_width": null,
       "object_fit": null,
       "object_position": null,
       "order": null,
       "overflow": null,
       "overflow_x": null,
       "overflow_y": null,
       "padding": null,
       "right": null,
       "top": null,
       "visibility": null,
       "width": null
      }
     },
     "66c5300fb2cc452780a7a24c95723ae3": {
      "model_module": "@jupyter-widgets/controls",
      "model_module_version": "1.5.0",
      "model_name": "HBoxModel",
      "state": {
       "_dom_classes": [],
       "_model_module": "@jupyter-widgets/controls",
       "_model_module_version": "1.5.0",
       "_model_name": "HBoxModel",
       "_view_count": null,
       "_view_module": "@jupyter-widgets/controls",
       "_view_module_version": "1.5.0",
       "_view_name": "HBoxView",
       "box_style": "",
       "children": [
        "IPY_MODEL_0e4a3101f5714939a3a358b7f8acc775",
        "IPY_MODEL_520ecfa3b6c74e2eaba033352e7016ba",
        "IPY_MODEL_1507cddc0cda4cd1b8429c2ddd29ce8f"
       ],
       "layout": "IPY_MODEL_e440791cc0794f6cbad606474608bd98"
      }
     },
     "6d8135aa674a4815b3e3e1adcafa7b4a": {
      "model_module": "@jupyter-widgets/controls",
      "model_module_version": "1.5.0",
      "model_name": "ProgressStyleModel",
      "state": {
       "_model_module": "@jupyter-widgets/controls",
       "_model_module_version": "1.5.0",
       "_model_name": "ProgressStyleModel",
       "_view_count": null,
       "_view_module": "@jupyter-widgets/base",
       "_view_module_version": "1.2.0",
       "_view_name": "StyleView",
       "bar_color": null,
       "description_width": ""
      }
     },
     "6eaa78c24e6247afa6dcdfb06f2b7e22": {
      "model_module": "@jupyter-widgets/controls",
      "model_module_version": "1.5.0",
      "model_name": "DescriptionStyleModel",
      "state": {
       "_model_module": "@jupyter-widgets/controls",
       "_model_module_version": "1.5.0",
       "_model_name": "DescriptionStyleModel",
       "_view_count": null,
       "_view_module": "@jupyter-widgets/base",
       "_view_module_version": "1.2.0",
       "_view_name": "StyleView",
       "description_width": ""
      }
     },
     "742522ecb9eb474cb767ceca015915ce": {
      "model_module": "@jupyter-widgets/base",
      "model_module_version": "1.2.0",
      "model_name": "LayoutModel",
      "state": {
       "_model_module": "@jupyter-widgets/base",
       "_model_module_version": "1.2.0",
       "_model_name": "LayoutModel",
       "_view_count": null,
       "_view_module": "@jupyter-widgets/base",
       "_view_module_version": "1.2.0",
       "_view_name": "LayoutView",
       "align_content": null,
       "align_items": null,
       "align_self": null,
       "border": null,
       "bottom": null,
       "display": null,
       "flex": null,
       "flex_flow": null,
       "grid_area": null,
       "grid_auto_columns": null,
       "grid_auto_flow": null,
       "grid_auto_rows": null,
       "grid_column": null,
       "grid_gap": null,
       "grid_row": null,
       "grid_template_areas": null,
       "grid_template_columns": null,
       "grid_template_rows": null,
       "height": null,
       "justify_content": null,
       "justify_items": null,
       "left": null,
       "margin": null,
       "max_height": null,
       "max_width": null,
       "min_height": null,
       "min_width": null,
       "object_fit": null,
       "object_position": null,
       "order": null,
       "overflow": null,
       "overflow_x": null,
       "overflow_y": null,
       "padding": null,
       "right": null,
       "top": null,
       "visibility": null,
       "width": null
      }
     },
     "776f848dbcad4f1f85e586774bf24bc0": {
      "model_module": "@jupyter-widgets/base",
      "model_module_version": "1.2.0",
      "model_name": "LayoutModel",
      "state": {
       "_model_module": "@jupyter-widgets/base",
       "_model_module_version": "1.2.0",
       "_model_name": "LayoutModel",
       "_view_count": null,
       "_view_module": "@jupyter-widgets/base",
       "_view_module_version": "1.2.0",
       "_view_name": "LayoutView",
       "align_content": null,
       "align_items": null,
       "align_self": null,
       "border": null,
       "bottom": null,
       "display": null,
       "flex": null,
       "flex_flow": null,
       "grid_area": null,
       "grid_auto_columns": null,
       "grid_auto_flow": null,
       "grid_auto_rows": null,
       "grid_column": null,
       "grid_gap": null,
       "grid_row": null,
       "grid_template_areas": null,
       "grid_template_columns": null,
       "grid_template_rows": null,
       "height": null,
       "justify_content": null,
       "justify_items": null,
       "left": null,
       "margin": null,
       "max_height": null,
       "max_width": null,
       "min_height": null,
       "min_width": null,
       "object_fit": null,
       "object_position": null,
       "order": null,
       "overflow": null,
       "overflow_x": null,
       "overflow_y": null,
       "padding": null,
       "right": null,
       "top": null,
       "visibility": null,
       "width": null
      }
     },
     "7e3f20ec630a4854a4a2f42868dfd492": {
      "model_module": "@jupyter-widgets/base",
      "model_module_version": "1.2.0",
      "model_name": "LayoutModel",
      "state": {
       "_model_module": "@jupyter-widgets/base",
       "_model_module_version": "1.2.0",
       "_model_name": "LayoutModel",
       "_view_count": null,
       "_view_module": "@jupyter-widgets/base",
       "_view_module_version": "1.2.0",
       "_view_name": "LayoutView",
       "align_content": null,
       "align_items": null,
       "align_self": null,
       "border": null,
       "bottom": null,
       "display": null,
       "flex": null,
       "flex_flow": null,
       "grid_area": null,
       "grid_auto_columns": null,
       "grid_auto_flow": null,
       "grid_auto_rows": null,
       "grid_column": null,
       "grid_gap": null,
       "grid_row": null,
       "grid_template_areas": null,
       "grid_template_columns": null,
       "grid_template_rows": null,
       "height": null,
       "justify_content": null,
       "justify_items": null,
       "left": null,
       "margin": null,
       "max_height": null,
       "max_width": null,
       "min_height": null,
       "min_width": null,
       "object_fit": null,
       "object_position": null,
       "order": null,
       "overflow": null,
       "overflow_x": null,
       "overflow_y": null,
       "padding": null,
       "right": null,
       "top": null,
       "visibility": null,
       "width": null
      }
     },
     "7f3d09eef3c64d2483cc5d607e2c8727": {
      "model_module": "@jupyter-widgets/base",
      "model_module_version": "1.2.0",
      "model_name": "LayoutModel",
      "state": {
       "_model_module": "@jupyter-widgets/base",
       "_model_module_version": "1.2.0",
       "_model_name": "LayoutModel",
       "_view_count": null,
       "_view_module": "@jupyter-widgets/base",
       "_view_module_version": "1.2.0",
       "_view_name": "LayoutView",
       "align_content": null,
       "align_items": null,
       "align_self": null,
       "border": null,
       "bottom": null,
       "display": null,
       "flex": null,
       "flex_flow": null,
       "grid_area": null,
       "grid_auto_columns": null,
       "grid_auto_flow": null,
       "grid_auto_rows": null,
       "grid_column": null,
       "grid_gap": null,
       "grid_row": null,
       "grid_template_areas": null,
       "grid_template_columns": null,
       "grid_template_rows": null,
       "height": null,
       "justify_content": null,
       "justify_items": null,
       "left": null,
       "margin": null,
       "max_height": null,
       "max_width": null,
       "min_height": null,
       "min_width": null,
       "object_fit": null,
       "object_position": null,
       "order": null,
       "overflow": null,
       "overflow_x": null,
       "overflow_y": null,
       "padding": null,
       "right": null,
       "top": null,
       "visibility": null,
       "width": null
      }
     },
     "7f4ad7180ea5462380ca2f2337372b78": {
      "model_module": "@jupyter-widgets/controls",
      "model_module_version": "1.5.0",
      "model_name": "DescriptionStyleModel",
      "state": {
       "_model_module": "@jupyter-widgets/controls",
       "_model_module_version": "1.5.0",
       "_model_name": "DescriptionStyleModel",
       "_view_count": null,
       "_view_module": "@jupyter-widgets/base",
       "_view_module_version": "1.2.0",
       "_view_name": "StyleView",
       "description_width": ""
      }
     },
     "8312395bd50249f7a7e0823c2424c2e0": {
      "model_module": "@jupyter-widgets/controls",
      "model_module_version": "1.5.0",
      "model_name": "HBoxModel",
      "state": {
       "_dom_classes": [],
       "_model_module": "@jupyter-widgets/controls",
       "_model_module_version": "1.5.0",
       "_model_name": "HBoxModel",
       "_view_count": null,
       "_view_module": "@jupyter-widgets/controls",
       "_view_module_version": "1.5.0",
       "_view_name": "HBoxView",
       "box_style": "",
       "children": [
        "IPY_MODEL_00e1d06bc630427f8566a1cc471c9661",
        "IPY_MODEL_078ad39b937f4e02aef9d276a6c2bc61",
        "IPY_MODEL_128a620b5ce9462487ad80d6c3ffec98"
       ],
       "layout": "IPY_MODEL_e7c3ae3b124943a8b854bc264145018d"
      }
     },
     "8947388d808646ba8dfe2ae6f91ced12": {
      "model_module": "@jupyter-widgets/base",
      "model_module_version": "1.2.0",
      "model_name": "LayoutModel",
      "state": {
       "_model_module": "@jupyter-widgets/base",
       "_model_module_version": "1.2.0",
       "_model_name": "LayoutModel",
       "_view_count": null,
       "_view_module": "@jupyter-widgets/base",
       "_view_module_version": "1.2.0",
       "_view_name": "LayoutView",
       "align_content": null,
       "align_items": null,
       "align_self": null,
       "border": null,
       "bottom": null,
       "display": null,
       "flex": null,
       "flex_flow": null,
       "grid_area": null,
       "grid_auto_columns": null,
       "grid_auto_flow": null,
       "grid_auto_rows": null,
       "grid_column": null,
       "grid_gap": null,
       "grid_row": null,
       "grid_template_areas": null,
       "grid_template_columns": null,
       "grid_template_rows": null,
       "height": null,
       "justify_content": null,
       "justify_items": null,
       "left": null,
       "margin": null,
       "max_height": null,
       "max_width": null,
       "min_height": null,
       "min_width": null,
       "object_fit": null,
       "object_position": null,
       "order": null,
       "overflow": null,
       "overflow_x": null,
       "overflow_y": null,
       "padding": null,
       "right": null,
       "top": null,
       "visibility": null,
       "width": null
      }
     },
     "8ed92d0325de48afa9942abf35a42d9e": {
      "model_module": "@jupyter-widgets/controls",
      "model_module_version": "1.5.0",
      "model_name": "ProgressStyleModel",
      "state": {
       "_model_module": "@jupyter-widgets/controls",
       "_model_module_version": "1.5.0",
       "_model_name": "ProgressStyleModel",
       "_view_count": null,
       "_view_module": "@jupyter-widgets/base",
       "_view_module_version": "1.2.0",
       "_view_name": "StyleView",
       "bar_color": null,
       "description_width": ""
      }
     },
     "902ad818b6314569ac3fbb2a33d0e25b": {
      "model_module": "@jupyter-widgets/base",
      "model_module_version": "1.2.0",
      "model_name": "LayoutModel",
      "state": {
       "_model_module": "@jupyter-widgets/base",
       "_model_module_version": "1.2.0",
       "_model_name": "LayoutModel",
       "_view_count": null,
       "_view_module": "@jupyter-widgets/base",
       "_view_module_version": "1.2.0",
       "_view_name": "LayoutView",
       "align_content": null,
       "align_items": null,
       "align_self": null,
       "border": null,
       "bottom": null,
       "display": null,
       "flex": null,
       "flex_flow": null,
       "grid_area": null,
       "grid_auto_columns": null,
       "grid_auto_flow": null,
       "grid_auto_rows": null,
       "grid_column": null,
       "grid_gap": null,
       "grid_row": null,
       "grid_template_areas": null,
       "grid_template_columns": null,
       "grid_template_rows": null,
       "height": null,
       "justify_content": null,
       "justify_items": null,
       "left": null,
       "margin": null,
       "max_height": null,
       "max_width": null,
       "min_height": null,
       "min_width": null,
       "object_fit": null,
       "object_position": null,
       "order": null,
       "overflow": null,
       "overflow_x": null,
       "overflow_y": null,
       "padding": null,
       "right": null,
       "top": null,
       "visibility": null,
       "width": null
      }
     },
     "906cb8b5f89f4d1b84f50c74c4cebb11": {
      "model_module": "@jupyter-widgets/base",
      "model_module_version": "1.2.0",
      "model_name": "LayoutModel",
      "state": {
       "_model_module": "@jupyter-widgets/base",
       "_model_module_version": "1.2.0",
       "_model_name": "LayoutModel",
       "_view_count": null,
       "_view_module": "@jupyter-widgets/base",
       "_view_module_version": "1.2.0",
       "_view_name": "LayoutView",
       "align_content": null,
       "align_items": null,
       "align_self": null,
       "border": null,
       "bottom": null,
       "display": null,
       "flex": null,
       "flex_flow": null,
       "grid_area": null,
       "grid_auto_columns": null,
       "grid_auto_flow": null,
       "grid_auto_rows": null,
       "grid_column": null,
       "grid_gap": null,
       "grid_row": null,
       "grid_template_areas": null,
       "grid_template_columns": null,
       "grid_template_rows": null,
       "height": null,
       "justify_content": null,
       "justify_items": null,
       "left": null,
       "margin": null,
       "max_height": null,
       "max_width": null,
       "min_height": null,
       "min_width": null,
       "object_fit": null,
       "object_position": null,
       "order": null,
       "overflow": null,
       "overflow_x": null,
       "overflow_y": null,
       "padding": null,
       "right": null,
       "top": null,
       "visibility": null,
       "width": null
      }
     },
     "94238534ca394ae3a438128f40677ed9": {
      "model_module": "@jupyter-widgets/base",
      "model_module_version": "1.2.0",
      "model_name": "LayoutModel",
      "state": {
       "_model_module": "@jupyter-widgets/base",
       "_model_module_version": "1.2.0",
       "_model_name": "LayoutModel",
       "_view_count": null,
       "_view_module": "@jupyter-widgets/base",
       "_view_module_version": "1.2.0",
       "_view_name": "LayoutView",
       "align_content": null,
       "align_items": null,
       "align_self": null,
       "border": null,
       "bottom": null,
       "display": null,
       "flex": null,
       "flex_flow": null,
       "grid_area": null,
       "grid_auto_columns": null,
       "grid_auto_flow": null,
       "grid_auto_rows": null,
       "grid_column": null,
       "grid_gap": null,
       "grid_row": null,
       "grid_template_areas": null,
       "grid_template_columns": null,
       "grid_template_rows": null,
       "height": null,
       "justify_content": null,
       "justify_items": null,
       "left": null,
       "margin": null,
       "max_height": null,
       "max_width": null,
       "min_height": null,
       "min_width": null,
       "object_fit": null,
       "object_position": null,
       "order": null,
       "overflow": null,
       "overflow_x": null,
       "overflow_y": null,
       "padding": null,
       "right": null,
       "top": null,
       "visibility": null,
       "width": null
      }
     },
     "9858a09f315848e880637c0cb5bad835": {
      "model_module": "@jupyter-widgets/controls",
      "model_module_version": "1.5.0",
      "model_name": "DescriptionStyleModel",
      "state": {
       "_model_module": "@jupyter-widgets/controls",
       "_model_module_version": "1.5.0",
       "_model_name": "DescriptionStyleModel",
       "_view_count": null,
       "_view_module": "@jupyter-widgets/base",
       "_view_module_version": "1.2.0",
       "_view_name": "StyleView",
       "description_width": ""
      }
     },
     "995e3fd88eba488899e7451018934b8d": {
      "model_module": "@jupyter-widgets/base",
      "model_module_version": "1.2.0",
      "model_name": "LayoutModel",
      "state": {
       "_model_module": "@jupyter-widgets/base",
       "_model_module_version": "1.2.0",
       "_model_name": "LayoutModel",
       "_view_count": null,
       "_view_module": "@jupyter-widgets/base",
       "_view_module_version": "1.2.0",
       "_view_name": "LayoutView",
       "align_content": null,
       "align_items": null,
       "align_self": null,
       "border": null,
       "bottom": null,
       "display": null,
       "flex": null,
       "flex_flow": null,
       "grid_area": null,
       "grid_auto_columns": null,
       "grid_auto_flow": null,
       "grid_auto_rows": null,
       "grid_column": null,
       "grid_gap": null,
       "grid_row": null,
       "grid_template_areas": null,
       "grid_template_columns": null,
       "grid_template_rows": null,
       "height": null,
       "justify_content": null,
       "justify_items": null,
       "left": null,
       "margin": null,
       "max_height": null,
       "max_width": null,
       "min_height": null,
       "min_width": null,
       "object_fit": null,
       "object_position": null,
       "order": null,
       "overflow": null,
       "overflow_x": null,
       "overflow_y": null,
       "padding": null,
       "right": null,
       "top": null,
       "visibility": null,
       "width": null
      }
     },
     "9b2a32d797fc476bb06e57c4e052cf4d": {
      "model_module": "@jupyter-widgets/controls",
      "model_module_version": "1.5.0",
      "model_name": "ProgressStyleModel",
      "state": {
       "_model_module": "@jupyter-widgets/controls",
       "_model_module_version": "1.5.0",
       "_model_name": "ProgressStyleModel",
       "_view_count": null,
       "_view_module": "@jupyter-widgets/base",
       "_view_module_version": "1.2.0",
       "_view_name": "StyleView",
       "bar_color": null,
       "description_width": ""
      }
     },
     "a1d5d7975381420f944884a2a24d3156": {
      "model_module": "@jupyter-widgets/base",
      "model_module_version": "1.2.0",
      "model_name": "LayoutModel",
      "state": {
       "_model_module": "@jupyter-widgets/base",
       "_model_module_version": "1.2.0",
       "_model_name": "LayoutModel",
       "_view_count": null,
       "_view_module": "@jupyter-widgets/base",
       "_view_module_version": "1.2.0",
       "_view_name": "LayoutView",
       "align_content": null,
       "align_items": null,
       "align_self": null,
       "border": null,
       "bottom": null,
       "display": null,
       "flex": null,
       "flex_flow": null,
       "grid_area": null,
       "grid_auto_columns": null,
       "grid_auto_flow": null,
       "grid_auto_rows": null,
       "grid_column": null,
       "grid_gap": null,
       "grid_row": null,
       "grid_template_areas": null,
       "grid_template_columns": null,
       "grid_template_rows": null,
       "height": null,
       "justify_content": null,
       "justify_items": null,
       "left": null,
       "margin": null,
       "max_height": null,
       "max_width": null,
       "min_height": null,
       "min_width": null,
       "object_fit": null,
       "object_position": null,
       "order": null,
       "overflow": null,
       "overflow_x": null,
       "overflow_y": null,
       "padding": null,
       "right": null,
       "top": null,
       "visibility": null,
       "width": null
      }
     },
     "a7486ba87442449b948eed28a6a49a5f": {
      "model_module": "@jupyter-widgets/controls",
      "model_module_version": "1.5.0",
      "model_name": "DescriptionStyleModel",
      "state": {
       "_model_module": "@jupyter-widgets/controls",
       "_model_module_version": "1.5.0",
       "_model_name": "DescriptionStyleModel",
       "_view_count": null,
       "_view_module": "@jupyter-widgets/base",
       "_view_module_version": "1.2.0",
       "_view_name": "StyleView",
       "description_width": ""
      }
     },
     "a8fd8c79f50b4a40a18553dc1e20478a": {
      "model_module": "@jupyter-widgets/controls",
      "model_module_version": "1.5.0",
      "model_name": "DescriptionStyleModel",
      "state": {
       "_model_module": "@jupyter-widgets/controls",
       "_model_module_version": "1.5.0",
       "_model_name": "DescriptionStyleModel",
       "_view_count": null,
       "_view_module": "@jupyter-widgets/base",
       "_view_module_version": "1.2.0",
       "_view_name": "StyleView",
       "description_width": ""
      }
     },
     "b1efb89a091d45f3ab5a46d57f3da748": {
      "model_module": "@jupyter-widgets/base",
      "model_module_version": "1.2.0",
      "model_name": "LayoutModel",
      "state": {
       "_model_module": "@jupyter-widgets/base",
       "_model_module_version": "1.2.0",
       "_model_name": "LayoutModel",
       "_view_count": null,
       "_view_module": "@jupyter-widgets/base",
       "_view_module_version": "1.2.0",
       "_view_name": "LayoutView",
       "align_content": null,
       "align_items": null,
       "align_self": null,
       "border": null,
       "bottom": null,
       "display": null,
       "flex": null,
       "flex_flow": null,
       "grid_area": null,
       "grid_auto_columns": null,
       "grid_auto_flow": null,
       "grid_auto_rows": null,
       "grid_column": null,
       "grid_gap": null,
       "grid_row": null,
       "grid_template_areas": null,
       "grid_template_columns": null,
       "grid_template_rows": null,
       "height": null,
       "justify_content": null,
       "justify_items": null,
       "left": null,
       "margin": null,
       "max_height": null,
       "max_width": null,
       "min_height": null,
       "min_width": null,
       "object_fit": null,
       "object_position": null,
       "order": null,
       "overflow": null,
       "overflow_x": null,
       "overflow_y": null,
       "padding": null,
       "right": null,
       "top": null,
       "visibility": null,
       "width": null
      }
     },
     "b82a9d647625456c99854bd12573d16b": {
      "model_module": "@jupyter-widgets/controls",
      "model_module_version": "1.5.0",
      "model_name": "DescriptionStyleModel",
      "state": {
       "_model_module": "@jupyter-widgets/controls",
       "_model_module_version": "1.5.0",
       "_model_name": "DescriptionStyleModel",
       "_view_count": null,
       "_view_module": "@jupyter-widgets/base",
       "_view_module_version": "1.2.0",
       "_view_name": "StyleView",
       "description_width": ""
      }
     },
     "b95a82c56cfb4ebdb0788241d14ee90f": {
      "model_module": "@jupyter-widgets/controls",
      "model_module_version": "1.5.0",
      "model_name": "HTMLModel",
      "state": {
       "_dom_classes": [],
       "_model_module": "@jupyter-widgets/controls",
       "_model_module_version": "1.5.0",
       "_model_name": "HTMLModel",
       "_view_count": null,
       "_view_module": "@jupyter-widgets/controls",
       "_view_module_version": "1.5.0",
       "_view_name": "HTMLView",
       "description": "",
       "description_tooltip": null,
       "layout": "IPY_MODEL_3264e0853daf4befbd9262c9941ff540",
       "placeholder": "​",
       "style": "IPY_MODEL_7f4ad7180ea5462380ca2f2337372b78",
       "value": " 570/570 [00:00&lt;00:00, 50.5kB/s]"
      }
     },
     "c6b7ebcf11284065a7e03f58a6b823e6": {
      "model_module": "@jupyter-widgets/controls",
      "model_module_version": "1.5.0",
      "model_name": "FloatProgressModel",
      "state": {
       "_dom_classes": [],
       "_model_module": "@jupyter-widgets/controls",
       "_model_module_version": "1.5.0",
       "_model_name": "FloatProgressModel",
       "_view_count": null,
       "_view_module": "@jupyter-widgets/controls",
       "_view_module_version": "1.5.0",
       "_view_name": "ProgressView",
       "bar_style": "success",
       "description": "",
       "description_tooltip": null,
       "layout": "IPY_MODEL_7e3f20ec630a4854a4a2f42868dfd492",
       "max": 440449768.0,
       "min": 0.0,
       "orientation": "horizontal",
       "style": "IPY_MODEL_c754a1945918465683a2d0b05d3fb31f",
       "value": 440449768.0
      }
     },
     "c754a1945918465683a2d0b05d3fb31f": {
      "model_module": "@jupyter-widgets/controls",
      "model_module_version": "1.5.0",
      "model_name": "ProgressStyleModel",
      "state": {
       "_model_module": "@jupyter-widgets/controls",
       "_model_module_version": "1.5.0",
       "_model_name": "ProgressStyleModel",
       "_view_count": null,
       "_view_module": "@jupyter-widgets/base",
       "_view_module_version": "1.2.0",
       "_view_name": "StyleView",
       "bar_color": null,
       "description_width": ""
      }
     },
     "d5898ce3c4734e069056ca946df17b1f": {
      "model_module": "@jupyter-widgets/controls",
      "model_module_version": "1.5.0",
      "model_name": "DescriptionStyleModel",
      "state": {
       "_model_module": "@jupyter-widgets/controls",
       "_model_module_version": "1.5.0",
       "_model_name": "DescriptionStyleModel",
       "_view_count": null,
       "_view_module": "@jupyter-widgets/base",
       "_view_module_version": "1.2.0",
       "_view_name": "StyleView",
       "description_width": ""
      }
     },
     "dbe52475cece4a3fbad33bbc3bf66c52": {
      "model_module": "@jupyter-widgets/controls",
      "model_module_version": "1.5.0",
      "model_name": "HBoxModel",
      "state": {
       "_dom_classes": [],
       "_model_module": "@jupyter-widgets/controls",
       "_model_module_version": "1.5.0",
       "_model_name": "HBoxModel",
       "_view_count": null,
       "_view_module": "@jupyter-widgets/controls",
       "_view_module_version": "1.5.0",
       "_view_name": "HBoxView",
       "box_style": "",
       "children": [
        "IPY_MODEL_f3e19106c247471aab57cc7d608b4847",
        "IPY_MODEL_c6b7ebcf11284065a7e03f58a6b823e6",
        "IPY_MODEL_22fb856519fd4e15ae905a4988dc0441"
       ],
       "layout": "IPY_MODEL_995e3fd88eba488899e7451018934b8d"
      }
     },
     "deaccca7ecb04a56a60acdd348888569": {
      "model_module": "@jupyter-widgets/controls",
      "model_module_version": "1.5.0",
      "model_name": "HTMLModel",
      "state": {
       "_dom_classes": [],
       "_model_module": "@jupyter-widgets/controls",
       "_model_module_version": "1.5.0",
       "_model_name": "HTMLModel",
       "_view_count": null,
       "_view_module": "@jupyter-widgets/controls",
       "_view_module_version": "1.5.0",
       "_view_name": "HTMLView",
       "description": "",
       "description_tooltip": null,
       "layout": "IPY_MODEL_50fa7706615c4deaa967d88955c2b9b2",
       "placeholder": "​",
       "style": "IPY_MODEL_1ef804aa7c854caab8c64621eeddc3aa",
       "value": "config.json: 100%"
      }
     },
     "df908b024c8b49faae67a5c087223a6a": {
      "model_module": "@jupyter-widgets/base",
      "model_module_version": "1.2.0",
      "model_name": "LayoutModel",
      "state": {
       "_model_module": "@jupyter-widgets/base",
       "_model_module_version": "1.2.0",
       "_model_name": "LayoutModel",
       "_view_count": null,
       "_view_module": "@jupyter-widgets/base",
       "_view_module_version": "1.2.0",
       "_view_name": "LayoutView",
       "align_content": null,
       "align_items": null,
       "align_self": null,
       "border": null,
       "bottom": null,
       "display": null,
       "flex": null,
       "flex_flow": null,
       "grid_area": null,
       "grid_auto_columns": null,
       "grid_auto_flow": null,
       "grid_auto_rows": null,
       "grid_column": null,
       "grid_gap": null,
       "grid_row": null,
       "grid_template_areas": null,
       "grid_template_columns": null,
       "grid_template_rows": null,
       "height": null,
       "justify_content": null,
       "justify_items": null,
       "left": null,
       "margin": null,
       "max_height": null,
       "max_width": null,
       "min_height": null,
       "min_width": null,
       "object_fit": null,
       "object_position": null,
       "order": null,
       "overflow": null,
       "overflow_x": null,
       "overflow_y": null,
       "padding": null,
       "right": null,
       "top": null,
       "visibility": null,
       "width": null
      }
     },
     "e440791cc0794f6cbad606474608bd98": {
      "model_module": "@jupyter-widgets/base",
      "model_module_version": "1.2.0",
      "model_name": "LayoutModel",
      "state": {
       "_model_module": "@jupyter-widgets/base",
       "_model_module_version": "1.2.0",
       "_model_name": "LayoutModel",
       "_view_count": null,
       "_view_module": "@jupyter-widgets/base",
       "_view_module_version": "1.2.0",
       "_view_name": "LayoutView",
       "align_content": null,
       "align_items": null,
       "align_self": null,
       "border": null,
       "bottom": null,
       "display": null,
       "flex": null,
       "flex_flow": null,
       "grid_area": null,
       "grid_auto_columns": null,
       "grid_auto_flow": null,
       "grid_auto_rows": null,
       "grid_column": null,
       "grid_gap": null,
       "grid_row": null,
       "grid_template_areas": null,
       "grid_template_columns": null,
       "grid_template_rows": null,
       "height": null,
       "justify_content": null,
       "justify_items": null,
       "left": null,
       "margin": null,
       "max_height": null,
       "max_width": null,
       "min_height": null,
       "min_width": null,
       "object_fit": null,
       "object_position": null,
       "order": null,
       "overflow": null,
       "overflow_x": null,
       "overflow_y": null,
       "padding": null,
       "right": null,
       "top": null,
       "visibility": null,
       "width": null
      }
     },
     "e7c3ae3b124943a8b854bc264145018d": {
      "model_module": "@jupyter-widgets/base",
      "model_module_version": "1.2.0",
      "model_name": "LayoutModel",
      "state": {
       "_model_module": "@jupyter-widgets/base",
       "_model_module_version": "1.2.0",
       "_model_name": "LayoutModel",
       "_view_count": null,
       "_view_module": "@jupyter-widgets/base",
       "_view_module_version": "1.2.0",
       "_view_name": "LayoutView",
       "align_content": null,
       "align_items": null,
       "align_self": null,
       "border": null,
       "bottom": null,
       "display": null,
       "flex": null,
       "flex_flow": null,
       "grid_area": null,
       "grid_auto_columns": null,
       "grid_auto_flow": null,
       "grid_auto_rows": null,
       "grid_column": null,
       "grid_gap": null,
       "grid_row": null,
       "grid_template_areas": null,
       "grid_template_columns": null,
       "grid_template_rows": null,
       "height": null,
       "justify_content": null,
       "justify_items": null,
       "left": null,
       "margin": null,
       "max_height": null,
       "max_width": null,
       "min_height": null,
       "min_width": null,
       "object_fit": null,
       "object_position": null,
       "order": null,
       "overflow": null,
       "overflow_x": null,
       "overflow_y": null,
       "padding": null,
       "right": null,
       "top": null,
       "visibility": null,
       "width": null
      }
     },
     "f3e19106c247471aab57cc7d608b4847": {
      "model_module": "@jupyter-widgets/controls",
      "model_module_version": "1.5.0",
      "model_name": "HTMLModel",
      "state": {
       "_dom_classes": [],
       "_model_module": "@jupyter-widgets/controls",
       "_model_module_version": "1.5.0",
       "_model_name": "HTMLModel",
       "_view_count": null,
       "_view_module": "@jupyter-widgets/controls",
       "_view_module_version": "1.5.0",
       "_view_name": "HTMLView",
       "description": "",
       "description_tooltip": null,
       "layout": "IPY_MODEL_94238534ca394ae3a438128f40677ed9",
       "placeholder": "​",
       "style": "IPY_MODEL_a7486ba87442449b948eed28a6a49a5f",
       "value": "model.safetensors: 100%"
      }
     },
     "fd27a73358704c9da66a6db35b5525c9": {
      "model_module": "@jupyter-widgets/base",
      "model_module_version": "1.2.0",
      "model_name": "LayoutModel",
      "state": {
       "_model_module": "@jupyter-widgets/base",
       "_model_module_version": "1.2.0",
       "_model_name": "LayoutModel",
       "_view_count": null,
       "_view_module": "@jupyter-widgets/base",
       "_view_module_version": "1.2.0",
       "_view_name": "LayoutView",
       "align_content": null,
       "align_items": null,
       "align_self": null,
       "border": null,
       "bottom": null,
       "display": null,
       "flex": null,
       "flex_flow": null,
       "grid_area": null,
       "grid_auto_columns": null,
       "grid_auto_flow": null,
       "grid_auto_rows": null,
       "grid_column": null,
       "grid_gap": null,
       "grid_row": null,
       "grid_template_areas": null,
       "grid_template_columns": null,
       "grid_template_rows": null,
       "height": null,
       "justify_content": null,
       "justify_items": null,
       "left": null,
       "margin": null,
       "max_height": null,
       "max_width": null,
       "min_height": null,
       "min_width": null,
       "object_fit": null,
       "object_position": null,
       "order": null,
       "overflow": null,
       "overflow_x": null,
       "overflow_y": null,
       "padding": null,
       "right": null,
       "top": null,
       "visibility": null,
       "width": null
      }
     }
    },
    "version_major": 2,
    "version_minor": 0
   }
  }
 },
 "nbformat": 4,
 "nbformat_minor": 5
}
